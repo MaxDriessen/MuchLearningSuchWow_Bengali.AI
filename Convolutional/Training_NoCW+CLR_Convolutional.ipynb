{
 "cells": [
  {
   "cell_type": "markdown",
   "metadata": {
    "colab_type": "text",
    "id": "MSppT2PsyZPq"
   },
   "source": [
    "# Bengali.AI Competition - Model Training (Convolutional)\n",
    "\n",
    "### Team MuchLearningSuchWow\n",
    "\n",
    "This notebook contains the code that we used to train the convolutional network without cyclical learning rate and class weights. The core of this code (network, training procedure, etc.) is based on [this kernel](https://www.kaggle.com/kaushal2896/bengali-graphemes-starter-eda-multi-output-cnn). This notebook uses the preprocessed data as produced by our preprocessing notebook. Note that this code is not intended to run on kaggle; to run this code on kaggle, add \"/kaggle/\" in front of all filenames."
   ]
  },
  {
   "cell_type": "markdown",
   "metadata": {
    "colab_type": "text",
    "id": "wFflJ8FwyZPy"
   },
   "source": [
    "## Imports"
   ]
  },
  {
   "cell_type": "code",
   "execution_count": 0,
   "metadata": {
    "colab": {
     "base_uri": "https://localhost:8080/",
     "height": 99
    },
    "colab_type": "code",
    "executionInfo": {
     "elapsed": 21871,
     "status": "ok",
     "timestamp": 1584571247092,
     "user": {
      "displayName": "Max Driessen",
      "photoUrl": "",
      "userId": "00614379715334685697"
     },
     "user_tz": -60
    },
    "id": "m9Y8sjRryZP0",
    "outputId": "cf7f0807-5ab6-40a6-da25-6ca3a3af140f"
   },
   "outputs": [
    {
     "data": {
      "text/html": [
       "<p style=\"color: red;\">\n",
       "The default version of TensorFlow in Colab will soon switch to TensorFlow 2.x.<br>\n",
       "We recommend you <a href=\"https://www.tensorflow.org/guide/migrate\" target=\"_blank\">upgrade</a> now \n",
       "or ensure your notebook will continue to use TensorFlow 1.x via the <code>%tensorflow_version 1.x</code> magic:\n",
       "<a href=\"https://colab.research.google.com/notebooks/tensorflow_version.ipynb\" target=\"_blank\">more info</a>.</p>\n"
      ],
      "text/plain": [
       "<IPython.core.display.HTML object>"
      ]
     },
     "metadata": {
      "tags": []
     },
     "output_type": "display_data"
    },
    {
     "name": "stderr",
     "output_type": "stream",
     "text": [
      "Using TensorFlow backend.\n"
     ]
    }
   ],
   "source": [
    "import numpy as np\n",
    "import pandas as pd\n",
    "from tqdm.auto import tqdm\n",
    "from glob import glob\n",
    "import time, gc\n",
    "import cv2\n",
    "import os\n",
    "import pickle\n",
    "\n",
    "from tensorflow import keras\n",
    "import matplotlib.image as mpimg\n",
    "from keras.preprocessing.image import ImageDataGenerator\n",
    "from keras.models import Model\n",
    "from keras.models import clone_model\n",
    "from keras.layers import Dense,Conv2D,Flatten,MaxPool2D,Dropout,BatchNormalization,Input\n",
    "from keras.optimizers import Adam\n",
    "from keras.callbacks import ReduceLROnPlateau, Callback, ModelCheckpoint\n",
    "from keras import backend as K\n",
    "from sklearn.model_selection import train_test_split, StratifiedKFold\n",
    "from sklearn.metrics import confusion_matrix\n",
    "import PIL.Image as Image, PIL.ImageDraw as ImageDraw, PIL.ImageFont as ImageFont\n",
    "from matplotlib import pyplot as plt\n",
    "import seaborn as sns"
   ]
  },
  {
   "cell_type": "markdown",
   "metadata": {
    "colab_type": "text",
    "id": "ozAjTbQvyZP5"
   },
   "source": [
    "## Constants"
   ]
  },
  {
   "cell_type": "code",
   "execution_count": 0,
   "metadata": {
    "colab": {},
    "colab_type": "code",
    "id": "Sy7BbE6eyZP6"
   },
   "outputs": [],
   "source": [
    "IMG_SIZE=64\n",
    "N_CHANNELS=1"
   ]
  },
  {
   "cell_type": "markdown",
   "metadata": {
    "colab_type": "text",
    "id": "VHI7UgKHyZQA"
   },
   "source": [
    "## Filenames"
   ]
  },
  {
   "cell_type": "code",
   "execution_count": 0,
   "metadata": {
    "colab": {},
    "colab_type": "code",
    "id": "tSepS-jTyZQC"
   },
   "outputs": [],
   "source": [
    "for dirname, _, filenames in os.walk('input'):\n",
    "    for filename in filenames:\n",
    "        print(os.path.join(dirname, filename))"
   ]
  },
  {
   "cell_type": "code",
   "execution_count": 0,
   "metadata": {
    "colab": {},
    "colab_type": "code",
    "id": "t-mA8znAyZQH"
   },
   "outputs": [],
   "source": [
    "train_df_filename = \"input/bengaliai-cv19/train.csv\"\n",
    "train_filename = \"output/train_image_data_preprocessed.parquet\"\n",
    "model_filename = \"output/best_model_conv_NoCW+CLR.hdf5\""
   ]
  },
  {
   "cell_type": "code",
   "execution_count": null,
   "metadata": {},
   "outputs": [],
   "source": [
    "if not os.path.isdir('output'):\n",
    "    os.mkdir('output')"
   ]
  },
  {
   "cell_type": "markdown",
   "metadata": {
    "colab_type": "text",
    "id": "KUDfJYnZyZQM"
   },
   "source": [
    "## Load Dataframes"
   ]
  },
  {
   "cell_type": "code",
   "execution_count": 0,
   "metadata": {
    "colab": {},
    "colab_type": "code",
    "id": "4Ozb5FbJyZQN"
   },
   "outputs": [],
   "source": [
    "train_df = pd.read_csv(train_df_filename)"
   ]
  },
  {
   "cell_type": "code",
   "execution_count": 0,
   "metadata": {
    "colab": {
     "base_uri": "https://localhost:8080/",
     "height": 35
    },
    "colab_type": "code",
    "executionInfo": {
     "elapsed": 22558,
     "status": "ok",
     "timestamp": 1584571247824,
     "user": {
      "displayName": "Max Driessen",
      "photoUrl": "",
      "userId": "00614379715334685697"
     },
     "user_tz": -60
    },
    "id": "znAUNK4OyZQR",
    "outputId": "1e9b350a-3d4d-4ff2-cc91-f310f47ed56e"
   },
   "outputs": [
    {
     "name": "stdout",
     "output_type": "stream",
     "text": [
      "Size of training data: (200840, 5)\n"
     ]
    }
   ],
   "source": [
    "print(f'Size of training data: {train_df.shape}')"
   ]
  },
  {
   "cell_type": "code",
   "execution_count": 0,
   "metadata": {
    "colab": {},
    "colab_type": "code",
    "id": "cpQnIVegyZQW"
   },
   "outputs": [],
   "source": [
    "train_df = train_df.drop(['grapheme'], axis=1, inplace=False)\n",
    "train_df[['grapheme_root', 'vowel_diacritic', 'consonant_diacritic']] = train_df[['grapheme_root', 'vowel_diacritic', 'consonant_diacritic']].astype('uint8')"
   ]
  },
  {
   "cell_type": "code",
   "execution_count": 0,
   "metadata": {
    "colab": {},
    "colab_type": "code",
    "id": "W9zfrEMVyZQb"
   },
   "outputs": [],
   "source": [
    "def get_dummies(df):\n",
    "    cols = []\n",
    "    for col in df:\n",
    "        cols.append(pd.get_dummies(df[col].astype(str)))\n",
    "    return pd.concat(cols, axis=1)"
   ]
  },
  {
   "cell_type": "markdown",
   "metadata": {
    "colab_type": "text",
    "id": "ZiU9EWJVyZQj"
   },
   "source": [
    "## Building Convolutional Model"
   ]
  },
  {
   "cell_type": "code",
   "execution_count": 0,
   "metadata": {
    "colab": {},
    "colab_type": "code",
    "id": "AwCYl8QCyZQk"
   },
   "outputs": [],
   "source": [
    "def build_convolutional():\n",
    "    inputs = Input(shape = (IMG_SIZE, IMG_SIZE, 1))\n",
    "\n",
    "    model = Conv2D(filters=32, kernel_size=(3, 3), padding='SAME', activation='relu', input_shape=(IMG_SIZE, IMG_SIZE, 1))(inputs)\n",
    "    model = Conv2D(filters=32, kernel_size=(3, 3), padding='SAME', activation='relu')(model)\n",
    "    model = Conv2D(filters=32, kernel_size=(3, 3), padding='SAME', activation='relu')(model)\n",
    "    model = Conv2D(filters=32, kernel_size=(3, 3), padding='SAME', activation='relu')(model)\n",
    "    model = BatchNormalization(momentum=0.15)(model)\n",
    "    model = MaxPool2D(pool_size=(2, 2))(model)\n",
    "    model = Conv2D(filters=32, kernel_size=(5, 5), padding='SAME', activation='relu')(model)\n",
    "    model = Dropout(rate=0.3)(model)\n",
    "\n",
    "    model = Conv2D(filters=64, kernel_size=(3, 3), padding='SAME', activation='relu')(model)\n",
    "    model = Conv2D(filters=64, kernel_size=(3, 3), padding='SAME', activation='relu')(model)\n",
    "    model = Conv2D(filters=64, kernel_size=(3, 3), padding='SAME', activation='relu')(model)\n",
    "    model = Conv2D(filters=64, kernel_size=(3, 3), padding='SAME', activation='relu')(model)\n",
    "    model = BatchNormalization(momentum=0.15)(model)\n",
    "    model = MaxPool2D(pool_size=(2, 2))(model)\n",
    "    model = Conv2D(filters=64, kernel_size=(5, 5), padding='SAME', activation='relu')(model)\n",
    "    model = BatchNormalization(momentum=0.15)(model)\n",
    "    model = Dropout(rate=0.3)(model)\n",
    "\n",
    "    model = Conv2D(filters=128, kernel_size=(3, 3), padding='SAME', activation='relu')(model)\n",
    "    model = Conv2D(filters=128, kernel_size=(3, 3), padding='SAME', activation='relu')(model)\n",
    "    model = Conv2D(filters=128, kernel_size=(3, 3), padding='SAME', activation='relu')(model)\n",
    "    model = Conv2D(filters=128, kernel_size=(3, 3), padding='SAME', activation='relu')(model)\n",
    "    model = BatchNormalization(momentum=0.15)(model)\n",
    "    model = MaxPool2D(pool_size=(2, 2))(model)\n",
    "    model = Conv2D(filters=128, kernel_size=(5, 5), padding='SAME', activation='relu')(model)\n",
    "    model = BatchNormalization(momentum=0.15)(model)\n",
    "    model = Dropout(rate=0.3)(model)\n",
    "\n",
    "    model = Conv2D(filters=256, kernel_size=(3, 3), padding='SAME', activation='relu')(model)\n",
    "    model = Conv2D(filters=256, kernel_size=(3, 3), padding='SAME', activation='relu')(model)\n",
    "    model = Conv2D(filters=256, kernel_size=(3, 3), padding='SAME', activation='relu')(model)\n",
    "    model = Conv2D(filters=256, kernel_size=(3, 3), padding='SAME', activation='relu')(model)\n",
    "    model = BatchNormalization(momentum=0.15)(model)\n",
    "    model = MaxPool2D(pool_size=(2, 2))(model)\n",
    "    model = Conv2D(filters=256, kernel_size=(5, 5), padding='SAME', activation='relu')(model)\n",
    "    model = BatchNormalization(momentum=0.15)(model)\n",
    "    model = Dropout(rate=0.3)(model)\n",
    "\n",
    "    model = Flatten()(model)\n",
    "    model = Dense(1024, activation = \"relu\")(model)\n",
    "    model = Dropout(rate=0.3)(model)\n",
    "    dense = Dense(512, activation = \"relu\")(model)\n",
    "\n",
    "    head_root = Dense(168, activation = 'softmax', name='dense_root')(dense)\n",
    "    head_vowel = Dense(11, activation = 'softmax', name='dense_vowel')(dense)\n",
    "    head_consonant = Dense(7, activation = 'softmax', name='dense_consonant')(dense)\n",
    "\n",
    "    model = Model(inputs=inputs, outputs=[head_root, head_vowel, head_consonant])\n",
    "    model.compile(optimizer='adam', loss='categorical_crossentropy', metrics=['accuracy'], loss_weights=[0.5, 0.25, 0.25])\n",
    "    model.summary()\n",
    "    \n",
    "    return model"
   ]
  },
  {
   "cell_type": "code",
   "execution_count": 0,
   "metadata": {
    "colab": {
     "base_uri": "https://localhost:8080/",
     "height": 1000
    },
    "colab_type": "code",
    "executionInfo": {
     "elapsed": 30150,
     "status": "ok",
     "timestamp": 1584571255451,
     "user": {
      "displayName": "Max Driessen",
      "photoUrl": "",
      "userId": "00614379715334685697"
     },
     "user_tz": -60
    },
    "id": "GXQpC3PhyZQq",
    "outputId": "ea253326-cf25-4079-981a-3287f4bb5777"
   },
   "outputs": [
    {
     "name": "stdout",
     "output_type": "stream",
     "text": [
      "WARNING:tensorflow:From /usr/local/lib/python3.6/dist-packages/keras/backend/tensorflow_backend.py:66: The name tf.get_default_graph is deprecated. Please use tf.compat.v1.get_default_graph instead.\n",
      "\n",
      "WARNING:tensorflow:From /usr/local/lib/python3.6/dist-packages/keras/backend/tensorflow_backend.py:541: The name tf.placeholder is deprecated. Please use tf.compat.v1.placeholder instead.\n",
      "\n",
      "WARNING:tensorflow:From /usr/local/lib/python3.6/dist-packages/keras/backend/tensorflow_backend.py:4432: The name tf.random_uniform is deprecated. Please use tf.random.uniform instead.\n",
      "\n",
      "WARNING:tensorflow:From /usr/local/lib/python3.6/dist-packages/keras/backend/tensorflow_backend.py:190: The name tf.get_default_session is deprecated. Please use tf.compat.v1.get_default_session instead.\n",
      "\n",
      "WARNING:tensorflow:From /usr/local/lib/python3.6/dist-packages/keras/backend/tensorflow_backend.py:197: The name tf.ConfigProto is deprecated. Please use tf.compat.v1.ConfigProto instead.\n",
      "\n",
      "WARNING:tensorflow:From /usr/local/lib/python3.6/dist-packages/keras/backend/tensorflow_backend.py:203: The name tf.Session is deprecated. Please use tf.compat.v1.Session instead.\n",
      "\n",
      "WARNING:tensorflow:From /usr/local/lib/python3.6/dist-packages/keras/backend/tensorflow_backend.py:207: The name tf.global_variables is deprecated. Please use tf.compat.v1.global_variables instead.\n",
      "\n",
      "WARNING:tensorflow:From /usr/local/lib/python3.6/dist-packages/keras/backend/tensorflow_backend.py:216: The name tf.is_variable_initialized is deprecated. Please use tf.compat.v1.is_variable_initialized instead.\n",
      "\n",
      "WARNING:tensorflow:From /usr/local/lib/python3.6/dist-packages/keras/backend/tensorflow_backend.py:223: The name tf.variables_initializer is deprecated. Please use tf.compat.v1.variables_initializer instead.\n",
      "\n",
      "WARNING:tensorflow:From /usr/local/lib/python3.6/dist-packages/keras/backend/tensorflow_backend.py:2041: The name tf.nn.fused_batch_norm is deprecated. Please use tf.compat.v1.nn.fused_batch_norm instead.\n",
      "\n",
      "WARNING:tensorflow:From /usr/local/lib/python3.6/dist-packages/keras/backend/tensorflow_backend.py:148: The name tf.placeholder_with_default is deprecated. Please use tf.compat.v1.placeholder_with_default instead.\n",
      "\n",
      "WARNING:tensorflow:From /usr/local/lib/python3.6/dist-packages/keras/backend/tensorflow_backend.py:4267: The name tf.nn.max_pool is deprecated. Please use tf.nn.max_pool2d instead.\n",
      "\n",
      "WARNING:tensorflow:From /usr/local/lib/python3.6/dist-packages/keras/backend/tensorflow_backend.py:3733: calling dropout (from tensorflow.python.ops.nn_ops) with keep_prob is deprecated and will be removed in a future version.\n",
      "Instructions for updating:\n",
      "Please use `rate` instead of `keep_prob`. Rate should be set to `rate = 1 - keep_prob`.\n",
      "WARNING:tensorflow:From /usr/local/lib/python3.6/dist-packages/keras/optimizers.py:793: The name tf.train.Optimizer is deprecated. Please use tf.compat.v1.train.Optimizer instead.\n",
      "\n",
      "WARNING:tensorflow:From /usr/local/lib/python3.6/dist-packages/keras/backend/tensorflow_backend.py:3576: The name tf.log is deprecated. Please use tf.math.log instead.\n",
      "\n",
      "Model: \"model_1\"\n",
      "__________________________________________________________________________________________________\n",
      "Layer (type)                    Output Shape         Param #     Connected to                     \n",
      "==================================================================================================\n",
      "input_1 (InputLayer)            (None, 64, 64, 1)    0                                            \n",
      "__________________________________________________________________________________________________\n",
      "conv2d_1 (Conv2D)               (None, 64, 64, 32)   320         input_1[0][0]                    \n",
      "__________________________________________________________________________________________________\n",
      "conv2d_2 (Conv2D)               (None, 64, 64, 32)   9248        conv2d_1[0][0]                   \n",
      "__________________________________________________________________________________________________\n",
      "conv2d_3 (Conv2D)               (None, 64, 64, 32)   9248        conv2d_2[0][0]                   \n",
      "__________________________________________________________________________________________________\n",
      "conv2d_4 (Conv2D)               (None, 64, 64, 32)   9248        conv2d_3[0][0]                   \n",
      "__________________________________________________________________________________________________\n",
      "batch_normalization_1 (BatchNor (None, 64, 64, 32)   128         conv2d_4[0][0]                   \n",
      "__________________________________________________________________________________________________\n",
      "max_pooling2d_1 (MaxPooling2D)  (None, 32, 32, 32)   0           batch_normalization_1[0][0]      \n",
      "__________________________________________________________________________________________________\n",
      "conv2d_5 (Conv2D)               (None, 32, 32, 32)   25632       max_pooling2d_1[0][0]            \n",
      "__________________________________________________________________________________________________\n",
      "dropout_1 (Dropout)             (None, 32, 32, 32)   0           conv2d_5[0][0]                   \n",
      "__________________________________________________________________________________________________\n",
      "conv2d_6 (Conv2D)               (None, 32, 32, 64)   18496       dropout_1[0][0]                  \n",
      "__________________________________________________________________________________________________\n",
      "conv2d_7 (Conv2D)               (None, 32, 32, 64)   36928       conv2d_6[0][0]                   \n",
      "__________________________________________________________________________________________________\n",
      "conv2d_8 (Conv2D)               (None, 32, 32, 64)   36928       conv2d_7[0][0]                   \n",
      "__________________________________________________________________________________________________\n",
      "conv2d_9 (Conv2D)               (None, 32, 32, 64)   36928       conv2d_8[0][0]                   \n",
      "__________________________________________________________________________________________________\n",
      "batch_normalization_2 (BatchNor (None, 32, 32, 64)   256         conv2d_9[0][0]                   \n",
      "__________________________________________________________________________________________________\n",
      "max_pooling2d_2 (MaxPooling2D)  (None, 16, 16, 64)   0           batch_normalization_2[0][0]      \n",
      "__________________________________________________________________________________________________\n",
      "conv2d_10 (Conv2D)              (None, 16, 16, 64)   102464      max_pooling2d_2[0][0]            \n",
      "__________________________________________________________________________________________________\n",
      "batch_normalization_3 (BatchNor (None, 16, 16, 64)   256         conv2d_10[0][0]                  \n",
      "__________________________________________________________________________________________________\n",
      "dropout_2 (Dropout)             (None, 16, 16, 64)   0           batch_normalization_3[0][0]      \n",
      "__________________________________________________________________________________________________\n",
      "conv2d_11 (Conv2D)              (None, 16, 16, 128)  73856       dropout_2[0][0]                  \n",
      "__________________________________________________________________________________________________\n",
      "conv2d_12 (Conv2D)              (None, 16, 16, 128)  147584      conv2d_11[0][0]                  \n",
      "__________________________________________________________________________________________________\n",
      "conv2d_13 (Conv2D)              (None, 16, 16, 128)  147584      conv2d_12[0][0]                  \n",
      "__________________________________________________________________________________________________\n",
      "conv2d_14 (Conv2D)              (None, 16, 16, 128)  147584      conv2d_13[0][0]                  \n",
      "__________________________________________________________________________________________________\n",
      "batch_normalization_4 (BatchNor (None, 16, 16, 128)  512         conv2d_14[0][0]                  \n",
      "__________________________________________________________________________________________________\n",
      "max_pooling2d_3 (MaxPooling2D)  (None, 8, 8, 128)    0           batch_normalization_4[0][0]      \n",
      "__________________________________________________________________________________________________\n",
      "conv2d_15 (Conv2D)              (None, 8, 8, 128)    409728      max_pooling2d_3[0][0]            \n",
      "__________________________________________________________________________________________________\n",
      "batch_normalization_5 (BatchNor (None, 8, 8, 128)    512         conv2d_15[0][0]                  \n",
      "__________________________________________________________________________________________________\n",
      "dropout_3 (Dropout)             (None, 8, 8, 128)    0           batch_normalization_5[0][0]      \n",
      "__________________________________________________________________________________________________\n",
      "conv2d_16 (Conv2D)              (None, 8, 8, 256)    295168      dropout_3[0][0]                  \n",
      "__________________________________________________________________________________________________\n",
      "conv2d_17 (Conv2D)              (None, 8, 8, 256)    590080      conv2d_16[0][0]                  \n",
      "__________________________________________________________________________________________________\n",
      "conv2d_18 (Conv2D)              (None, 8, 8, 256)    590080      conv2d_17[0][0]                  \n",
      "__________________________________________________________________________________________________\n",
      "conv2d_19 (Conv2D)              (None, 8, 8, 256)    590080      conv2d_18[0][0]                  \n",
      "__________________________________________________________________________________________________\n",
      "batch_normalization_6 (BatchNor (None, 8, 8, 256)    1024        conv2d_19[0][0]                  \n",
      "__________________________________________________________________________________________________\n",
      "max_pooling2d_4 (MaxPooling2D)  (None, 4, 4, 256)    0           batch_normalization_6[0][0]      \n",
      "__________________________________________________________________________________________________\n",
      "conv2d_20 (Conv2D)              (None, 4, 4, 256)    1638656     max_pooling2d_4[0][0]            \n",
      "__________________________________________________________________________________________________\n",
      "batch_normalization_7 (BatchNor (None, 4, 4, 256)    1024        conv2d_20[0][0]                  \n",
      "__________________________________________________________________________________________________\n",
      "dropout_4 (Dropout)             (None, 4, 4, 256)    0           batch_normalization_7[0][0]      \n",
      "__________________________________________________________________________________________________\n",
      "flatten_1 (Flatten)             (None, 4096)         0           dropout_4[0][0]                  \n",
      "__________________________________________________________________________________________________\n",
      "dense_1 (Dense)                 (None, 1024)         4195328     flatten_1[0][0]                  \n",
      "__________________________________________________________________________________________________\n",
      "dropout_5 (Dropout)             (None, 1024)         0           dense_1[0][0]                    \n",
      "__________________________________________________________________________________________________\n",
      "dense_2 (Dense)                 (None, 512)          524800      dropout_5[0][0]                  \n",
      "__________________________________________________________________________________________________\n",
      "dense_root (Dense)              (None, 168)          86184       dense_2[0][0]                    \n",
      "__________________________________________________________________________________________________\n",
      "dense_vowel (Dense)             (None, 11)           5643        dense_2[0][0]                    \n",
      "__________________________________________________________________________________________________\n",
      "dense_consonant (Dense)         (None, 7)            3591        dense_2[0][0]                    \n",
      "==================================================================================================\n",
      "Total params: 9,735,098\n",
      "Trainable params: 9,733,242\n",
      "Non-trainable params: 1,856\n",
      "__________________________________________________________________________________________________\n"
     ]
    }
   ],
   "source": [
    "model = build_convolutional()"
   ]
  },
  {
   "cell_type": "markdown",
   "metadata": {
    "colab_type": "text",
    "id": "1R2ndYbLyZQw"
   },
   "source": [
    "## Training"
   ]
  },
  {
   "cell_type": "code",
   "execution_count": 0,
   "metadata": {
    "colab": {},
    "colab_type": "code",
    "id": "5dUBmBlNyZQx"
   },
   "outputs": [],
   "source": [
    "batch_size = 256\n",
    "epochs = 50"
   ]
  },
  {
   "cell_type": "code",
   "execution_count": 0,
   "metadata": {
    "colab": {},
    "colab_type": "code",
    "id": "qdoer-sbyZQ1"
   },
   "outputs": [],
   "source": [
    "class MultiOutputDataGenerator(keras.preprocessing.image.ImageDataGenerator):\n",
    "\n",
    "    def flow(self, x, y=None, batch_size=32, shuffle=True, sample_weight=None,  \n",
    "             seed=None, save_to_dir=None, save_prefix='', save_format='png', subset=None):\n",
    "\n",
    "        targets = None\n",
    "        target_lengths = {}\n",
    "        ordered_outputs = []\n",
    "        for output, target in y.items():\n",
    "            if targets is None:\n",
    "                targets = target\n",
    "            else:\n",
    "                targets = np.concatenate((targets, target), axis=1)\n",
    "            target_lengths[output] = target.shape[1]\n",
    "            ordered_outputs.append(output)\n",
    "\n",
    "\n",
    "        for flowx, flowy in super().flow(x, targets, batch_size=batch_size, shuffle=shuffle):\n",
    "            target_dict = {}\n",
    "            i = 0\n",
    "            for output in ordered_outputs:\n",
    "                target_length = target_lengths[output]\n",
    "                target_dict[output] = flowy[:, i: i + target_length]\n",
    "                i += target_length\n",
    "\n",
    "            yield flowx, target_dict"
   ]
  },
  {
   "cell_type": "code",
   "execution_count": 0,
   "metadata": {
    "colab": {
     "base_uri": "https://localhost:8080/",
     "height": 1000
    },
    "colab_type": "code",
    "executionInfo": {
     "elapsed": 4113311,
     "status": "ok",
     "timestamp": 1584577176427,
     "user": {
      "displayName": "Max Driessen",
      "photoUrl": "",
      "userId": "00614379715334685697"
     },
     "user_tz": -60
    },
    "id": "UaVibvFsyZQ5",
    "outputId": "26c92775-089e-45d2-cd2b-7b5516eb9aa6"
   },
   "outputs": [
    {
     "name": "stdout",
     "output_type": "stream",
     "text": [
      "Training images: (200840, 64, 64, 1)\n",
      "Training labels root: (200840, 168)\n",
      "Training labels vowel: (200840, 11)\n",
      "Training labels consonants: (200840, 7)\n",
      "WARNING:tensorflow:From /tensorflow-1.15.0/python3.6/tensorflow_core/python/ops/math_grad.py:1424: where (from tensorflow.python.ops.array_ops) is deprecated and will be removed in a future version.\n",
      "Instructions for updating:\n",
      "Use tf.where in 2.0, which has the same broadcast rule as np.where\n",
      "WARNING:tensorflow:From /usr/local/lib/python3.6/dist-packages/keras/backend/tensorflow_backend.py:1033: The name tf.assign_add is deprecated. Please use tf.compat.v1.assign_add instead.\n",
      "\n",
      "WARNING:tensorflow:From /usr/local/lib/python3.6/dist-packages/keras/backend/tensorflow_backend.py:1020: The name tf.assign is deprecated. Please use tf.compat.v1.assign instead.\n",
      "\n",
      "Epoch 1/50\n",
      "721/721 [==============================] - 128s 178ms/step - loss: 2.5504 - dense_root_loss: 3.9905 - dense_vowel_loss: 1.2100 - dense_consonant_loss: 1.0108 - dense_root_acc: 0.0864 - dense_vowel_acc: 0.5564 - dense_consonant_acc: 0.6565 - val_loss: 1.6778 - val_dense_root_loss: 2.7722 - val_dense_vowel_loss: 0.5696 - val_dense_consonant_loss: 0.5973 - val_dense_root_acc: 0.2348 - val_dense_vowel_acc: 0.7984 - val_dense_consonant_acc: 0.7864\n",
      "Epoch 2/50\n",
      "721/721 [==============================] - 117s 162ms/step - loss: 1.2707 - dense_root_loss: 2.0637 - dense_vowel_loss: 0.5366 - dense_consonant_loss: 0.4187 - dense_root_acc: 0.4124 - dense_vowel_acc: 0.8189 - dense_consonant_acc: 0.8604 - val_loss: 0.6319 - val_dense_root_loss: 1.0169 - val_dense_vowel_loss: 0.2823 - val_dense_consonant_loss: 0.2114 - val_dense_root_acc: 0.6943 - val_dense_vowel_acc: 0.9091 - val_dense_consonant_acc: 0.9350\n",
      "Epoch 3/50\n",
      "721/721 [==============================] - 117s 162ms/step - loss: 0.6639 - dense_root_loss: 1.0359 - dense_vowel_loss: 0.3324 - dense_consonant_loss: 0.2514 - dense_root_acc: 0.7012 - dense_vowel_acc: 0.8969 - dense_consonant_acc: 0.9212 - val_loss: 0.3741 - val_dense_root_loss: 0.5900 - val_dense_vowel_loss: 0.1564 - val_dense_consonant_loss: 0.1600 - val_dense_root_acc: 0.8385 - val_dense_vowel_acc: 0.9558 - val_dense_consonant_acc: 0.9520\n",
      "Epoch 4/50\n",
      "721/721 [==============================] - 117s 162ms/step - loss: 0.4640 - dense_root_loss: 0.7097 - dense_vowel_loss: 0.2432 - dense_consonant_loss: 0.1934 - dense_root_acc: 0.8004 - dense_vowel_acc: 0.9281 - dense_consonant_acc: 0.9405 - val_loss: 0.2808 - val_dense_root_loss: 0.4358 - val_dense_vowel_loss: 0.1286 - val_dense_consonant_loss: 0.1228 - val_dense_root_acc: 0.8793 - val_dense_vowel_acc: 0.9657 - val_dense_consonant_acc: 0.9625\n",
      "Epoch 5/50\n",
      "721/721 [==============================] - 117s 162ms/step - loss: 0.3736 - dense_root_loss: 0.5652 - dense_vowel_loss: 0.2020 - dense_consonant_loss: 0.1621 - dense_root_acc: 0.8407 - dense_vowel_acc: 0.9420 - dense_consonant_acc: 0.9508 - val_loss: 0.2484 - val_dense_root_loss: 0.3767 - val_dense_vowel_loss: 0.1303 - val_dense_consonant_loss: 0.1100 - val_dense_root_acc: 0.8971 - val_dense_vowel_acc: 0.9646 - val_dense_consonant_acc: 0.9668\n",
      "Epoch 6/50\n",
      "721/721 [==============================] - 117s 162ms/step - loss: 0.3237 - dense_root_loss: 0.4867 - dense_vowel_loss: 0.1759 - dense_consonant_loss: 0.1454 - dense_root_acc: 0.8646 - dense_vowel_acc: 0.9509 - dense_consonant_acc: 0.9565 - val_loss: 0.2104 - val_dense_root_loss: 0.3195 - val_dense_vowel_loss: 0.1104 - val_dense_consonant_loss: 0.0923 - val_dense_root_acc: 0.9115 - val_dense_vowel_acc: 0.9712 - val_dense_consonant_acc: 0.9723\n",
      "Epoch 7/50\n",
      "721/721 [==============================] - 117s 162ms/step - loss: 0.2912 - dense_root_loss: 0.4353 - dense_vowel_loss: 0.1614 - dense_consonant_loss: 0.1329 - dense_root_acc: 0.8783 - dense_vowel_acc: 0.9548 - dense_consonant_acc: 0.9604 - val_loss: 0.1975 - val_dense_root_loss: 0.3016 - val_dense_vowel_loss: 0.1029 - val_dense_consonant_loss: 0.0840 - val_dense_root_acc: 0.9189 - val_dense_vowel_acc: 0.9732 - val_dense_consonant_acc: 0.9753\n",
      "Epoch 8/50\n",
      "721/721 [==============================] - 117s 163ms/step - loss: 0.2656 - dense_root_loss: 0.3967 - dense_vowel_loss: 0.1461 - dense_consonant_loss: 0.1227 - dense_root_acc: 0.8896 - dense_vowel_acc: 0.9593 - dense_consonant_acc: 0.9634 - val_loss: 0.1949 - val_dense_root_loss: 0.3000 - val_dense_vowel_loss: 0.0927 - val_dense_consonant_loss: 0.0867 - val_dense_root_acc: 0.9192 - val_dense_vowel_acc: 0.9773 - val_dense_consonant_acc: 0.9727\n",
      "Epoch 9/50\n",
      "721/721 [==============================] - 117s 163ms/step - loss: 0.2465 - dense_root_loss: 0.3675 - dense_vowel_loss: 0.1356 - dense_consonant_loss: 0.1153 - dense_root_acc: 0.8964 - dense_vowel_acc: 0.9628 - dense_consonant_acc: 0.9659 - val_loss: 0.1710 - val_dense_root_loss: 0.2642 - val_dense_vowel_loss: 0.0840 - val_dense_consonant_loss: 0.0717 - val_dense_root_acc: 0.9293 - val_dense_vowel_acc: 0.9782 - val_dense_consonant_acc: 0.9796\n",
      "Epoch 10/50\n",
      "721/721 [==============================] - 117s 163ms/step - loss: 0.2294 - dense_root_loss: 0.3391 - dense_vowel_loss: 0.1300 - dense_consonant_loss: 0.1094 - dense_root_acc: 0.9050 - dense_vowel_acc: 0.9647 - dense_consonant_acc: 0.9683 - val_loss: 0.1710 - val_dense_root_loss: 0.2652 - val_dense_vowel_loss: 0.0791 - val_dense_consonant_loss: 0.0745 - val_dense_root_acc: 0.9297 - val_dense_vowel_acc: 0.9803 - val_dense_consonant_acc: 0.9789\n",
      "Epoch 11/50\n",
      "721/721 [==============================] - 117s 163ms/step - loss: 0.2168 - dense_root_loss: 0.3209 - dense_vowel_loss: 0.1226 - dense_consonant_loss: 0.1029 - dense_root_acc: 0.9106 - dense_vowel_acc: 0.9670 - dense_consonant_acc: 0.9700 - val_loss: 0.1605 - val_dense_root_loss: 0.2414 - val_dense_vowel_loss: 0.0851 - val_dense_consonant_loss: 0.0742 - val_dense_root_acc: 0.9353 - val_dense_vowel_acc: 0.9788 - val_dense_consonant_acc: 0.9803\n",
      "Epoch 12/50\n",
      "721/721 [==============================] - 117s 162ms/step - loss: 0.2036 - dense_root_loss: 0.3016 - dense_vowel_loss: 0.1153 - dense_consonant_loss: 0.0959 - dense_root_acc: 0.9152 - dense_vowel_acc: 0.9691 - dense_consonant_acc: 0.9714 - val_loss: 0.1638 - val_dense_root_loss: 0.2503 - val_dense_vowel_loss: 0.0834 - val_dense_consonant_loss: 0.0711 - val_dense_root_acc: 0.9317 - val_dense_vowel_acc: 0.9798 - val_dense_consonant_acc: 0.9803\n",
      "Epoch 13/50\n",
      "721/721 [==============================] - 117s 162ms/step - loss: 0.1941 - dense_root_loss: 0.2858 - dense_vowel_loss: 0.1118 - dense_consonant_loss: 0.0932 - dense_root_acc: 0.9200 - dense_vowel_acc: 0.9699 - dense_consonant_acc: 0.9726 - val_loss: 0.1589 - val_dense_root_loss: 0.2410 - val_dense_vowel_loss: 0.0819 - val_dense_consonant_loss: 0.0716 - val_dense_root_acc: 0.9336 - val_dense_vowel_acc: 0.9790 - val_dense_consonant_acc: 0.9790\n",
      "Epoch 14/50\n",
      "721/721 [==============================] - 117s 162ms/step - loss: 0.1876 - dense_root_loss: 0.2771 - dense_vowel_loss: 0.1069 - dense_consonant_loss: 0.0893 - dense_root_acc: 0.9219 - dense_vowel_acc: 0.9712 - dense_consonant_acc: 0.9735 - val_loss: 0.1398 - val_dense_root_loss: 0.2133 - val_dense_vowel_loss: 0.0716 - val_dense_consonant_loss: 0.0609 - val_dense_root_acc: 0.9428 - val_dense_vowel_acc: 0.9819 - val_dense_consonant_acc: 0.9829\n",
      "Epoch 15/50\n",
      "721/721 [==============================] - 117s 162ms/step - loss: 0.1766 - dense_root_loss: 0.2592 - dense_vowel_loss: 0.1025 - dense_consonant_loss: 0.0856 - dense_root_acc: 0.9263 - dense_vowel_acc: 0.9726 - dense_consonant_acc: 0.9750 - val_loss: 0.1488 - val_dense_root_loss: 0.2299 - val_dense_vowel_loss: 0.0710 - val_dense_consonant_loss: 0.0644 - val_dense_root_acc: 0.9409 - val_dense_vowel_acc: 0.9824 - val_dense_consonant_acc: 0.9819\n",
      "Epoch 16/50\n",
      "721/721 [==============================] - 117s 162ms/step - loss: 0.1707 - dense_root_loss: 0.2508 - dense_vowel_loss: 0.0980 - dense_consonant_loss: 0.0831 - dense_root_acc: 0.9286 - dense_vowel_acc: 0.9738 - dense_consonant_acc: 0.9756 - val_loss: 0.1424 - val_dense_root_loss: 0.2151 - val_dense_vowel_loss: 0.0781 - val_dense_consonant_loss: 0.0612 - val_dense_root_acc: 0.9412 - val_dense_vowel_acc: 0.9801 - val_dense_consonant_acc: 0.9833\n",
      "Epoch 17/50\n",
      "721/721 [==============================] - 117s 162ms/step - loss: 0.1656 - dense_root_loss: 0.2430 - dense_vowel_loss: 0.0961 - dense_consonant_loss: 0.0804 - dense_root_acc: 0.9318 - dense_vowel_acc: 0.9740 - dense_consonant_acc: 0.9768 - val_loss: 0.1421 - val_dense_root_loss: 0.2194 - val_dense_vowel_loss: 0.0699 - val_dense_consonant_loss: 0.0596 - val_dense_root_acc: 0.9410 - val_dense_vowel_acc: 0.9819 - val_dense_consonant_acc: 0.9832\n",
      "Epoch 18/50\n",
      "721/721 [==============================] - 117s 162ms/step - loss: 0.1584 - dense_root_loss: 0.2315 - dense_vowel_loss: 0.0930 - dense_consonant_loss: 0.0775 - dense_root_acc: 0.9333 - dense_vowel_acc: 0.9751 - dense_consonant_acc: 0.9774 - val_loss: 0.1305 - val_dense_root_loss: 0.2010 - val_dense_vowel_loss: 0.0649 - val_dense_consonant_loss: 0.0551 - val_dense_root_acc: 0.9445 - val_dense_vowel_acc: 0.9841 - val_dense_consonant_acc: 0.9847\n",
      "Epoch 19/50\n",
      "721/721 [==============================] - 117s 162ms/step - loss: 0.1541 - dense_root_loss: 0.2259 - dense_vowel_loss: 0.0889 - dense_consonant_loss: 0.0759 - dense_root_acc: 0.9354 - dense_vowel_acc: 0.9763 - dense_consonant_acc: 0.9780 - val_loss: 0.1334 - val_dense_root_loss: 0.2064 - val_dense_vowel_loss: 0.0657 - val_dense_consonant_loss: 0.0552 - val_dense_root_acc: 0.9434 - val_dense_vowel_acc: 0.9834 - val_dense_consonant_acc: 0.9854\n",
      "Epoch 20/50\n",
      "721/721 [==============================] - 117s 162ms/step - loss: 0.1489 - dense_root_loss: 0.2166 - dense_vowel_loss: 0.0877 - dense_consonant_loss: 0.0745 - dense_root_acc: 0.9377 - dense_vowel_acc: 0.9764 - dense_consonant_acc: 0.9781 - val_loss: 0.1319 - val_dense_root_loss: 0.2003 - val_dense_vowel_loss: 0.0683 - val_dense_consonant_loss: 0.0590 - val_dense_root_acc: 0.9463 - val_dense_vowel_acc: 0.9828 - val_dense_consonant_acc: 0.9827\n",
      "Epoch 21/50\n",
      "721/721 [==============================] - 117s 162ms/step - loss: 0.1452 - dense_root_loss: 0.2114 - dense_vowel_loss: 0.0859 - dense_consonant_loss: 0.0721 - dense_root_acc: 0.9390 - dense_vowel_acc: 0.9771 - dense_consonant_acc: 0.9789 - val_loss: 0.1323 - val_dense_root_loss: 0.2004 - val_dense_vowel_loss: 0.0707 - val_dense_consonant_loss: 0.0577 - val_dense_root_acc: 0.9467 - val_dense_vowel_acc: 0.9826 - val_dense_consonant_acc: 0.9841\n",
      "Epoch 22/50\n",
      "721/721 [==============================] - 117s 162ms/step - loss: 0.1388 - dense_root_loss: 0.2006 - dense_vowel_loss: 0.0835 - dense_consonant_loss: 0.0706 - dense_root_acc: 0.9418 - dense_vowel_acc: 0.9775 - dense_consonant_acc: 0.9792 - val_loss: 0.1429 - val_dense_root_loss: 0.2212 - val_dense_vowel_loss: 0.0718 - val_dense_consonant_loss: 0.0574 - val_dense_root_acc: 0.9391 - val_dense_vowel_acc: 0.9825 - val_dense_consonant_acc: 0.9834\n",
      "Epoch 23/50\n",
      "721/721 [==============================] - 117s 162ms/step - loss: 0.1361 - dense_root_loss: 0.1983 - dense_vowel_loss: 0.0791 - dense_consonant_loss: 0.0687 - dense_root_acc: 0.9426 - dense_vowel_acc: 0.9789 - dense_consonant_acc: 0.9799 - val_loss: 0.1266 - val_dense_root_loss: 0.1922 - val_dense_vowel_loss: 0.0670 - val_dense_consonant_loss: 0.0548 - val_dense_root_acc: 0.9484 - val_dense_vowel_acc: 0.9844 - val_dense_consonant_acc: 0.9848\n",
      "Epoch 24/50\n",
      "721/721 [==============================] - 117s 163ms/step - loss: 0.1351 - dense_root_loss: 0.1954 - dense_vowel_loss: 0.0811 - dense_consonant_loss: 0.0684 - dense_root_acc: 0.9431 - dense_vowel_acc: 0.9782 - dense_consonant_acc: 0.9800 - val_loss: 0.1289 - val_dense_root_loss: 0.1963 - val_dense_vowel_loss: 0.0699 - val_dense_consonant_loss: 0.0530 - val_dense_root_acc: 0.9473 - val_dense_vowel_acc: 0.9824 - val_dense_consonant_acc: 0.9848\n",
      "Epoch 25/50\n",
      "721/721 [==============================] - 117s 163ms/step - loss: 0.1298 - dense_root_loss: 0.1880 - dense_vowel_loss: 0.0784 - dense_consonant_loss: 0.0648 - dense_root_acc: 0.9451 - dense_vowel_acc: 0.9789 - dense_consonant_acc: 0.9809 - val_loss: 0.1188 - val_dense_root_loss: 0.1796 - val_dense_vowel_loss: 0.0638 - val_dense_consonant_loss: 0.0525 - val_dense_root_acc: 0.9518 - val_dense_vowel_acc: 0.9841 - val_dense_consonant_acc: 0.9855\n",
      "Epoch 26/50\n",
      "721/721 [==============================] - 117s 163ms/step - loss: 0.1267 - dense_root_loss: 0.1833 - dense_vowel_loss: 0.0754 - dense_consonant_loss: 0.0650 - dense_root_acc: 0.9460 - dense_vowel_acc: 0.9800 - dense_consonant_acc: 0.9810 - val_loss: 0.1242 - val_dense_root_loss: 0.1907 - val_dense_vowel_loss: 0.0628 - val_dense_consonant_loss: 0.0527 - val_dense_root_acc: 0.9491 - val_dense_vowel_acc: 0.9848 - val_dense_consonant_acc: 0.9856\n",
      "Epoch 27/50\n",
      "721/721 [==============================] - 117s 163ms/step - loss: 0.1263 - dense_root_loss: 0.1817 - dense_vowel_loss: 0.0775 - dense_consonant_loss: 0.0641 - dense_root_acc: 0.9473 - dense_vowel_acc: 0.9793 - dense_consonant_acc: 0.9813 - val_loss: 0.1201 - val_dense_root_loss: 0.1836 - val_dense_vowel_loss: 0.0618 - val_dense_consonant_loss: 0.0513 - val_dense_root_acc: 0.9502 - val_dense_vowel_acc: 0.9848 - val_dense_consonant_acc: 0.9862\n",
      "Epoch 28/50\n",
      "721/721 [==============================] - 117s 162ms/step - loss: 0.1227 - dense_root_loss: 0.1772 - dense_vowel_loss: 0.0738 - dense_consonant_loss: 0.0625 - dense_root_acc: 0.9484 - dense_vowel_acc: 0.9799 - dense_consonant_acc: 0.9817 - val_loss: 0.1309 - val_dense_root_loss: 0.1978 - val_dense_vowel_loss: 0.0722 - val_dense_consonant_loss: 0.0558 - val_dense_root_acc: 0.9468 - val_dense_vowel_acc: 0.9827 - val_dense_consonant_acc: 0.9841\n",
      "Epoch 29/50\n",
      "721/721 [==============================] - 117s 162ms/step - loss: 0.1190 - dense_root_loss: 0.1711 - dense_vowel_loss: 0.0731 - dense_consonant_loss: 0.0609 - dense_root_acc: 0.9498 - dense_vowel_acc: 0.9805 - dense_consonant_acc: 0.9824 - val_loss: 0.1181 - val_dense_root_loss: 0.1786 - val_dense_vowel_loss: 0.0632 - val_dense_consonant_loss: 0.0520 - val_dense_root_acc: 0.9517 - val_dense_vowel_acc: 0.9846 - val_dense_consonant_acc: 0.9856\n",
      "Epoch 30/50\n",
      "721/721 [==============================] - 117s 162ms/step - loss: 0.1167 - dense_root_loss: 0.1668 - dense_vowel_loss: 0.0723 - dense_consonant_loss: 0.0606 - dense_root_acc: 0.9504 - dense_vowel_acc: 0.9804 - dense_consonant_acc: 0.9824 - val_loss: 0.1295 - val_dense_root_loss: 0.1952 - val_dense_vowel_loss: 0.0726 - val_dense_consonant_loss: 0.0549 - val_dense_root_acc: 0.9485 - val_dense_vowel_acc: 0.9824 - val_dense_consonant_acc: 0.9850\n",
      "Epoch 31/50\n",
      "721/721 [==============================] - 117s 162ms/step - loss: 0.1141 - dense_root_loss: 0.1642 - dense_vowel_loss: 0.0702 - dense_consonant_loss: 0.0576 - dense_root_acc: 0.9513 - dense_vowel_acc: 0.9812 - dense_consonant_acc: 0.9832 - val_loss: 0.1216 - val_dense_root_loss: 0.1853 - val_dense_vowel_loss: 0.0644 - val_dense_consonant_loss: 0.0515 - val_dense_root_acc: 0.9516 - val_dense_vowel_acc: 0.9841 - val_dense_consonant_acc: 0.9849\n",
      "Epoch 32/50\n",
      "721/721 [==============================] - 117s 162ms/step - loss: 0.1140 - dense_root_loss: 0.1636 - dense_vowel_loss: 0.0700 - dense_consonant_loss: 0.0589 - dense_root_acc: 0.9522 - dense_vowel_acc: 0.9813 - dense_consonant_acc: 0.9826 - val_loss: 0.1248 - val_dense_root_loss: 0.1914 - val_dense_vowel_loss: 0.0620 - val_dense_consonant_loss: 0.0542 - val_dense_root_acc: 0.9508 - val_dense_vowel_acc: 0.9854 - val_dense_consonant_acc: 0.9856\n",
      "Epoch 33/50\n",
      "721/721 [==============================] - 117s 162ms/step - loss: 0.1120 - dense_root_loss: 0.1610 - dense_vowel_loss: 0.0696 - dense_consonant_loss: 0.0565 - dense_root_acc: 0.9528 - dense_vowel_acc: 0.9813 - dense_consonant_acc: 0.9834 - val_loss: 0.1221 - val_dense_root_loss: 0.1885 - val_dense_vowel_loss: 0.0639 - val_dense_consonant_loss: 0.0476 - val_dense_root_acc: 0.9501 - val_dense_vowel_acc: 0.9844 - val_dense_consonant_acc: 0.9872\n",
      "Epoch 34/50\n",
      "721/721 [==============================] - 117s 162ms/step - loss: 0.1089 - dense_root_loss: 0.1557 - dense_vowel_loss: 0.0675 - dense_consonant_loss: 0.0567 - dense_root_acc: 0.9539 - dense_vowel_acc: 0.9818 - dense_consonant_acc: 0.9833 - val_loss: 0.1202 - val_dense_root_loss: 0.1830 - val_dense_vowel_loss: 0.0618 - val_dense_consonant_loss: 0.0530 - val_dense_root_acc: 0.9507 - val_dense_vowel_acc: 0.9853 - val_dense_consonant_acc: 0.9861\n",
      "Epoch 35/50\n",
      "721/721 [==============================] - 117s 162ms/step - loss: 0.1070 - dense_root_loss: 0.1537 - dense_vowel_loss: 0.0646 - dense_consonant_loss: 0.0561 - dense_root_acc: 0.9547 - dense_vowel_acc: 0.9825 - dense_consonant_acc: 0.9838 - val_loss: 0.1220 - val_dense_root_loss: 0.1867 - val_dense_vowel_loss: 0.0641 - val_dense_consonant_loss: 0.0505 - val_dense_root_acc: 0.9518 - val_dense_vowel_acc: 0.9842 - val_dense_consonant_acc: 0.9866\n",
      "Epoch 36/50\n",
      "721/721 [==============================] - 117s 162ms/step - loss: 0.1054 - dense_root_loss: 0.1505 - dense_vowel_loss: 0.0660 - dense_consonant_loss: 0.0548 - dense_root_acc: 0.9556 - dense_vowel_acc: 0.9823 - dense_consonant_acc: 0.9839 - val_loss: 0.1188 - val_dense_root_loss: 0.1804 - val_dense_vowel_loss: 0.0625 - val_dense_consonant_loss: 0.0518 - val_dense_root_acc: 0.9531 - val_dense_vowel_acc: 0.9853 - val_dense_consonant_acc: 0.9858\n",
      "Epoch 37/50\n",
      "721/721 [==============================] - 117s 162ms/step - loss: 0.1019 - dense_root_loss: 0.1456 - dense_vowel_loss: 0.0634 - dense_consonant_loss: 0.0530 - dense_root_acc: 0.9566 - dense_vowel_acc: 0.9832 - dense_consonant_acc: 0.9845 - val_loss: 0.1179 - val_dense_root_loss: 0.1802 - val_dense_vowel_loss: 0.0596 - val_dense_consonant_loss: 0.0514 - val_dense_root_acc: 0.9538 - val_dense_vowel_acc: 0.9862 - val_dense_consonant_acc: 0.9864\n",
      "Epoch 38/50\n",
      "721/721 [==============================] - 117s 162ms/step - loss: 0.1024 - dense_root_loss: 0.1460 - dense_vowel_loss: 0.0627 - dense_consonant_loss: 0.0548 - dense_root_acc: 0.9566 - dense_vowel_acc: 0.9832 - dense_consonant_acc: 0.9843 - val_loss: 0.1159 - val_dense_root_loss: 0.1769 - val_dense_vowel_loss: 0.0617 - val_dense_consonant_loss: 0.0482 - val_dense_root_acc: 0.9545 - val_dense_vowel_acc: 0.9853 - val_dense_consonant_acc: 0.9866\n",
      "Epoch 39/50\n",
      "721/721 [==============================] - 117s 163ms/step - loss: 0.1006 - dense_root_loss: 0.1429 - dense_vowel_loss: 0.0635 - dense_consonant_loss: 0.0529 - dense_root_acc: 0.9577 - dense_vowel_acc: 0.9827 - dense_consonant_acc: 0.9847 - val_loss: 0.1097 - val_dense_root_loss: 0.1657 - val_dense_vowel_loss: 0.0574 - val_dense_consonant_loss: 0.0501 - val_dense_root_acc: 0.9564 - val_dense_vowel_acc: 0.9866 - val_dense_consonant_acc: 0.9871\n",
      "Epoch 40/50\n",
      "721/721 [==============================] - 117s 163ms/step - loss: 0.1005 - dense_root_loss: 0.1437 - dense_vowel_loss: 0.0628 - dense_consonant_loss: 0.0518 - dense_root_acc: 0.9571 - dense_vowel_acc: 0.9832 - dense_consonant_acc: 0.9849 - val_loss: 0.1161 - val_dense_root_loss: 0.1770 - val_dense_vowel_loss: 0.0612 - val_dense_consonant_loss: 0.0492 - val_dense_root_acc: 0.9539 - val_dense_vowel_acc: 0.9860 - val_dense_consonant_acc: 0.9866\n",
      "Epoch 41/50\n",
      "721/721 [==============================] - 117s 163ms/step - loss: 0.0971 - dense_root_loss: 0.1381 - dense_vowel_loss: 0.0600 - dense_consonant_loss: 0.0524 - dense_root_acc: 0.9588 - dense_vowel_acc: 0.9836 - dense_consonant_acc: 0.9846 - val_loss: 0.1148 - val_dense_root_loss: 0.1782 - val_dense_vowel_loss: 0.0577 - val_dense_consonant_loss: 0.0448 - val_dense_root_acc: 0.9541 - val_dense_vowel_acc: 0.9856 - val_dense_consonant_acc: 0.9864\n",
      "Epoch 42/50\n",
      "721/721 [==============================] - 117s 163ms/step - loss: 0.0972 - dense_root_loss: 0.1379 - dense_vowel_loss: 0.0616 - dense_consonant_loss: 0.0516 - dense_root_acc: 0.9587 - dense_vowel_acc: 0.9834 - dense_consonant_acc: 0.9852 - val_loss: 0.1164 - val_dense_root_loss: 0.1777 - val_dense_vowel_loss: 0.0626 - val_dense_consonant_loss: 0.0474 - val_dense_root_acc: 0.9529 - val_dense_vowel_acc: 0.9857 - val_dense_consonant_acc: 0.9874\n",
      "Epoch 43/50\n",
      "721/721 [==============================] - 117s 162ms/step - loss: 0.0959 - dense_root_loss: 0.1362 - dense_vowel_loss: 0.0599 - dense_consonant_loss: 0.0513 - dense_root_acc: 0.9593 - dense_vowel_acc: 0.9840 - dense_consonant_acc: 0.9850 - val_loss: 0.1138 - val_dense_root_loss: 0.1740 - val_dense_vowel_loss: 0.0597 - val_dense_consonant_loss: 0.0476 - val_dense_root_acc: 0.9559 - val_dense_vowel_acc: 0.9853 - val_dense_consonant_acc: 0.9872\n",
      "Epoch 44/50\n",
      "721/721 [==============================] - 117s 162ms/step - loss: 0.0961 - dense_root_loss: 0.1370 - dense_vowel_loss: 0.0596 - dense_consonant_loss: 0.0506 - dense_root_acc: 0.9590 - dense_vowel_acc: 0.9841 - dense_consonant_acc: 0.9850 - val_loss: 0.1135 - val_dense_root_loss: 0.1733 - val_dense_vowel_loss: 0.0610 - val_dense_consonant_loss: 0.0462 - val_dense_root_acc: 0.9554 - val_dense_vowel_acc: 0.9854 - val_dense_consonant_acc: 0.9870\n",
      "Epoch 45/50\n",
      "721/721 [==============================] - 117s 162ms/step - loss: 0.0937 - dense_root_loss: 0.1321 - dense_vowel_loss: 0.0606 - dense_consonant_loss: 0.0500 - dense_root_acc: 0.9604 - dense_vowel_acc: 0.9839 - dense_consonant_acc: 0.9853 - val_loss: 0.1132 - val_dense_root_loss: 0.1724 - val_dense_vowel_loss: 0.0617 - val_dense_consonant_loss: 0.0464 - val_dense_root_acc: 0.9543 - val_dense_vowel_acc: 0.9859 - val_dense_consonant_acc: 0.9877\n",
      "Epoch 46/50\n",
      "721/721 [==============================] - 117s 162ms/step - loss: 0.0919 - dense_root_loss: 0.1304 - dense_vowel_loss: 0.0585 - dense_consonant_loss: 0.0483 - dense_root_acc: 0.9611 - dense_vowel_acc: 0.9843 - dense_consonant_acc: 0.9861 - val_loss: 0.1189 - val_dense_root_loss: 0.1804 - val_dense_vowel_loss: 0.0641 - val_dense_consonant_loss: 0.0504 - val_dense_root_acc: 0.9539 - val_dense_vowel_acc: 0.9863 - val_dense_consonant_acc: 0.9864\n",
      "Epoch 47/50\n",
      "721/721 [==============================] - 117s 162ms/step - loss: 0.0922 - dense_root_loss: 0.1305 - dense_vowel_loss: 0.0586 - dense_consonant_loss: 0.0493 - dense_root_acc: 0.9606 - dense_vowel_acc: 0.9841 - dense_consonant_acc: 0.9852 - val_loss: 0.1172 - val_dense_root_loss: 0.1798 - val_dense_vowel_loss: 0.0649 - val_dense_consonant_loss: 0.0441 - val_dense_root_acc: 0.9539 - val_dense_vowel_acc: 0.9848 - val_dense_consonant_acc: 0.9884\n",
      "Epoch 48/50\n",
      "721/721 [==============================] - 117s 162ms/step - loss: 0.0906 - dense_root_loss: 0.1281 - dense_vowel_loss: 0.0578 - dense_consonant_loss: 0.0483 - dense_root_acc: 0.9615 - dense_vowel_acc: 0.9848 - dense_consonant_acc: 0.9858 - val_loss: 0.1195 - val_dense_root_loss: 0.1822 - val_dense_vowel_loss: 0.0641 - val_dense_consonant_loss: 0.0494 - val_dense_root_acc: 0.9533 - val_dense_vowel_acc: 0.9852 - val_dense_consonant_acc: 0.9867\n",
      "Epoch 49/50\n",
      "721/721 [==============================] - 117s 162ms/step - loss: 0.0879 - dense_root_loss: 0.1234 - dense_vowel_loss: 0.0575 - dense_consonant_loss: 0.0476 - dense_root_acc: 0.9627 - dense_vowel_acc: 0.9846 - dense_consonant_acc: 0.9862 - val_loss: 0.1204 - val_dense_root_loss: 0.1857 - val_dense_vowel_loss: 0.0621 - val_dense_consonant_loss: 0.0484 - val_dense_root_acc: 0.9554 - val_dense_vowel_acc: 0.9862 - val_dense_consonant_acc: 0.9874\n",
      "Epoch 50/50\n",
      "721/721 [==============================] - 117s 162ms/step - loss: 0.0871 - dense_root_loss: 0.1230 - dense_vowel_loss: 0.0548 - dense_consonant_loss: 0.0476 - dense_root_acc: 0.9626 - dense_vowel_acc: 0.9853 - dense_consonant_acc: 0.9861 - val_loss: 0.1221 - val_dense_root_loss: 0.1871 - val_dense_vowel_loss: 0.0639 - val_dense_consonant_loss: 0.0503 - val_dense_root_acc: 0.9551 - val_dense_vowel_acc: 0.9856 - val_dense_consonant_acc: 0.9872\n"
     ]
    },
    {
     "data": {
      "text/plain": [
       "62"
      ]
     },
     "execution_count": 14,
     "metadata": {
      "tags": []
     },
     "output_type": "execute_result"
    }
   ],
   "source": [
    "train_df_full = pd.merge(pd.read_parquet(train_filename), train_df, on='image_id').drop(['image_id'], axis=1)\n",
    "\n",
    "X_train = train_df_full.drop(['grapheme_root', 'vowel_diacritic', 'consonant_diacritic'], axis=1)\n",
    "    \n",
    "# CNN takes images in shape `(batch_size, h, w, channels)`, so reshape the images\n",
    "X_train = X_train.values.reshape(-1, IMG_SIZE, IMG_SIZE, N_CHANNELS)\n",
    "    \n",
    "Y_train_root = pd.get_dummies(train_df_full['grapheme_root']).values\n",
    "Y_train_vowel = pd.get_dummies(train_df_full['vowel_diacritic']).values\n",
    "Y_train_consonant = pd.get_dummies(train_df_full['consonant_diacritic']).values\n",
    "\n",
    "print(f'Training images: {X_train.shape}')\n",
    "print(f'Training labels root: {Y_train_root.shape}')\n",
    "print(f'Training labels vowel: {Y_train_vowel.shape}')\n",
    "print(f'Training labels consonants: {Y_train_consonant.shape}')\n",
    "\n",
    "# Divide the data into training and validation set\n",
    "x_train, x_test, y_train_root, y_test_root, y_train_vowel, y_test_vowel, y_train_consonant, y_test_consonant = train_test_split(X_train, Y_train_root, Y_train_vowel, Y_train_consonant, test_size=0.08, random_state=666)\n",
    "del train_df_full\n",
    "del X_train\n",
    "del Y_train_root, Y_train_vowel, Y_train_consonant\n",
    "\n",
    "# Data augmentation for creating more training data\n",
    "datagen = MultiOutputDataGenerator(\n",
    "    featurewise_center=False,  # set input mean to 0 over the dataset\n",
    "    samplewise_center=False,  # set each sample mean to 0\n",
    "    featurewise_std_normalization=False,  # divide inputs by std of the dataset\n",
    "    samplewise_std_normalization=False,  # divide each input by its std\n",
    "    zca_whitening=False,  # apply ZCA whitening\n",
    "    rotation_range=8,  # randomly rotate images in the range (degrees, 0 to 180)\n",
    "    zoom_range = 0.15, # Randomly zoom image \n",
    "    width_shift_range=0.15,  # randomly shift images horizontally (fraction of total width)\n",
    "    height_shift_range=0.15,  # randomly shift images vertically (fraction of total height)\n",
    "    horizontal_flip=False,  # randomly flip images\n",
    "    vertical_flip=False)  # randomly flip images\n",
    "\n",
    "# This will just calculate parameters required to augment the given data. This won't perform any augmentations\n",
    "datagen.fit(x_train)\n",
    "    \n",
    "# Add saving only the best model\n",
    "mcp_save = ModelCheckpoint(model_filename, save_best_only=True, monitor='val_loss', mode='min')\n",
    "\n",
    "# Fit the model\n",
    "history = model.fit_generator(datagen.flow(x_train, \n",
    "                                           {'dense_root': y_train_root, 'dense_vowel': y_train_vowel, 'dense_consonant': y_train_consonant}, \n",
    "                                           batch_size=batch_size), \n",
    "                              epochs=epochs, \n",
    "                              validation_data=(x_test, [y_test_root, y_test_vowel, y_test_consonant]), \n",
    "                              steps_per_epoch=x_train.shape[0] // batch_size, \n",
    "                              callbacks=[mcp_save])\n",
    "\n",
    "# Delete to reduce memory usage\n",
    "del x_train\n",
    "del x_test\n",
    "del y_train_root\n",
    "del y_test_root\n",
    "del y_train_vowel\n",
    "del y_test_vowel\n",
    "del y_train_consonant\n",
    "del y_test_consonant\n",
    "gc.collect()"
   ]
  },
  {
   "cell_type": "markdown",
   "metadata": {
    "colab_type": "text",
    "id": "ee93Q190yZQ8"
   },
   "source": [
    "## Plotting Losses and Accuracies"
   ]
  },
  {
   "cell_type": "code",
   "execution_count": 0,
   "metadata": {
    "colab": {},
    "colab_type": "code",
    "id": "kpU2JzYDyZQ9"
   },
   "outputs": [],
   "source": [
    "%matplotlib inline\n",
    "def plot_loss(his, epoch, title):\n",
    "    plt.style.use('ggplot')\n",
    "    plt.figure()\n",
    "    plt.plot(np.arange(0, epoch), his.history['loss'], label='train_loss')\n",
    "    plt.plot(np.arange(0, epoch), his.history['dense_root_loss'], label='train_root_loss')\n",
    "    plt.plot(np.arange(0, epoch), his.history['dense_vowel_loss'], label='train_vowel_loss')\n",
    "    plt.plot(np.arange(0, epoch), his.history['dense_consonant_loss'], label='train_consonant_loss')\n",
    "    \n",
    "    plt.plot(np.arange(0, epoch), his.history['val_dense_root_loss'], label='val_train_root_loss')\n",
    "    plt.plot(np.arange(0, epoch), his.history['val_dense_vowel_loss'], label='val_train_vowel_loss')\n",
    "    plt.plot(np.arange(0, epoch), his.history['val_dense_consonant_loss'], label='val_train_consonant_loss')\n",
    "    \n",
    "    plt.title(title)\n",
    "    plt.xlabel('Epoch #')\n",
    "    plt.ylabel('Loss')\n",
    "    plt.legend(loc='upper right')\n",
    "    plt.show()\n",
    "\n",
    "def plot_acc(his, epoch, title):\n",
    "    plt.style.use('ggplot')\n",
    "    plt.figure()\n",
    "    plt.plot(np.arange(0, epoch), his.history['dense_root_acc'], label='train_root_acc')\n",
    "    plt.plot(np.arange(0, epoch), his.history['dense_vowel_acc'], label='train_vowel_accuracy')\n",
    "    plt.plot(np.arange(0, epoch), his.history['dense_consonant_acc'], label='train_consonant_accuracy')\n",
    "    \n",
    "    plt.plot(np.arange(0, epoch), his.history['val_dense_root_acc'], label='val_root_acc')\n",
    "    plt.plot(np.arange(0, epoch), his.history['val_dense_vowel_acc'], label='val_vowel_accuracy')\n",
    "    plt.plot(np.arange(0, epoch), his.history['val_dense_consonant_acc'], label='val_consonant_accuracy')\n",
    "    plt.title(title)\n",
    "    plt.xlabel('Epoch #')\n",
    "    plt.ylabel('Accuracy')\n",
    "    plt.legend(loc='upper right')\n",
    "    plt.show()"
   ]
  },
  {
   "cell_type": "code",
   "execution_count": 0,
   "metadata": {
    "colab": {
     "base_uri": "https://localhost:8080/",
     "height": 581
    },
    "colab_type": "code",
    "executionInfo": {
     "elapsed": 780,
     "status": "ok",
     "timestamp": 1584577177395,
     "user": {
      "displayName": "Max Driessen",
      "photoUrl": "",
      "userId": "00614379715334685697"
     },
     "user_tz": -60
    },
    "id": "o3SJzjJNyZRA",
    "outputId": "b3bbc2a3-114e-486a-887d-71624407854d"
   },
   "outputs": [
    {
     "data": {
      "image/png": "[encoded data removed]",
      "text/plain": [
       "<Figure size 432x288 with 1 Axes>"
      ]
     },
     "metadata": {
      "tags": []
     },
     "output_type": "display_data"
    },
    {
     "data": {
      "image/png": "[encoded data removed]",
      "text/plain": [
       "<Figure size 432x288 with 1 Axes>"
      ]
     },
     "metadata": {
      "tags": []
     },
     "output_type": "display_data"
    }
   ],
   "source": [
    "plot_loss(history, epochs, 'Losses')\n",
    "plot_acc(history, epochs, 'Accuracies')"
   ]
  },
  {
   "cell_type": "code",
   "execution_count": 0,
   "metadata": {
    "colab": {},
    "colab_type": "code",
    "id": "zTgiyKt8ysix"
   },
   "outputs": [],
   "source": [
    "with open(\"output/hist_nothing.pkl\", \"wb\") as f:\n",
    "  pickle.dump(history, f)"
   ]
  }
 ],
 "metadata": {
  "accelerator": "GPU",
  "colab": {
   "collapsed_sections": [],
   "machine_shape": "hm",
   "name": "Training_NoCW+CLR_MuchLearningSuchWow.ipynb",
   "provenance": []
  },
  "kernelspec": {
   "display_name": "Python 3",
   "language": "python",
   "name": "python3"
  },
  "language_info": {
   "codemirror_mode": {
    "name": "ipython",
    "version": 3
   },
   "file_extension": ".py",
   "mimetype": "text/x-python",
   "name": "python",
   "nbconvert_exporter": "python",
   "pygments_lexer": "ipython3",
   "version": "3.7.4"
  }
 },
 "nbformat": 4,
 "nbformat_minor": 1
}
