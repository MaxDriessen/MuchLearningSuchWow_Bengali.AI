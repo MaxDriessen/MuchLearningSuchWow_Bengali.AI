{
 "cells": [
  {
   "cell_type": "markdown",
   "metadata": {
    "colab_type": "text",
    "id": "lZz6cMltEsfc"
   },
   "source": [
    "# Bengali.AI Competition - Model Training (Convolutional)\n",
    "\n",
    "### Team MuchLearningSuchWow\n",
    "\n",
    "This notebook contains the code that we used to train the convolutional network with cyclical learning rate and class weights. The core of this code (network, training procedure, etc.) is based on [this kernel](https://www.kaggle.com/kaushal2896/bengali-graphemes-starter-eda-multi-output-cnn). This notebook uses the preprocessed data as produced by our preprocessing notebook. Note that this notebook is not intended to run on kaggle; to run this code on kaggle, add \"/kaggle/\" in front of all filenames."
   ]
  },
  {
   "cell_type": "markdown",
   "metadata": {
    "colab_type": "text",
    "id": "Qv-Z1DOiEsff"
   },
   "source": [
    "## Imports"
   ]
  },
  {
   "cell_type": "code",
   "execution_count": 0,
   "metadata": {
    "colab": {
     "base_uri": "https://localhost:8080/",
     "height": 99
    },
    "colab_type": "code",
    "executionInfo": {
     "elapsed": 67761,
     "status": "ok",
     "timestamp": 1584564407113,
     "user": {
      "displayName": "Max Driessen",
      "photoUrl": "",
      "userId": "00614379715334685697"
     },
     "user_tz": -60
    },
    "id": "qK7cMDAlEsfg",
    "outputId": "6f04f3ba-f9e3-413c-bc5d-29ccc824db84"
   },
   "outputs": [
    {
     "data": {
      "text/html": [
       "<p style=\"color: red;\">\n",
       "The default version of TensorFlow in Colab will soon switch to TensorFlow 2.x.<br>\n",
       "We recommend you <a href=\"https://www.tensorflow.org/guide/migrate\" target=\"_blank\">upgrade</a> now \n",
       "or ensure your notebook will continue to use TensorFlow 1.x via the <code>%tensorflow_version 1.x</code> magic:\n",
       "<a href=\"https://colab.research.google.com/notebooks/tensorflow_version.ipynb\" target=\"_blank\">more info</a>.</p>\n"
      ],
      "text/plain": [
       "<IPython.core.display.HTML object>"
      ]
     },
     "metadata": {
      "tags": []
     },
     "output_type": "display_data"
    },
    {
     "name": "stderr",
     "output_type": "stream",
     "text": [
      "Using TensorFlow backend.\n"
     ]
    }
   ],
   "source": [
    "import numpy as np\n",
    "import pandas as pd\n",
    "from tqdm.auto import tqdm\n",
    "from glob import glob\n",
    "import time, gc\n",
    "import cv2\n",
    "import os\n",
    "import pickle\n",
    "\n",
    "from tensorflow import keras\n",
    "import matplotlib.image as mpimg\n",
    "from keras.preprocessing.image import ImageDataGenerator\n",
    "from keras.models import Model\n",
    "from keras.models import clone_model\n",
    "from keras.layers import Dense,Conv2D,Flatten,MaxPool2D,Dropout,BatchNormalization,Input\n",
    "from keras.optimizers import Adam\n",
    "from keras.callbacks import ReduceLROnPlateau, Callback, ModelCheckpoint\n",
    "from keras import backend as K\n",
    "from sklearn.model_selection import train_test_split, StratifiedKFold\n",
    "from sklearn.metrics import confusion_matrix\n",
    "from sklearn.utils import class_weight\n",
    "import PIL.Image as Image, PIL.ImageDraw as ImageDraw, PIL.ImageFont as ImageFont\n",
    "from matplotlib import pyplot as plt\n",
    "import seaborn as sns"
   ]
  },
  {
   "cell_type": "markdown",
   "metadata": {
    "colab_type": "text",
    "id": "lAkTO98OEsfl"
   },
   "source": [
    "## Constants"
   ]
  },
  {
   "cell_type": "code",
   "execution_count": 0,
   "metadata": {
    "colab": {},
    "colab_type": "code",
    "id": "V3UgI2fgEsfm"
   },
   "outputs": [],
   "source": [
    "IMG_SIZE=64\n",
    "N_CHANNELS=1"
   ]
  },
  {
   "cell_type": "markdown",
   "metadata": {
    "colab_type": "text",
    "id": "dMJpNQjeEsfq"
   },
   "source": [
    "## Filenames"
   ]
  },
  {
   "cell_type": "code",
   "execution_count": 0,
   "metadata": {
    "colab": {},
    "colab_type": "code",
    "id": "q2QZAz17Esfr"
   },
   "outputs": [],
   "source": [
    "for dirname, _, filenames in os.walk('input'):\n",
    "    for filename in filenames:\n",
    "        print(os.path.join(dirname, filename))"
   ]
  },
  {
   "cell_type": "code",
   "execution_count": 0,
   "metadata": {
    "colab": {},
    "colab_type": "code",
    "id": "kISsVXbFEsfu"
   },
   "outputs": [],
   "source": [
    "train_df_filename = \"input/bengaliai-cv19/train.csv\"\n",
    "train_filename = \"output/train_image_data_preprocessed.parquet\"\n",
    "model_filename = \"output/best_model_conv_All.hdf5\""
   ]
  },
  {
   "cell_type": "code",
   "execution_count": null,
   "metadata": {},
   "outputs": [],
   "source": [
    "if not os.path.isdir('output'):\n",
    "    os.mkdir('output')"
   ]
  },
  {
   "cell_type": "markdown",
   "metadata": {
    "colab_type": "text",
    "id": "N7CWotyWEsfy"
   },
   "source": [
    "## Load Dataframes"
   ]
  },
  {
   "cell_type": "code",
   "execution_count": 0,
   "metadata": {
    "colab": {},
    "colab_type": "code",
    "id": "eSP7UianEsfz"
   },
   "outputs": [],
   "source": [
    "train_df = pd.read_csv(train_df_filename)"
   ]
  },
  {
   "cell_type": "code",
   "execution_count": 0,
   "metadata": {
    "colab": {
     "base_uri": "https://localhost:8080/",
     "height": 35
    },
    "colab_type": "code",
    "executionInfo": {
     "elapsed": 70354,
     "status": "ok",
     "timestamp": 1584564409746,
     "user": {
      "displayName": "Max Driessen",
      "photoUrl": "",
      "userId": "00614379715334685697"
     },
     "user_tz": -60
    },
    "id": "L1rO51NZEsf2",
    "outputId": "5ed2a89b-5b9f-4c6e-c86d-bad476974f11"
   },
   "outputs": [
    {
     "name": "stdout",
     "output_type": "stream",
     "text": [
      "Size of training data: (200840, 5)\n"
     ]
    }
   ],
   "source": [
    "print(f'Size of training data: {train_df.shape}')"
   ]
  },
  {
   "cell_type": "code",
   "execution_count": 0,
   "metadata": {
    "colab": {},
    "colab_type": "code",
    "id": "ExWSk3TeEsf7"
   },
   "outputs": [],
   "source": [
    "train_df = train_df.drop(['grapheme'], axis=1, inplace=False)\n",
    "train_df[['grapheme_root', 'vowel_diacritic', 'consonant_diacritic']] = train_df[['grapheme_root', 'vowel_diacritic', 'consonant_diacritic']].astype('uint8')"
   ]
  },
  {
   "cell_type": "code",
   "execution_count": 0,
   "metadata": {
    "colab": {},
    "colab_type": "code",
    "id": "1EbtaE39Esf-"
   },
   "outputs": [],
   "source": [
    "def get_dummies(df):\n",
    "    cols = []\n",
    "    for col in df:\n",
    "        cols.append(pd.get_dummies(df[col].astype(str)))\n",
    "    return pd.concat(cols, axis=1)"
   ]
  },
  {
   "cell_type": "markdown",
   "metadata": {
    "colab_type": "text",
    "id": "GCsW76uxEsgB"
   },
   "source": [
    "## Building Convolutional Model"
   ]
  },
  {
   "cell_type": "code",
   "execution_count": 0,
   "metadata": {
    "colab": {},
    "colab_type": "code",
    "id": "S8TPQjSTEsgC"
   },
   "outputs": [],
   "source": [
    "def build_convolutional():\n",
    "    inputs = Input(shape = (IMG_SIZE, IMG_SIZE, 1))\n",
    "\n",
    "    model = Conv2D(filters=32, kernel_size=(3, 3), padding='SAME', activation='relu', input_shape=(IMG_SIZE, IMG_SIZE, 1))(inputs)\n",
    "    model = Conv2D(filters=32, kernel_size=(3, 3), padding='SAME', activation='relu')(model)\n",
    "    model = Conv2D(filters=32, kernel_size=(3, 3), padding='SAME', activation='relu')(model)\n",
    "    model = Conv2D(filters=32, kernel_size=(3, 3), padding='SAME', activation='relu')(model)\n",
    "    model = BatchNormalization(momentum=0.15)(model)\n",
    "    model = MaxPool2D(pool_size=(2, 2))(model)\n",
    "    model = Conv2D(filters=32, kernel_size=(5, 5), padding='SAME', activation='relu')(model)\n",
    "    model = Dropout(rate=0.3)(model)\n",
    "\n",
    "    model = Conv2D(filters=64, kernel_size=(3, 3), padding='SAME', activation='relu')(model)\n",
    "    model = Conv2D(filters=64, kernel_size=(3, 3), padding='SAME', activation='relu')(model)\n",
    "    model = Conv2D(filters=64, kernel_size=(3, 3), padding='SAME', activation='relu')(model)\n",
    "    model = Conv2D(filters=64, kernel_size=(3, 3), padding='SAME', activation='relu')(model)\n",
    "    model = BatchNormalization(momentum=0.15)(model)\n",
    "    model = MaxPool2D(pool_size=(2, 2))(model)\n",
    "    model = Conv2D(filters=64, kernel_size=(5, 5), padding='SAME', activation='relu')(model)\n",
    "    model = BatchNormalization(momentum=0.15)(model)\n",
    "    model = Dropout(rate=0.3)(model)\n",
    "\n",
    "    model = Conv2D(filters=128, kernel_size=(3, 3), padding='SAME', activation='relu')(model)\n",
    "    model = Conv2D(filters=128, kernel_size=(3, 3), padding='SAME', activation='relu')(model)\n",
    "    model = Conv2D(filters=128, kernel_size=(3, 3), padding='SAME', activation='relu')(model)\n",
    "    model = Conv2D(filters=128, kernel_size=(3, 3), padding='SAME', activation='relu')(model)\n",
    "    model = BatchNormalization(momentum=0.15)(model)\n",
    "    model = MaxPool2D(pool_size=(2, 2))(model)\n",
    "    model = Conv2D(filters=128, kernel_size=(5, 5), padding='SAME', activation='relu')(model)\n",
    "    model = BatchNormalization(momentum=0.15)(model)\n",
    "    model = Dropout(rate=0.3)(model)\n",
    "\n",
    "    model = Conv2D(filters=256, kernel_size=(3, 3), padding='SAME', activation='relu')(model)\n",
    "    model = Conv2D(filters=256, kernel_size=(3, 3), padding='SAME', activation='relu')(model)\n",
    "    model = Conv2D(filters=256, kernel_size=(3, 3), padding='SAME', activation='relu')(model)\n",
    "    model = Conv2D(filters=256, kernel_size=(3, 3), padding='SAME', activation='relu')(model)\n",
    "    model = BatchNormalization(momentum=0.15)(model)\n",
    "    model = MaxPool2D(pool_size=(2, 2))(model)\n",
    "    model = Conv2D(filters=256, kernel_size=(5, 5), padding='SAME', activation='relu')(model)\n",
    "    model = BatchNormalization(momentum=0.15)(model)\n",
    "    model = Dropout(rate=0.3)(model)\n",
    "\n",
    "    model = Flatten()(model)\n",
    "    model = Dense(1024, activation = \"relu\")(model)\n",
    "    model = Dropout(rate=0.3)(model)\n",
    "    dense = Dense(512, activation = \"relu\")(model)\n",
    "\n",
    "    head_root = Dense(168, activation = 'softmax', name='dense_root')(dense)\n",
    "    head_vowel = Dense(11, activation = 'softmax', name='dense_vowel')(dense)\n",
    "    head_consonant = Dense(7, activation = 'softmax', name='dense_consonant')(dense)\n",
    "\n",
    "    model = Model(inputs=inputs, outputs=[head_root, head_vowel, head_consonant])\n",
    "    model.compile(optimizer='adam', loss='categorical_crossentropy', metrics=['accuracy'], loss_weights=[0.5, 0.25, 0.25])\n",
    "    model.summary()\n",
    "    \n",
    "    return model"
   ]
  },
  {
   "cell_type": "code",
   "execution_count": 0,
   "metadata": {
    "colab": {
     "base_uri": "https://localhost:8080/",
     "height": 1000
    },
    "colab_type": "code",
    "executionInfo": {
     "elapsed": 77246,
     "status": "ok",
     "timestamp": 1584564416719,
     "user": {
      "displayName": "Max Driessen",
      "photoUrl": "",
      "userId": "00614379715334685697"
     },
     "user_tz": -60
    },
    "id": "zZxHzbVrEsgI",
    "outputId": "914edfd3-73d7-4821-a6d1-2e8b4fbc0df3"
   },
   "outputs": [
    {
     "name": "stdout",
     "output_type": "stream",
     "text": [
      "WARNING:tensorflow:From /usr/local/lib/python3.6/dist-packages/keras/backend/tensorflow_backend.py:66: The name tf.get_default_graph is deprecated. Please use tf.compat.v1.get_default_graph instead.\n",
      "\n",
      "WARNING:tensorflow:From /usr/local/lib/python3.6/dist-packages/keras/backend/tensorflow_backend.py:541: The name tf.placeholder is deprecated. Please use tf.compat.v1.placeholder instead.\n",
      "\n",
      "WARNING:tensorflow:From /usr/local/lib/python3.6/dist-packages/keras/backend/tensorflow_backend.py:4432: The name tf.random_uniform is deprecated. Please use tf.random.uniform instead.\n",
      "\n",
      "WARNING:tensorflow:From /usr/local/lib/python3.6/dist-packages/keras/backend/tensorflow_backend.py:190: The name tf.get_default_session is deprecated. Please use tf.compat.v1.get_default_session instead.\n",
      "\n",
      "WARNING:tensorflow:From /usr/local/lib/python3.6/dist-packages/keras/backend/tensorflow_backend.py:197: The name tf.ConfigProto is deprecated. Please use tf.compat.v1.ConfigProto instead.\n",
      "\n",
      "WARNING:tensorflow:From /usr/local/lib/python3.6/dist-packages/keras/backend/tensorflow_backend.py:203: The name tf.Session is deprecated. Please use tf.compat.v1.Session instead.\n",
      "\n",
      "WARNING:tensorflow:From /usr/local/lib/python3.6/dist-packages/keras/backend/tensorflow_backend.py:207: The name tf.global_variables is deprecated. Please use tf.compat.v1.global_variables instead.\n",
      "\n",
      "WARNING:tensorflow:From /usr/local/lib/python3.6/dist-packages/keras/backend/tensorflow_backend.py:216: The name tf.is_variable_initialized is deprecated. Please use tf.compat.v1.is_variable_initialized instead.\n",
      "\n",
      "WARNING:tensorflow:From /usr/local/lib/python3.6/dist-packages/keras/backend/tensorflow_backend.py:223: The name tf.variables_initializer is deprecated. Please use tf.compat.v1.variables_initializer instead.\n",
      "\n",
      "WARNING:tensorflow:From /usr/local/lib/python3.6/dist-packages/keras/backend/tensorflow_backend.py:2041: The name tf.nn.fused_batch_norm is deprecated. Please use tf.compat.v1.nn.fused_batch_norm instead.\n",
      "\n",
      "WARNING:tensorflow:From /usr/local/lib/python3.6/dist-packages/keras/backend/tensorflow_backend.py:148: The name tf.placeholder_with_default is deprecated. Please use tf.compat.v1.placeholder_with_default instead.\n",
      "\n",
      "WARNING:tensorflow:From /usr/local/lib/python3.6/dist-packages/keras/backend/tensorflow_backend.py:4267: The name tf.nn.max_pool is deprecated. Please use tf.nn.max_pool2d instead.\n",
      "\n",
      "WARNING:tensorflow:From /usr/local/lib/python3.6/dist-packages/keras/backend/tensorflow_backend.py:3733: calling dropout (from tensorflow.python.ops.nn_ops) with keep_prob is deprecated and will be removed in a future version.\n",
      "Instructions for updating:\n",
      "Please use `rate` instead of `keep_prob`. Rate should be set to `rate = 1 - keep_prob`.\n",
      "WARNING:tensorflow:From /usr/local/lib/python3.6/dist-packages/keras/optimizers.py:793: The name tf.train.Optimizer is deprecated. Please use tf.compat.v1.train.Optimizer instead.\n",
      "\n",
      "WARNING:tensorflow:From /usr/local/lib/python3.6/dist-packages/keras/backend/tensorflow_backend.py:3576: The name tf.log is deprecated. Please use tf.math.log instead.\n",
      "\n",
      "Model: \"model_1\"\n",
      "__________________________________________________________________________________________________\n",
      "Layer (type)                    Output Shape         Param #     Connected to                     \n",
      "==================================================================================================\n",
      "input_1 (InputLayer)            (None, 64, 64, 1)    0                                            \n",
      "__________________________________________________________________________________________________\n",
      "conv2d_1 (Conv2D)               (None, 64, 64, 32)   320         input_1[0][0]                    \n",
      "__________________________________________________________________________________________________\n",
      "conv2d_2 (Conv2D)               (None, 64, 64, 32)   9248        conv2d_1[0][0]                   \n",
      "__________________________________________________________________________________________________\n",
      "conv2d_3 (Conv2D)               (None, 64, 64, 32)   9248        conv2d_2[0][0]                   \n",
      "__________________________________________________________________________________________________\n",
      "conv2d_4 (Conv2D)               (None, 64, 64, 32)   9248        conv2d_3[0][0]                   \n",
      "__________________________________________________________________________________________________\n",
      "batch_normalization_1 (BatchNor (None, 64, 64, 32)   128         conv2d_4[0][0]                   \n",
      "__________________________________________________________________________________________________\n",
      "max_pooling2d_1 (MaxPooling2D)  (None, 32, 32, 32)   0           batch_normalization_1[0][0]      \n",
      "__________________________________________________________________________________________________\n",
      "conv2d_5 (Conv2D)               (None, 32, 32, 32)   25632       max_pooling2d_1[0][0]            \n",
      "__________________________________________________________________________________________________\n",
      "dropout_1 (Dropout)             (None, 32, 32, 32)   0           conv2d_5[0][0]                   \n",
      "__________________________________________________________________________________________________\n",
      "conv2d_6 (Conv2D)               (None, 32, 32, 64)   18496       dropout_1[0][0]                  \n",
      "__________________________________________________________________________________________________\n",
      "conv2d_7 (Conv2D)               (None, 32, 32, 64)   36928       conv2d_6[0][0]                   \n",
      "__________________________________________________________________________________________________\n",
      "conv2d_8 (Conv2D)               (None, 32, 32, 64)   36928       conv2d_7[0][0]                   \n",
      "__________________________________________________________________________________________________\n",
      "conv2d_9 (Conv2D)               (None, 32, 32, 64)   36928       conv2d_8[0][0]                   \n",
      "__________________________________________________________________________________________________\n",
      "batch_normalization_2 (BatchNor (None, 32, 32, 64)   256         conv2d_9[0][0]                   \n",
      "__________________________________________________________________________________________________\n",
      "max_pooling2d_2 (MaxPooling2D)  (None, 16, 16, 64)   0           batch_normalization_2[0][0]      \n",
      "__________________________________________________________________________________________________\n",
      "conv2d_10 (Conv2D)              (None, 16, 16, 64)   102464      max_pooling2d_2[0][0]            \n",
      "__________________________________________________________________________________________________\n",
      "batch_normalization_3 (BatchNor (None, 16, 16, 64)   256         conv2d_10[0][0]                  \n",
      "__________________________________________________________________________________________________\n",
      "dropout_2 (Dropout)             (None, 16, 16, 64)   0           batch_normalization_3[0][0]      \n",
      "__________________________________________________________________________________________________\n",
      "conv2d_11 (Conv2D)              (None, 16, 16, 128)  73856       dropout_2[0][0]                  \n",
      "__________________________________________________________________________________________________\n",
      "conv2d_12 (Conv2D)              (None, 16, 16, 128)  147584      conv2d_11[0][0]                  \n",
      "__________________________________________________________________________________________________\n",
      "conv2d_13 (Conv2D)              (None, 16, 16, 128)  147584      conv2d_12[0][0]                  \n",
      "__________________________________________________________________________________________________\n",
      "conv2d_14 (Conv2D)              (None, 16, 16, 128)  147584      conv2d_13[0][0]                  \n",
      "__________________________________________________________________________________________________\n",
      "batch_normalization_4 (BatchNor (None, 16, 16, 128)  512         conv2d_14[0][0]                  \n",
      "__________________________________________________________________________________________________\n",
      "max_pooling2d_3 (MaxPooling2D)  (None, 8, 8, 128)    0           batch_normalization_4[0][0]      \n",
      "__________________________________________________________________________________________________\n",
      "conv2d_15 (Conv2D)              (None, 8, 8, 128)    409728      max_pooling2d_3[0][0]            \n",
      "__________________________________________________________________________________________________\n",
      "batch_normalization_5 (BatchNor (None, 8, 8, 128)    512         conv2d_15[0][0]                  \n",
      "__________________________________________________________________________________________________\n",
      "dropout_3 (Dropout)             (None, 8, 8, 128)    0           batch_normalization_5[0][0]      \n",
      "__________________________________________________________________________________________________\n",
      "conv2d_16 (Conv2D)              (None, 8, 8, 256)    295168      dropout_3[0][0]                  \n",
      "__________________________________________________________________________________________________\n",
      "conv2d_17 (Conv2D)              (None, 8, 8, 256)    590080      conv2d_16[0][0]                  \n",
      "__________________________________________________________________________________________________\n",
      "conv2d_18 (Conv2D)              (None, 8, 8, 256)    590080      conv2d_17[0][0]                  \n",
      "__________________________________________________________________________________________________\n",
      "conv2d_19 (Conv2D)              (None, 8, 8, 256)    590080      conv2d_18[0][0]                  \n",
      "__________________________________________________________________________________________________\n",
      "batch_normalization_6 (BatchNor (None, 8, 8, 256)    1024        conv2d_19[0][0]                  \n",
      "__________________________________________________________________________________________________\n",
      "max_pooling2d_4 (MaxPooling2D)  (None, 4, 4, 256)    0           batch_normalization_6[0][0]      \n",
      "__________________________________________________________________________________________________\n",
      "conv2d_20 (Conv2D)              (None, 4, 4, 256)    1638656     max_pooling2d_4[0][0]            \n",
      "__________________________________________________________________________________________________\n",
      "batch_normalization_7 (BatchNor (None, 4, 4, 256)    1024        conv2d_20[0][0]                  \n",
      "__________________________________________________________________________________________________\n",
      "dropout_4 (Dropout)             (None, 4, 4, 256)    0           batch_normalization_7[0][0]      \n",
      "__________________________________________________________________________________________________\n",
      "flatten_1 (Flatten)             (None, 4096)         0           dropout_4[0][0]                  \n",
      "__________________________________________________________________________________________________\n",
      "dense_1 (Dense)                 (None, 1024)         4195328     flatten_1[0][0]                  \n",
      "__________________________________________________________________________________________________\n",
      "dropout_5 (Dropout)             (None, 1024)         0           dense_1[0][0]                    \n",
      "__________________________________________________________________________________________________\n",
      "dense_2 (Dense)                 (None, 512)          524800      dropout_5[0][0]                  \n",
      "__________________________________________________________________________________________________\n",
      "dense_root (Dense)              (None, 168)          86184       dense_2[0][0]                    \n",
      "__________________________________________________________________________________________________\n",
      "dense_vowel (Dense)             (None, 11)           5643        dense_2[0][0]                    \n",
      "__________________________________________________________________________________________________\n",
      "dense_consonant (Dense)         (None, 7)            3591        dense_2[0][0]                    \n",
      "==================================================================================================\n",
      "Total params: 9,735,098\n",
      "Trainable params: 9,733,242\n",
      "Non-trainable params: 1,856\n",
      "__________________________________________________________________________________________________\n"
     ]
    }
   ],
   "source": [
    "model = build_convolutional()"
   ]
  },
  {
   "cell_type": "markdown",
   "metadata": {
    "colab_type": "text",
    "id": "i5U_L_F9EsgL"
   },
   "source": [
    "## Class Weights"
   ]
  },
  {
   "cell_type": "code",
   "execution_count": 0,
   "metadata": {
    "colab": {},
    "colab_type": "code",
    "id": "cFKbG4joEsgM"
   },
   "outputs": [],
   "source": [
    "train_grapheme = train_df[\"grapheme_root\"].to_numpy()\n",
    "train_vowel = train_df[\"vowel_diacritic\"].to_numpy()\n",
    "train_consonant = train_df[\"consonant_diacritic\"].to_numpy()"
   ]
  },
  {
   "cell_type": "code",
   "execution_count": 0,
   "metadata": {
    "colab": {},
    "colab_type": "code",
    "id": "7YWw9eVdEsgP"
   },
   "outputs": [],
   "source": [
    "class_weights_grapheme = class_weight.compute_class_weight('balanced', np.unique(train_grapheme), train_grapheme)\n",
    "class_weights_vowel = class_weight.compute_class_weight('balanced', np.unique(train_vowel), train_vowel)\n",
    "class_weights_consonant = class_weight.compute_class_weight('balanced', np.unique(train_consonant), train_consonant)\n",
    "class_weights = [class_weights_grapheme, class_weights_vowel, class_weights_consonant]"
   ]
  },
  {
   "cell_type": "code",
   "execution_count": 0,
   "metadata": {
    "colab": {
     "base_uri": "https://localhost:8080/",
     "height": 586
    },
    "colab_type": "code",
    "executionInfo": {
     "elapsed": 76429,
     "status": "ok",
     "timestamp": 1584564416721,
     "user": {
      "displayName": "Max Driessen",
      "photoUrl": "",
      "userId": "00614379715334685697"
     },
     "user_tz": -60
    },
    "id": "Zb3172svEsgR",
    "outputId": "f7086089-1ee2-451e-8d1b-12f261a7b549"
   },
   "outputs": [
    {
     "name": "stdout",
     "output_type": "stream",
     "text": [
      "[8.13249109 8.24466338 3.54740709 3.75935909 3.61171055 6.83129252\n",
      " 3.8814162  7.81356987 7.61449803 2.69251394 7.86497494 7.91706086\n",
      " 8.18819309 0.22056756 1.50185451 1.10385613 1.27178318 1.57092798\n",
      " 0.7320736  4.30027407 3.55796485 1.269083   0.40374069 0.23217638\n",
      " 3.55796485 1.06075971 6.99108883 3.91959407 1.57506744 0.43002741\n",
      " 2.73564346 1.55660962 1.06075971 8.79026611 4.33143547 2.5115046\n",
      " 1.16745722 4.1946533  0.35643297 1.93756271 1.57922879 3.91959407\n",
      " 0.61087184 0.32933228 1.13100869 8.30191799 2.06116585 2.64485883\n",
      " 0.86880537 3.72422489 1.61988644 3.66710488 1.27858416 0.32397729\n",
      " 2.01938546 0.71159297 0.44474561 1.88858798 0.93033167 0.51110568\n",
      " 2.80628214 2.07908903 1.37727672 8.02333014 0.21363048 0.87580673\n",
      " 1.52096207 2.51679198 1.89457399 1.57922879 1.24919142 0.40717854\n",
      " 0.20841635 9.1959707  0.78753372 1.06075971 0.61749803 1.24919142\n",
      " 4.08012352 0.34571318 2.62165831 0.34772431 4.09409654 0.84307207\n",
      " 2.59886128 0.87709185 0.57090554 7.11592971 1.57299499 0.51685093\n",
      " 1.90666059 0.77678765 1.07121522 1.92198744 1.22864973 1.64439641\n",
      " 0.24268701 2.48539749 1.90666059 2.61021002 2.66847364 1.10385613\n",
      " 8.47855454 0.34541352 7.47172619 7.91706086 1.59184579 0.22467134\n",
      " 7.566305   1.31660373 3.49554442 1.51902947 1.34929593 0.27200823\n",
      " 7.96984127 0.29775248 2.74191787 0.78084663 1.04958401 0.77779843\n",
      " 0.99045252 2.5876108  0.51685093 0.57668895 0.54637851 1.47045042\n",
      " 7.51871818 1.28961833 1.2557523  1.22236829 8.30191799 2.69859185\n",
      " 1.15060269 0.27331417 1.91890239 1.87672871 1.13746545 2.12718183\n",
      " 1.27995309 0.51707448 1.35388017 0.68469427 1.1204088  1.96301509\n",
      " 1.95339247 3.77121827 3.95853043 0.27219403 0.69383412 0.49770033\n",
      " 0.51729822 0.95791361 1.96948302 0.76978506 1.63316419 1.28822865\n",
      " 1.513261   3.68974133 8.35997336 0.36436336 2.4905754  3.84397489\n",
      " 2.57091654 7.24531025 7.28948897 1.04682679 3.89405925 0.75424365]\n",
      "[0.43987139 0.49498948 0.7031302  1.13039759 0.96870659 3.44689104\n",
      " 4.21083529 0.63566417 5.1752216  1.13885865 5.12438446]\n",
      "[ 0.22902208  3.86468596  1.22273295 46.35125779  1.34891531  1.34090894\n",
      " 20.68596148]\n"
     ]
    }
   ],
   "source": [
    "print(class_weights_grapheme)\n",
    "print(class_weights_vowel)\n",
    "print(class_weights_consonant)"
   ]
  },
  {
   "cell_type": "markdown",
   "metadata": {
    "colab_type": "text",
    "id": "NwFH-UhXEsgV"
   },
   "source": [
    "## Cyclical Learning Rate"
   ]
  },
  {
   "cell_type": "code",
   "execution_count": 0,
   "metadata": {
    "colab": {},
    "colab_type": "code",
    "id": "nqoIdoQYEsgW"
   },
   "outputs": [],
   "source": [
    "# Source: https://github.com/keras-team/keras-contrib/blob/master/keras_contrib/callbacks/cyclical_learning_rate.py\n",
    "\n",
    "class CyclicLR(Callback):\n",
    "\n",
    "    def __init__( self, base_lr=0.001, max_lr=0.006, step_size=2000.,\n",
    "                  mode='triangular', gamma=1., scale_fn=None, scale_mode='cycle'):\n",
    "        \n",
    "        super(CyclicLR, self).__init__()\n",
    "\n",
    "        if mode not in ['triangular', 'triangular2', 'exp_range']:\n",
    "            raise KeyError(\"mode must be one of 'triangular', 'triangular2', or 'exp_range'\")\n",
    "        self.base_lr = base_lr\n",
    "        self.max_lr = max_lr\n",
    "        self.step_size = step_size\n",
    "        self.mode = mode\n",
    "        self.gamma = gamma\n",
    "        if scale_fn is None:\n",
    "            if self.mode == 'triangular':\n",
    "                self.scale_fn = lambda x: 1.\n",
    "                self.scale_mode = 'cycle'\n",
    "            elif self.mode == 'triangular2':\n",
    "                self.scale_fn = lambda x: 1 / (2.**(x - 1))\n",
    "                self.scale_mode = 'cycle'\n",
    "            elif self.mode == 'exp_range':\n",
    "                self.scale_fn = lambda x: gamma ** x\n",
    "                self.scale_mode = 'iterations'\n",
    "        else:\n",
    "            self.scale_fn = scale_fn\n",
    "            self.scale_mode = scale_mode\n",
    "        self.clr_iterations = 0.\n",
    "        self.trn_iterations = 0.\n",
    "        self.history = {}\n",
    "\n",
    "        self._reset()\n",
    "\n",
    "    def _reset(self, new_base_lr=None, new_max_lr=None,\n",
    "               new_step_size=None):\n",
    "        \"\"\"Resets cycle iterations.\n",
    "        Optional boundary/step size adjustment.\n",
    "        \"\"\"\n",
    "        if new_base_lr is not None:\n",
    "            self.base_lr = new_base_lr\n",
    "        if new_max_lr is not None:\n",
    "            self.max_lr = new_max_lr\n",
    "        if new_step_size is not None:\n",
    "            self.step_size = new_step_size\n",
    "        self.clr_iterations = 0.\n",
    "\n",
    "    def clr(self):\n",
    "        cycle = np.floor(1 + self.clr_iterations / (2 * self.step_size))\n",
    "        x = np.abs(self.clr_iterations / self.step_size - 2 * cycle + 1)\n",
    "        if self.scale_mode == 'cycle':\n",
    "            return self.base_lr + (self.max_lr - self.base_lr) * \\\n",
    "                np.maximum(0, (1 - x)) * self.scale_fn(cycle)\n",
    "        else:\n",
    "            return self.base_lr + (self.max_lr - self.base_lr) * \\\n",
    "                np.maximum(0, (1 - x)) * self.scale_fn(self.clr_iterations)\n",
    "\n",
    "    def on_train_begin(self, logs={}):\n",
    "        logs = logs or {}\n",
    "\n",
    "        if self.clr_iterations == 0:\n",
    "            K.set_value(self.model.optimizer.lr, self.base_lr)\n",
    "        else:\n",
    "            K.set_value(self.model.optimizer.lr, self.clr())\n",
    "\n",
    "    def on_batch_end(self, epoch, logs=None):\n",
    "        logs = logs or {}\n",
    "        self.trn_iterations += 1\n",
    "        self.clr_iterations += 1\n",
    "        K.set_value(self.model.optimizer.lr, self.clr())\n",
    "\n",
    "        self.history.setdefault(\n",
    "            'lr', []).append(\n",
    "            K.get_value(\n",
    "                self.model.optimizer.lr))\n",
    "        self.history.setdefault('iterations', []).append(self.trn_iterations)\n",
    "\n",
    "        for k, v in logs.items():\n",
    "            self.history.setdefault(k, []).append(v)\n",
    "\n",
    "    def on_epoch_end(self, epoch, logs=None):\n",
    "        logs = logs or {}\n",
    "        logs['lr'] = K.get_value(self.model.optimizer.lr)"
   ]
  },
  {
   "cell_type": "markdown",
   "metadata": {
    "colab_type": "text",
    "id": "rmHCa2GrEsgZ"
   },
   "source": [
    "## Training"
   ]
  },
  {
   "cell_type": "code",
   "execution_count": 0,
   "metadata": {
    "colab": {},
    "colab_type": "code",
    "id": "NT1DxZ2yEsga"
   },
   "outputs": [],
   "source": [
    "batch_size = 256\n",
    "epochs = 50"
   ]
  },
  {
   "cell_type": "code",
   "execution_count": 0,
   "metadata": {
    "colab": {},
    "colab_type": "code",
    "id": "b65MkX8UEsgd"
   },
   "outputs": [],
   "source": [
    "class MultiOutputDataGenerator(keras.preprocessing.image.ImageDataGenerator):\n",
    "\n",
    "    def flow(self, x, y=None, batch_size=32, shuffle=True, sample_weight=None,  \n",
    "             seed=None, save_to_dir=None, save_prefix='', save_format='png', subset=None):\n",
    "\n",
    "        targets = None\n",
    "        target_lengths = {}\n",
    "        ordered_outputs = []\n",
    "        for output, target in y.items():\n",
    "            if targets is None:\n",
    "                targets = target\n",
    "            else:\n",
    "                targets = np.concatenate((targets, target), axis=1)\n",
    "            target_lengths[output] = target.shape[1]\n",
    "            ordered_outputs.append(output)\n",
    "\n",
    "\n",
    "        for flowx, flowy in super().flow(x, targets, batch_size=batch_size, shuffle=shuffle):\n",
    "            target_dict = {}\n",
    "            i = 0\n",
    "            for output in ordered_outputs:\n",
    "                target_length = target_lengths[output]\n",
    "                target_dict[output] = flowy[:, i: i + target_length]\n",
    "                i += target_length\n",
    "\n",
    "            yield flowx, target_dict"
   ]
  },
  {
   "cell_type": "code",
   "execution_count": 0,
   "metadata": {
    "colab": {
     "base_uri": "https://localhost:8080/",
     "height": 1000
    },
    "colab_type": "code",
    "executionInfo": {
     "elapsed": 3782914,
     "status": "ok",
     "timestamp": 1584570206742,
     "user": {
      "displayName": "Max Driessen",
      "photoUrl": "",
      "userId": "00614379715334685697"
     },
     "user_tz": -60
    },
    "id": "w170Vl97Esgf",
    "outputId": "d1639474-8de9-4e0a-83eb-55e82352631f"
   },
   "outputs": [
    {
     "name": "stdout",
     "output_type": "stream",
     "text": [
      "Training images: (200840, 64, 64, 1)\n",
      "Training labels root: (200840, 168)\n",
      "Training labels vowel: (200840, 11)\n",
      "Training labels consonants: (200840, 7)\n",
      "WARNING:tensorflow:From /tensorflow-1.15.0/python3.6/tensorflow_core/python/ops/math_grad.py:1424: where (from tensorflow.python.ops.array_ops) is deprecated and will be removed in a future version.\n",
      "Instructions for updating:\n",
      "Use tf.where in 2.0, which has the same broadcast rule as np.where\n",
      "WARNING:tensorflow:From /usr/local/lib/python3.6/dist-packages/keras/backend/tensorflow_backend.py:1033: The name tf.assign_add is deprecated. Please use tf.compat.v1.assign_add instead.\n",
      "\n",
      "WARNING:tensorflow:From /usr/local/lib/python3.6/dist-packages/keras/backend/tensorflow_backend.py:1020: The name tf.assign is deprecated. Please use tf.compat.v1.assign instead.\n",
      "\n",
      "Epoch 1/50\n",
      "721/721 [==============================] - 125s 173ms/step - loss: 3.0472 - dense_root_loss: 4.6587 - dense_vowel_loss: 1.7400 - dense_consonant_loss: 1.1314 - dense_root_acc: 0.0379 - dense_vowel_acc: 0.3754 - dense_consonant_acc: 0.6293 - val_loss: 2.5845 - val_dense_root_loss: 4.3400 - val_dense_vowel_loss: 0.8139 - val_dense_consonant_loss: 0.8440 - val_dense_root_acc: 0.0711 - val_dense_vowel_acc: 0.7068 - val_dense_consonant_acc: 0.6957\n",
      "Epoch 2/50\n",
      "721/721 [==============================] - 115s 160ms/step - loss: 1.8122 - dense_root_loss: 2.9601 - dense_vowel_loss: 0.7093 - dense_consonant_loss: 0.6191 - dense_root_acc: 0.2535 - dense_vowel_acc: 0.7509 - dense_consonant_acc: 0.7795 - val_loss: 0.8642 - val_dense_root_loss: 1.4191 - val_dense_vowel_loss: 0.3270 - val_dense_consonant_loss: 0.2915 - val_dense_root_acc: 0.5815 - val_dense_vowel_acc: 0.8918 - val_dense_consonant_acc: 0.9022\n",
      "Epoch 3/50\n",
      "721/721 [==============================] - 114s 158ms/step - loss: 0.8148 - dense_root_loss: 1.2859 - dense_vowel_loss: 0.3839 - dense_consonant_loss: 0.3033 - dense_root_acc: 0.6306 - dense_vowel_acc: 0.8752 - dense_consonant_acc: 0.9002 - val_loss: 0.4675 - val_dense_root_loss: 0.7339 - val_dense_vowel_loss: 0.2197 - val_dense_consonant_loss: 0.1824 - val_dense_root_acc: 0.7937 - val_dense_vowel_acc: 0.9373 - val_dense_consonant_acc: 0.9430\n",
      "Epoch 4/50\n",
      "721/721 [==============================] - 114s 158ms/step - loss: 0.5167 - dense_root_loss: 0.7938 - dense_vowel_loss: 0.2684 - dense_consonant_loss: 0.2108 - dense_root_acc: 0.7736 - dense_vowel_acc: 0.9184 - dense_consonant_acc: 0.9329 - val_loss: 0.3028 - val_dense_root_loss: 0.4684 - val_dense_vowel_loss: 0.1441 - val_dense_consonant_loss: 0.1302 - val_dense_root_acc: 0.8706 - val_dense_vowel_acc: 0.9594 - val_dense_consonant_acc: 0.9602\n",
      "Epoch 5/50\n",
      "721/721 [==============================] - 114s 158ms/step - loss: 0.3733 - dense_root_loss: 0.5657 - dense_vowel_loss: 0.1966 - dense_consonant_loss: 0.1654 - dense_root_acc: 0.8400 - dense_vowel_acc: 0.9418 - dense_consonant_acc: 0.9487 - val_loss: 0.2107 - val_dense_root_loss: 0.3268 - val_dense_vowel_loss: 0.1043 - val_dense_consonant_loss: 0.0851 - val_dense_root_acc: 0.9076 - val_dense_vowel_acc: 0.9715 - val_dense_consonant_acc: 0.9746\n",
      "Epoch 6/50\n",
      "721/721 [==============================] - 114s 158ms/step - loss: 0.2765 - dense_root_loss: 0.4147 - dense_vowel_loss: 0.1499 - dense_consonant_loss: 0.1267 - dense_root_acc: 0.8816 - dense_vowel_acc: 0.9577 - dense_consonant_acc: 0.9614 - val_loss: 0.1763 - val_dense_root_loss: 0.2719 - val_dense_vowel_loss: 0.0874 - val_dense_consonant_loss: 0.0741 - val_dense_root_acc: 0.9220 - val_dense_vowel_acc: 0.9760 - val_dense_consonant_acc: 0.9777\n",
      "Epoch 7/50\n",
      "721/721 [==============================] - 114s 158ms/step - loss: 0.2139 - dense_root_loss: 0.3180 - dense_vowel_loss: 0.1187 - dense_consonant_loss: 0.1011 - dense_root_acc: 0.9079 - dense_vowel_acc: 0.9671 - dense_consonant_acc: 0.9697 - val_loss: 0.1441 - val_dense_root_loss: 0.2184 - val_dense_vowel_loss: 0.0772 - val_dense_consonant_loss: 0.0625 - val_dense_root_acc: 0.9387 - val_dense_vowel_acc: 0.9808 - val_dense_consonant_acc: 0.9817\n",
      "Epoch 8/50\n",
      "721/721 [==============================] - 114s 159ms/step - loss: 0.1659 - dense_root_loss: 0.2434 - dense_vowel_loss: 0.0939 - dense_consonant_loss: 0.0826 - dense_root_acc: 0.9284 - dense_vowel_acc: 0.9744 - dense_consonant_acc: 0.9753 - val_loss: 0.1243 - val_dense_root_loss: 0.1881 - val_dense_vowel_loss: 0.0661 - val_dense_consonant_loss: 0.0548 - val_dense_root_acc: 0.9472 - val_dense_vowel_acc: 0.9838 - val_dense_consonant_acc: 0.9835\n",
      "Epoch 9/50\n",
      "721/721 [==============================] - 114s 158ms/step - loss: 0.1465 - dense_root_loss: 0.2134 - dense_vowel_loss: 0.0851 - dense_consonant_loss: 0.0739 - dense_root_acc: 0.9363 - dense_vowel_acc: 0.9764 - dense_consonant_acc: 0.9776 - val_loss: 0.1288 - val_dense_root_loss: 0.1942 - val_dense_vowel_loss: 0.0700 - val_dense_consonant_loss: 0.0568 - val_dense_root_acc: 0.9458 - val_dense_vowel_acc: 0.9823 - val_dense_consonant_acc: 0.9824\n",
      "Epoch 10/50\n",
      "721/721 [==============================] - 114s 158ms/step - loss: 0.1665 - dense_root_loss: 0.2443 - dense_vowel_loss: 0.0947 - dense_consonant_loss: 0.0827 - dense_root_acc: 0.9283 - dense_vowel_acc: 0.9740 - dense_consonant_acc: 0.9751 - val_loss: 0.1430 - val_dense_root_loss: 0.2216 - val_dense_vowel_loss: 0.0708 - val_dense_consonant_loss: 0.0581 - val_dense_root_acc: 0.9388 - val_dense_vowel_acc: 0.9825 - val_dense_consonant_acc: 0.9817\n",
      "Epoch 11/50\n",
      "721/721 [==============================] - 114s 158ms/step - loss: 0.1913 - dense_root_loss: 0.2833 - dense_vowel_loss: 0.1070 - dense_consonant_loss: 0.0917 - dense_root_acc: 0.9181 - dense_vowel_acc: 0.9703 - dense_consonant_acc: 0.9723 - val_loss: 0.1632 - val_dense_root_loss: 0.2457 - val_dense_vowel_loss: 0.0921 - val_dense_consonant_loss: 0.0695 - val_dense_root_acc: 0.9312 - val_dense_vowel_acc: 0.9767 - val_dense_consonant_acc: 0.9792\n",
      "Epoch 12/50\n",
      "721/721 [==============================] - 114s 158ms/step - loss: 0.2109 - dense_root_loss: 0.3119 - dense_vowel_loss: 0.1184 - dense_consonant_loss: 0.1013 - dense_root_acc: 0.9094 - dense_vowel_acc: 0.9671 - dense_consonant_acc: 0.9697 - val_loss: 0.1587 - val_dense_root_loss: 0.2437 - val_dense_vowel_loss: 0.0779 - val_dense_consonant_loss: 0.0697 - val_dense_root_acc: 0.9336 - val_dense_vowel_acc: 0.9803 - val_dense_consonant_acc: 0.9786\n",
      "Epoch 13/50\n",
      "721/721 [==============================] - 114s 158ms/step - loss: 0.1946 - dense_root_loss: 0.2867 - dense_vowel_loss: 0.1107 - dense_consonant_loss: 0.0942 - dense_root_acc: 0.9166 - dense_vowel_acc: 0.9695 - dense_consonant_acc: 0.9712 - val_loss: 0.1365 - val_dense_root_loss: 0.2061 - val_dense_vowel_loss: 0.0720 - val_dense_consonant_loss: 0.0621 - val_dense_root_acc: 0.9435 - val_dense_vowel_acc: 0.9816 - val_dense_consonant_acc: 0.9828\n",
      "Epoch 14/50\n",
      "721/721 [==============================] - 114s 158ms/step - loss: 0.1591 - dense_root_loss: 0.2325 - dense_vowel_loss: 0.0916 - dense_consonant_loss: 0.0797 - dense_root_acc: 0.9320 - dense_vowel_acc: 0.9748 - dense_consonant_acc: 0.9764 - val_loss: 0.1320 - val_dense_root_loss: 0.2030 - val_dense_vowel_loss: 0.0663 - val_dense_consonant_loss: 0.0556 - val_dense_root_acc: 0.9437 - val_dense_vowel_acc: 0.9838 - val_dense_consonant_acc: 0.9845\n",
      "Epoch 15/50\n",
      "721/721 [==============================] - 115s 159ms/step - loss: 0.1303 - dense_root_loss: 0.1883 - dense_vowel_loss: 0.0770 - dense_consonant_loss: 0.0677 - dense_root_acc: 0.9441 - dense_vowel_acc: 0.9789 - dense_consonant_acc: 0.9798 - val_loss: 0.1145 - val_dense_root_loss: 0.1749 - val_dense_vowel_loss: 0.0589 - val_dense_consonant_loss: 0.0493 - val_dense_root_acc: 0.9525 - val_dense_vowel_acc: 0.9851 - val_dense_consonant_acc: 0.9861\n",
      "Epoch 16/50\n",
      "721/721 [==============================] - 115s 159ms/step - loss: 0.1059 - dense_root_loss: 0.1514 - dense_vowel_loss: 0.0651 - dense_consonant_loss: 0.0559 - dense_root_acc: 0.9541 - dense_vowel_acc: 0.9821 - dense_consonant_acc: 0.9834 - val_loss: 0.1062 - val_dense_root_loss: 0.1613 - val_dense_vowel_loss: 0.0559 - val_dense_consonant_loss: 0.0462 - val_dense_root_acc: 0.9559 - val_dense_vowel_acc: 0.9857 - val_dense_consonant_acc: 0.9869\n",
      "Epoch 17/50\n",
      "721/721 [==============================] - 115s 159ms/step - loss: 0.0974 - dense_root_loss: 0.1381 - dense_vowel_loss: 0.0592 - dense_consonant_loss: 0.0543 - dense_root_acc: 0.9577 - dense_vowel_acc: 0.9840 - dense_consonant_acc: 0.9839 - val_loss: 0.1096 - val_dense_root_loss: 0.1672 - val_dense_vowel_loss: 0.0576 - val_dense_consonant_loss: 0.0466 - val_dense_root_acc: 0.9536 - val_dense_vowel_acc: 0.9864 - val_dense_consonant_acc: 0.9867\n",
      "Epoch 18/50\n",
      "721/721 [==============================] - 115s 159ms/step - loss: 0.1031 - dense_root_loss: 0.1464 - dense_vowel_loss: 0.0635 - dense_consonant_loss: 0.0562 - dense_root_acc: 0.9549 - dense_vowel_acc: 0.9827 - dense_consonant_acc: 0.9830 - val_loss: 0.1108 - val_dense_root_loss: 0.1690 - val_dense_vowel_loss: 0.0578 - val_dense_consonant_loss: 0.0475 - val_dense_root_acc: 0.9559 - val_dense_vowel_acc: 0.9857 - val_dense_consonant_acc: 0.9866\n",
      "Epoch 19/50\n",
      "721/721 [==============================] - 114s 159ms/step - loss: 0.1110 - dense_root_loss: 0.1595 - dense_vowel_loss: 0.0661 - dense_consonant_loss: 0.0589 - dense_root_acc: 0.9514 - dense_vowel_acc: 0.9818 - dense_consonant_acc: 0.9825 - val_loss: 0.1244 - val_dense_root_loss: 0.1887 - val_dense_vowel_loss: 0.0658 - val_dense_consonant_loss: 0.0543 - val_dense_root_acc: 0.9482 - val_dense_vowel_acc: 0.9842 - val_dense_consonant_acc: 0.9848\n",
      "Epoch 20/50\n",
      "721/721 [==============================] - 114s 158ms/step - loss: 0.1211 - dense_root_loss: 0.1744 - dense_vowel_loss: 0.0725 - dense_consonant_loss: 0.0632 - dense_root_acc: 0.9467 - dense_vowel_acc: 0.9802 - dense_consonant_acc: 0.9812 - val_loss: 0.1247 - val_dense_root_loss: 0.1924 - val_dense_vowel_loss: 0.0653 - val_dense_consonant_loss: 0.0487 - val_dense_root_acc: 0.9479 - val_dense_vowel_acc: 0.9846 - val_dense_consonant_acc: 0.9860\n",
      "Epoch 21/50\n",
      "721/721 [==============================] - 114s 158ms/step - loss: 0.1182 - dense_root_loss: 0.1699 - dense_vowel_loss: 0.0717 - dense_consonant_loss: 0.0616 - dense_root_acc: 0.9484 - dense_vowel_acc: 0.9801 - dense_consonant_acc: 0.9815 - val_loss: 0.1188 - val_dense_root_loss: 0.1812 - val_dense_vowel_loss: 0.0624 - val_dense_consonant_loss: 0.0504 - val_dense_root_acc: 0.9520 - val_dense_vowel_acc: 0.9853 - val_dense_consonant_acc: 0.9857\n",
      "Epoch 22/50\n",
      "721/721 [==============================] - 114s 158ms/step - loss: 0.1046 - dense_root_loss: 0.1495 - dense_vowel_loss: 0.0644 - dense_consonant_loss: 0.0549 - dense_root_acc: 0.9553 - dense_vowel_acc: 0.9824 - dense_consonant_acc: 0.9839 - val_loss: 0.1105 - val_dense_root_loss: 0.1682 - val_dense_vowel_loss: 0.0575 - val_dense_consonant_loss: 0.0480 - val_dense_root_acc: 0.9556 - val_dense_vowel_acc: 0.9862 - val_dense_consonant_acc: 0.9870\n",
      "Epoch 23/50\n",
      "721/721 [==============================] - 114s 158ms/step - loss: 0.0900 - dense_root_loss: 0.1269 - dense_vowel_loss: 0.0561 - dense_consonant_loss: 0.0499 - dense_root_acc: 0.9608 - dense_vowel_acc: 0.9846 - dense_consonant_acc: 0.9854 - val_loss: 0.1067 - val_dense_root_loss: 0.1640 - val_dense_vowel_loss: 0.0548 - val_dense_consonant_loss: 0.0441 - val_dense_root_acc: 0.9558 - val_dense_vowel_acc: 0.9874 - val_dense_consonant_acc: 0.9874\n",
      "Epoch 24/50\n",
      "721/721 [==============================] - 114s 158ms/step - loss: 0.0795 - dense_root_loss: 0.1097 - dense_vowel_loss: 0.0528 - dense_consonant_loss: 0.0457 - dense_root_acc: 0.9654 - dense_vowel_acc: 0.9857 - dense_consonant_acc: 0.9863 - val_loss: 0.1019 - val_dense_root_loss: 0.1551 - val_dense_vowel_loss: 0.0545 - val_dense_consonant_loss: 0.0431 - val_dense_root_acc: 0.9587 - val_dense_vowel_acc: 0.9871 - val_dense_consonant_acc: 0.9879\n",
      "Epoch 25/50\n",
      "721/721 [==============================] - 114s 158ms/step - loss: 0.0739 - dense_root_loss: 0.1025 - dense_vowel_loss: 0.0479 - dense_consonant_loss: 0.0428 - dense_root_acc: 0.9671 - dense_vowel_acc: 0.9866 - dense_consonant_acc: 0.9871 - val_loss: 0.1037 - val_dense_root_loss: 0.1581 - val_dense_vowel_loss: 0.0548 - val_dense_consonant_loss: 0.0440 - val_dense_root_acc: 0.9586 - val_dense_vowel_acc: 0.9877 - val_dense_consonant_acc: 0.9877\n",
      "Epoch 26/50\n",
      "721/721 [==============================] - 114s 158ms/step - loss: 0.0758 - dense_root_loss: 0.1053 - dense_vowel_loss: 0.0498 - dense_consonant_loss: 0.0430 - dense_root_acc: 0.9666 - dense_vowel_acc: 0.9863 - dense_consonant_acc: 0.9871 - val_loss: 0.1034 - val_dense_root_loss: 0.1585 - val_dense_vowel_loss: 0.0535 - val_dense_consonant_loss: 0.0430 - val_dense_root_acc: 0.9584 - val_dense_vowel_acc: 0.9869 - val_dense_consonant_acc: 0.9881\n",
      "Epoch 27/50\n",
      "721/721 [==============================] - 114s 158ms/step - loss: 0.0798 - dense_root_loss: 0.1117 - dense_vowel_loss: 0.0501 - dense_consonant_loss: 0.0456 - dense_root_acc: 0.9645 - dense_vowel_acc: 0.9860 - dense_consonant_acc: 0.9863 - val_loss: 0.1056 - val_dense_root_loss: 0.1615 - val_dense_vowel_loss: 0.0545 - val_dense_consonant_loss: 0.0449 - val_dense_root_acc: 0.9562 - val_dense_vowel_acc: 0.9876 - val_dense_consonant_acc: 0.9871\n",
      "Epoch 28/50\n",
      "721/721 [==============================] - 114s 158ms/step - loss: 0.0833 - dense_root_loss: 0.1164 - dense_vowel_loss: 0.0534 - dense_consonant_loss: 0.0468 - dense_root_acc: 0.9632 - dense_vowel_acc: 0.9851 - dense_consonant_acc: 0.9859 - val_loss: 0.1121 - val_dense_root_loss: 0.1720 - val_dense_vowel_loss: 0.0577 - val_dense_consonant_loss: 0.0467 - val_dense_root_acc: 0.9544 - val_dense_vowel_acc: 0.9862 - val_dense_consonant_acc: 0.9862\n",
      "Epoch 29/50\n",
      "721/721 [==============================] - 114s 159ms/step - loss: 0.0831 - dense_root_loss: 0.1167 - dense_vowel_loss: 0.0516 - dense_consonant_loss: 0.0473 - dense_root_acc: 0.9635 - dense_vowel_acc: 0.9858 - dense_consonant_acc: 0.9860 - val_loss: 0.1051 - val_dense_root_loss: 0.1606 - val_dense_vowel_loss: 0.0544 - val_dense_consonant_loss: 0.0447 - val_dense_root_acc: 0.9581 - val_dense_vowel_acc: 0.9873 - val_dense_consonant_acc: 0.9876\n",
      "Epoch 30/50\n",
      "721/721 [==============================] - 115s 160ms/step - loss: 0.0773 - dense_root_loss: 0.1079 - dense_vowel_loss: 0.0503 - dense_consonant_loss: 0.0433 - dense_root_acc: 0.9660 - dense_vowel_acc: 0.9859 - dense_consonant_acc: 0.9870 - val_loss: 0.1056 - val_dense_root_loss: 0.1616 - val_dense_vowel_loss: 0.0544 - val_dense_consonant_loss: 0.0449 - val_dense_root_acc: 0.9579 - val_dense_vowel_acc: 0.9871 - val_dense_consonant_acc: 0.9875\n",
      "Epoch 31/50\n",
      "721/721 [==============================] - 115s 159ms/step - loss: 0.0694 - dense_root_loss: 0.0953 - dense_vowel_loss: 0.0465 - dense_consonant_loss: 0.0405 - dense_root_acc: 0.9699 - dense_vowel_acc: 0.9871 - dense_consonant_acc: 0.9879 - val_loss: 0.1017 - val_dense_root_loss: 0.1555 - val_dense_vowel_loss: 0.0525 - val_dense_consonant_loss: 0.0431 - val_dense_root_acc: 0.9600 - val_dense_vowel_acc: 0.9882 - val_dense_consonant_acc: 0.9876\n",
      "Epoch 32/50\n",
      "721/721 [==============================] - 115s 159ms/step - loss: 0.0650 - dense_root_loss: 0.0883 - dense_vowel_loss: 0.0452 - dense_consonant_loss: 0.0384 - dense_root_acc: 0.9718 - dense_vowel_acc: 0.9875 - dense_consonant_acc: 0.9887 - val_loss: 0.1002 - val_dense_root_loss: 0.1539 - val_dense_vowel_loss: 0.0515 - val_dense_consonant_loss: 0.0413 - val_dense_root_acc: 0.9595 - val_dense_vowel_acc: 0.9877 - val_dense_consonant_acc: 0.9879\n",
      "Epoch 33/50\n",
      "721/721 [==============================] - 114s 159ms/step - loss: 0.0621 - dense_root_loss: 0.0848 - dense_vowel_loss: 0.0418 - dense_consonant_loss: 0.0370 - dense_root_acc: 0.9730 - dense_vowel_acc: 0.9883 - dense_consonant_acc: 0.9891 - val_loss: 0.1010 - val_dense_root_loss: 0.1549 - val_dense_vowel_loss: 0.0523 - val_dense_consonant_loss: 0.0420 - val_dense_root_acc: 0.9605 - val_dense_vowel_acc: 0.9881 - val_dense_consonant_acc: 0.9884\n",
      "Epoch 34/50\n",
      "721/721 [==============================] - 114s 158ms/step - loss: 0.0620 - dense_root_loss: 0.0843 - dense_vowel_loss: 0.0422 - dense_consonant_loss: 0.0372 - dense_root_acc: 0.9728 - dense_vowel_acc: 0.9881 - dense_consonant_acc: 0.9891 - val_loss: 0.1031 - val_dense_root_loss: 0.1584 - val_dense_vowel_loss: 0.0535 - val_dense_consonant_loss: 0.0422 - val_dense_root_acc: 0.9600 - val_dense_vowel_acc: 0.9882 - val_dense_consonant_acc: 0.9881\n",
      "Epoch 35/50\n",
      "721/721 [==============================] - 114s 158ms/step - loss: 0.0642 - dense_root_loss: 0.0876 - dense_vowel_loss: 0.0436 - dense_consonant_loss: 0.0380 - dense_root_acc: 0.9718 - dense_vowel_acc: 0.9880 - dense_consonant_acc: 0.9888 - val_loss: 0.1071 - val_dense_root_loss: 0.1647 - val_dense_vowel_loss: 0.0558 - val_dense_consonant_loss: 0.0432 - val_dense_root_acc: 0.9588 - val_dense_vowel_acc: 0.9869 - val_dense_consonant_acc: 0.9877\n",
      "Epoch 36/50\n",
      "721/721 [==============================] - 114s 158ms/step - loss: 0.0650 - dense_root_loss: 0.0893 - dense_vowel_loss: 0.0433 - dense_consonant_loss: 0.0381 - dense_root_acc: 0.9713 - dense_vowel_acc: 0.9881 - dense_consonant_acc: 0.9886 - val_loss: 0.1049 - val_dense_root_loss: 0.1587 - val_dense_vowel_loss: 0.0548 - val_dense_consonant_loss: 0.0473 - val_dense_root_acc: 0.9585 - val_dense_vowel_acc: 0.9872 - val_dense_consonant_acc: 0.9874\n",
      "Epoch 37/50\n",
      "721/721 [==============================] - 115s 159ms/step - loss: 0.0656 - dense_root_loss: 0.0897 - dense_vowel_loss: 0.0441 - dense_consonant_loss: 0.0388 - dense_root_acc: 0.9711 - dense_vowel_acc: 0.9876 - dense_consonant_acc: 0.9883 - val_loss: 0.1065 - val_dense_root_loss: 0.1631 - val_dense_vowel_loss: 0.0567 - val_dense_consonant_loss: 0.0432 - val_dense_root_acc: 0.9586 - val_dense_vowel_acc: 0.9874 - val_dense_consonant_acc: 0.9879\n",
      "Epoch 38/50\n",
      "721/721 [==============================] - 114s 159ms/step - loss: 0.0609 - dense_root_loss: 0.0826 - dense_vowel_loss: 0.0418 - dense_consonant_loss: 0.0365 - dense_root_acc: 0.9733 - dense_vowel_acc: 0.9882 - dense_consonant_acc: 0.9893 - val_loss: 0.1052 - val_dense_root_loss: 0.1628 - val_dense_vowel_loss: 0.0520 - val_dense_consonant_loss: 0.0432 - val_dense_root_acc: 0.9594 - val_dense_vowel_acc: 0.9882 - val_dense_consonant_acc: 0.9879\n",
      "Epoch 39/50\n",
      "721/721 [==============================] - 114s 158ms/step - loss: 0.0593 - dense_root_loss: 0.0806 - dense_vowel_loss: 0.0404 - dense_consonant_loss: 0.0356 - dense_root_acc: 0.9732 - dense_vowel_acc: 0.9885 - dense_consonant_acc: 0.9893 - val_loss: 0.1068 - val_dense_root_loss: 0.1653 - val_dense_vowel_loss: 0.0523 - val_dense_consonant_loss: 0.0444 - val_dense_root_acc: 0.9600 - val_dense_vowel_acc: 0.9887 - val_dense_consonant_acc: 0.9879\n",
      "Epoch 40/50\n",
      "721/721 [==============================] - 114s 158ms/step - loss: 0.0558 - dense_root_loss: 0.0749 - dense_vowel_loss: 0.0385 - dense_consonant_loss: 0.0349 - dense_root_acc: 0.9759 - dense_vowel_acc: 0.9893 - dense_consonant_acc: 0.9895 - val_loss: 0.1030 - val_dense_root_loss: 0.1581 - val_dense_vowel_loss: 0.0527 - val_dense_consonant_loss: 0.0432 - val_dense_root_acc: 0.9605 - val_dense_vowel_acc: 0.9878 - val_dense_consonant_acc: 0.9879\n",
      "Epoch 41/50\n",
      "721/721 [==============================] - 114s 159ms/step - loss: 0.0549 - dense_root_loss: 0.0730 - dense_vowel_loss: 0.0392 - dense_consonant_loss: 0.0343 - dense_root_acc: 0.9763 - dense_vowel_acc: 0.9891 - dense_consonant_acc: 0.9895 - val_loss: 0.1019 - val_dense_root_loss: 0.1571 - val_dense_vowel_loss: 0.0509 - val_dense_consonant_loss: 0.0425 - val_dense_root_acc: 0.9609 - val_dense_vowel_acc: 0.9887 - val_dense_consonant_acc: 0.9882\n",
      "Epoch 42/50\n",
      "721/721 [==============================] - 114s 159ms/step - loss: 0.0558 - dense_root_loss: 0.0748 - dense_vowel_loss: 0.0395 - dense_consonant_loss: 0.0342 - dense_root_acc: 0.9760 - dense_vowel_acc: 0.9887 - dense_consonant_acc: 0.9898 - val_loss: 0.1035 - val_dense_root_loss: 0.1595 - val_dense_vowel_loss: 0.0522 - val_dense_consonant_loss: 0.0428 - val_dense_root_acc: 0.9611 - val_dense_vowel_acc: 0.9889 - val_dense_consonant_acc: 0.9883\n",
      "Epoch 43/50\n",
      "721/721 [==============================] - 114s 159ms/step - loss: 0.0552 - dense_root_loss: 0.0749 - dense_vowel_loss: 0.0380 - dense_consonant_loss: 0.0331 - dense_root_acc: 0.9753 - dense_vowel_acc: 0.9892 - dense_consonant_acc: 0.9900 - val_loss: 0.1039 - val_dense_root_loss: 0.1599 - val_dense_vowel_loss: 0.0529 - val_dense_consonant_loss: 0.0427 - val_dense_root_acc: 0.9597 - val_dense_vowel_acc: 0.9884 - val_dense_consonant_acc: 0.9884\n",
      "Epoch 44/50\n",
      "721/721 [==============================] - 114s 158ms/step - loss: 0.0557 - dense_root_loss: 0.0742 - dense_vowel_loss: 0.0390 - dense_consonant_loss: 0.0353 - dense_root_acc: 0.9751 - dense_vowel_acc: 0.9889 - dense_consonant_acc: 0.9895 - val_loss: 0.1051 - val_dense_root_loss: 0.1619 - val_dense_vowel_loss: 0.0529 - val_dense_consonant_loss: 0.0437 - val_dense_root_acc: 0.9596 - val_dense_vowel_acc: 0.9883 - val_dense_consonant_acc: 0.9884\n",
      "Epoch 45/50\n",
      "721/721 [==============================] - 115s 159ms/step - loss: 0.0560 - dense_root_loss: 0.0753 - dense_vowel_loss: 0.0397 - dense_consonant_loss: 0.0338 - dense_root_acc: 0.9751 - dense_vowel_acc: 0.9886 - dense_consonant_acc: 0.9895 - val_loss: 0.1072 - val_dense_root_loss: 0.1646 - val_dense_vowel_loss: 0.0545 - val_dense_consonant_loss: 0.0452 - val_dense_root_acc: 0.9604 - val_dense_vowel_acc: 0.9887 - val_dense_consonant_acc: 0.9872\n",
      "Epoch 46/50\n",
      "721/721 [==============================] - 115s 160ms/step - loss: 0.0548 - dense_root_loss: 0.0734 - dense_vowel_loss: 0.0386 - dense_consonant_loss: 0.0337 - dense_root_acc: 0.9761 - dense_vowel_acc: 0.9891 - dense_consonant_acc: 0.9901 - val_loss: 0.1060 - val_dense_root_loss: 0.1635 - val_dense_vowel_loss: 0.0528 - val_dense_consonant_loss: 0.0443 - val_dense_root_acc: 0.9602 - val_dense_vowel_acc: 0.9885 - val_dense_consonant_acc: 0.9874\n",
      "Epoch 47/50\n",
      "721/721 [==============================] - 115s 160ms/step - loss: 0.0524 - dense_root_loss: 0.0700 - dense_vowel_loss: 0.0372 - dense_consonant_loss: 0.0326 - dense_root_acc: 0.9769 - dense_vowel_acc: 0.9893 - dense_consonant_acc: 0.9902 - val_loss: 0.1061 - val_dense_root_loss: 0.1635 - val_dense_vowel_loss: 0.0530 - val_dense_consonant_loss: 0.0444 - val_dense_root_acc: 0.9602 - val_dense_vowel_acc: 0.9886 - val_dense_consonant_acc: 0.9879\n",
      "Epoch 48/50\n",
      "721/721 [==============================] - 115s 160ms/step - loss: 0.0512 - dense_root_loss: 0.0678 - dense_vowel_loss: 0.0373 - dense_consonant_loss: 0.0317 - dense_root_acc: 0.9777 - dense_vowel_acc: 0.9894 - dense_consonant_acc: 0.9904 - val_loss: 0.1057 - val_dense_root_loss: 0.1632 - val_dense_vowel_loss: 0.0521 - val_dense_consonant_loss: 0.0444 - val_dense_root_acc: 0.9602 - val_dense_vowel_acc: 0.9889 - val_dense_consonant_acc: 0.9879\n",
      "Epoch 49/50\n",
      "721/721 [==============================] - 115s 159ms/step - loss: 0.0505 - dense_root_loss: 0.0668 - dense_vowel_loss: 0.0366 - dense_consonant_loss: 0.0318 - dense_root_acc: 0.9777 - dense_vowel_acc: 0.9898 - dense_consonant_acc: 0.9905 - val_loss: 0.1058 - val_dense_root_loss: 0.1637 - val_dense_vowel_loss: 0.0513 - val_dense_consonant_loss: 0.0447 - val_dense_root_acc: 0.9607 - val_dense_vowel_acc: 0.9891 - val_dense_consonant_acc: 0.9882\n",
      "Epoch 50/50\n",
      "721/721 [==============================] - 115s 159ms/step - loss: 0.0504 - dense_root_loss: 0.0670 - dense_vowel_loss: 0.0358 - dense_consonant_loss: 0.0320 - dense_root_acc: 0.9780 - dense_vowel_acc: 0.9895 - dense_consonant_acc: 0.9904 - val_loss: 0.1041 - val_dense_root_loss: 0.1603 - val_dense_vowel_loss: 0.0525 - val_dense_consonant_loss: 0.0432 - val_dense_root_acc: 0.9605 - val_dense_vowel_acc: 0.9884 - val_dense_consonant_acc: 0.9889\n"
     ]
    },
    {
     "data": {
      "text/plain": [
       "62"
      ]
     },
     "execution_count": 18,
     "metadata": {
      "tags": []
     },
     "output_type": "execute_result"
    }
   ],
   "source": [
    "train_df_full = pd.merge(pd.read_parquet(train_filename), train_df, on='image_id').drop(['image_id'], axis=1)\n",
    "\n",
    "X_train = train_df_full.drop(['grapheme_root', 'vowel_diacritic', 'consonant_diacritic'], axis=1)\n",
    "    \n",
    "# CNN takes images in shape `(batch_size, h, w, channels)`, so reshape the images\n",
    "X_train = X_train.values.reshape(-1, IMG_SIZE, IMG_SIZE, N_CHANNELS)\n",
    "    \n",
    "Y_train_root = pd.get_dummies(train_df_full['grapheme_root']).values\n",
    "Y_train_vowel = pd.get_dummies(train_df_full['vowel_diacritic']).values\n",
    "Y_train_consonant = pd.get_dummies(train_df_full['consonant_diacritic']).values\n",
    "\n",
    "print(f'Training images: {X_train.shape}')\n",
    "print(f'Training labels root: {Y_train_root.shape}')\n",
    "print(f'Training labels vowel: {Y_train_vowel.shape}')\n",
    "print(f'Training labels consonants: {Y_train_consonant.shape}')\n",
    "\n",
    "# Divide the data into training and validation set\n",
    "x_train, x_test, y_train_root, y_test_root, y_train_vowel, y_test_vowel, y_train_consonant, y_test_consonant = train_test_split(X_train, Y_train_root, Y_train_vowel, Y_train_consonant, test_size=0.08, random_state=666)\n",
    "del train_df_full\n",
    "del X_train\n",
    "del Y_train_root, Y_train_vowel, Y_train_consonant\n",
    "\n",
    "# Data augmentation for creating more training data\n",
    "datagen = MultiOutputDataGenerator(\n",
    "    featurewise_center=False,  # set input mean to 0 over the dataset\n",
    "    samplewise_center=False,  # set each sample mean to 0\n",
    "    featurewise_std_normalization=False,  # divide inputs by std of the dataset\n",
    "    samplewise_std_normalization=False,  # divide each input by its std\n",
    "    zca_whitening=False,  # apply ZCA whitening\n",
    "    rotation_range=8,  # randomly rotate images in the range (degrees, 0 to 180)\n",
    "    zoom_range = 0.15, # Randomly zoom image \n",
    "    width_shift_range=0.15,  # randomly shift images horizontally (fraction of total width)\n",
    "    height_shift_range=0.15,  # randomly shift images vertically (fraction of total height)\n",
    "    horizontal_flip=False,  # randomly flip images\n",
    "    vertical_flip=False)  # randomly flip images\n",
    "\n",
    "# This will just calculate parameters required to augment the given data. This won't perform any augmentations\n",
    "datagen.fit(x_train)\n",
    "    \n",
    "# Cyclic Learning Rate\n",
    "clr = CyclicLR(mode='triangular2',\n",
    "               base_lr=0.00001,\n",
    "               max_lr=0.001,\n",
    "               step_size=4 * (x_train.shape[0] // batch_size))\n",
    "    \n",
    "# Add saving only the best model\n",
    "mcp_save = ModelCheckpoint(model_filename, save_best_only=True, monitor='val_loss', mode='min')\n",
    "\n",
    "# Fit the model\n",
    "history = model.fit_generator(datagen.flow(x_train, \n",
    "                                           {'dense_root': y_train_root, 'dense_vowel': y_train_vowel, 'dense_consonant': y_train_consonant}, \n",
    "                                           batch_size=batch_size), \n",
    "                              epochs=epochs, \n",
    "                              validation_data=(x_test, [y_test_root, y_test_vowel, y_test_consonant]), \n",
    "                              steps_per_epoch=x_train.shape[0] // batch_size, \n",
    "                              callbacks=[clr, mcp_save], class_weight=class_weights)\n",
    "\n",
    "# Delete to reduce memory usage\n",
    "del x_train\n",
    "del x_test\n",
    "del y_train_root\n",
    "del y_test_root\n",
    "del y_train_vowel\n",
    "del y_test_vowel\n",
    "del y_train_consonant\n",
    "del y_test_consonant\n",
    "gc.collect()"
   ]
  },
  {
   "cell_type": "markdown",
   "metadata": {
    "colab_type": "text",
    "id": "bO2nzVDjEsgi"
   },
   "source": [
    "## Plotting Losses and Accuracies"
   ]
  },
  {
   "cell_type": "code",
   "execution_count": 0,
   "metadata": {
    "colab": {},
    "colab_type": "code",
    "id": "a-szXw0kEsgj"
   },
   "outputs": [],
   "source": [
    "%matplotlib inline\n",
    "def plot_loss(his, epoch, title):\n",
    "    plt.style.use('ggplot')\n",
    "    plt.figure()\n",
    "    plt.plot(np.arange(0, epoch), his.history['loss'], label='train_loss')\n",
    "    plt.plot(np.arange(0, epoch), his.history['dense_root_loss'], label='train_root_loss')\n",
    "    plt.plot(np.arange(0, epoch), his.history['dense_vowel_loss'], label='train_vowel_loss')\n",
    "    plt.plot(np.arange(0, epoch), his.history['dense_consonant_loss'], label='train_consonant_loss')\n",
    "    \n",
    "    plt.plot(np.arange(0, epoch), his.history['val_dense_root_loss'], label='val_train_root_loss')\n",
    "    plt.plot(np.arange(0, epoch), his.history['val_dense_vowel_loss'], label='val_train_vowel_loss')\n",
    "    plt.plot(np.arange(0, epoch), his.history['val_dense_consonant_loss'], label='val_train_consonant_loss')\n",
    "    \n",
    "    plt.title(title)\n",
    "    plt.xlabel('Epoch #')\n",
    "    plt.ylabel('Loss')\n",
    "    plt.legend(loc='upper right')\n",
    "    plt.show()\n",
    "\n",
    "def plot_acc(his, epoch, title):\n",
    "    plt.style.use('ggplot')\n",
    "    plt.figure()\n",
    "    plt.plot(np.arange(0, epoch), his.history['dense_root_acc'], label='train_root_acc')\n",
    "    plt.plot(np.arange(0, epoch), his.history['dense_vowel_acc'], label='train_vowel_accuracy')\n",
    "    plt.plot(np.arange(0, epoch), his.history['dense_consonant_acc'], label='train_consonant_accuracy')\n",
    "    \n",
    "    plt.plot(np.arange(0, epoch), his.history['val_dense_root_acc'], label='val_root_acc')\n",
    "    plt.plot(np.arange(0, epoch), his.history['val_dense_vowel_acc'], label='val_vowel_accuracy')\n",
    "    plt.plot(np.arange(0, epoch), his.history['val_dense_consonant_acc'], label='val_consonant_accuracy')\n",
    "    plt.title(title)\n",
    "    plt.xlabel('Epoch #')\n",
    "    plt.ylabel('Accuracy')\n",
    "    plt.legend(loc='upper right')\n",
    "    plt.show()"
   ]
  },
  {
   "cell_type": "code",
   "execution_count": 0,
   "metadata": {
    "colab": {
     "base_uri": "https://localhost:8080/",
     "height": 581
    },
    "colab_type": "code",
    "executionInfo": {
     "elapsed": 2095,
     "status": "ok",
     "timestamp": 1584570846607,
     "user": {
      "displayName": "Max Driessen",
      "photoUrl": "",
      "userId": "00614379715334685697"
     },
     "user_tz": -60
    },
    "id": "IbnVVVegEsgm",
    "outputId": "033c33c3-c779-4157-dc27-0fd61b66e953"
   },
   "outputs": [
    {
     "data": {
      "image/png": "[encoded data removed]",
      "text/plain": [
       "<Figure size 432x288 with 1 Axes>"
      ]
     },
     "metadata": {
      "tags": []
     },
     "output_type": "display_data"
    },
    {
     "data": {
      "image/png": "[encoded data removed]",
      "text/plain": [
       "<Figure size 432x288 with 1 Axes>"
      ]
     },
     "metadata": {
      "tags": []
     },
     "output_type": "display_data"
    }
   ],
   "source": [
    "plot_loss(history, epochs, 'Losses')\n",
    "plot_acc(history, epochs, 'Accuracies')"
   ]
  },
  {
   "cell_type": "code",
   "execution_count": 0,
   "metadata": {
    "colab": {},
    "colab_type": "code",
    "id": "KafS1mRmR8ar"
   },
   "outputs": [],
   "source": [
    "with open(\"output/hist_all.pkl\", \"wb\") as f:\n",
    "  pickle.dump(history, f)"
   ]
  }
 ],
 "metadata": {
  "accelerator": "GPU",
  "colab": {
   "collapsed_sections": [],
   "machine_shape": "hm",
   "name": "Training_All_MuchLearningSuchWow.ipynb",
   "provenance": []
  },
  "kernelspec": {
   "display_name": "Python 3",
   "language": "python",
   "name": "python3"
  },
  "language_info": {
   "codemirror_mode": {
    "name": "ipython",
    "version": 3
   },
   "file_extension": ".py",
   "mimetype": "text/x-python",
   "name": "python",
   "nbconvert_exporter": "python",
   "pygments_lexer": "ipython3",
   "version": "3.7.4"
  }
 },
 "nbformat": 4,
 "nbformat_minor": 1
}
