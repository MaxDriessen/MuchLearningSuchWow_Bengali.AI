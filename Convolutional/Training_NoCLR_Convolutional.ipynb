{
 "cells": [
  {
   "cell_type": "markdown",
   "metadata": {
    "colab_type": "text",
    "id": "KCR39zNIGsIK"
   },
   "source": [
    "# Bengali.AI Competition - Model Training (Convolutional)\n",
    "\n",
    "### Team MuchLearningSuchWow\n",
    "\n",
    "This notebook contains the code that we used to train the convolutional network with class weights but no cyclical learning rate. The core of this code (network, training procedure, etc.) is based on [this kernel](https://www.kaggle.com/kaushal2896/bengali-graphemes-starter-eda-multi-output-cnn). This notebook uses the preprocessed data as produced by our preprocessing notebook. Note that this code is not intended to run on kaggle; to run this code on kaggle, add \"/kaggle/\" in front of all filenames."
   ]
  },
  {
   "cell_type": "markdown",
   "metadata": {
    "colab_type": "text",
    "id": "cIa5qtguGsIT"
   },
   "source": [
    "## Imports"
   ]
  },
  {
   "cell_type": "code",
   "execution_count": 0,
   "metadata": {
    "colab": {
     "base_uri": "https://localhost:8080/",
     "height": 99
    },
    "colab_type": "code",
    "executionInfo": {
     "elapsed": 67940,
     "status": "ok",
     "timestamp": 1584564407934,
     "user": {
      "displayName": "Max Driessen",
      "photoUrl": "",
      "userId": "00614379715334685697"
     },
     "user_tz": -60
    },
    "id": "UQmHO9pLGsIU",
    "outputId": "1701e814-fc62-4b03-ef63-1734cb00f4db"
   },
   "outputs": [
    {
     "data": {
      "text/html": [
       "<p style=\"color: red;\">\n",
       "The default version of TensorFlow in Colab will soon switch to TensorFlow 2.x.<br>\n",
       "We recommend you <a href=\"https://www.tensorflow.org/guide/migrate\" target=\"_blank\">upgrade</a> now \n",
       "or ensure your notebook will continue to use TensorFlow 1.x via the <code>%tensorflow_version 1.x</code> magic:\n",
       "<a href=\"https://colab.research.google.com/notebooks/tensorflow_version.ipynb\" target=\"_blank\">more info</a>.</p>\n"
      ],
      "text/plain": [
       "<IPython.core.display.HTML object>"
      ]
     },
     "metadata": {
      "tags": []
     },
     "output_type": "display_data"
    },
    {
     "name": "stderr",
     "output_type": "stream",
     "text": [
      "Using TensorFlow backend.\n"
     ]
    }
   ],
   "source": [
    "import numpy as np\n",
    "import pandas as pd\n",
    "from tqdm.auto import tqdm\n",
    "from glob import glob\n",
    "import time, gc\n",
    "import cv2\n",
    "import os\n",
    "import pickle\n",
    "\n",
    "from tensorflow import keras\n",
    "import matplotlib.image as mpimg\n",
    "from keras.preprocessing.image import ImageDataGenerator\n",
    "from keras.models import Model\n",
    "from keras.models import clone_model\n",
    "from keras.layers import Dense,Conv2D,Flatten,MaxPool2D,Dropout,BatchNormalization,Input\n",
    "from keras.optimizers import Adam\n",
    "from keras.callbacks import ReduceLROnPlateau, Callback, ModelCheckpoint\n",
    "from keras import backend as K\n",
    "from sklearn.model_selection import train_test_split, StratifiedKFold\n",
    "from sklearn.metrics import confusion_matrix\n",
    "from sklearn.utils import class_weight\n",
    "import PIL.Image as Image, PIL.ImageDraw as ImageDraw, PIL.ImageFont as ImageFont\n",
    "from matplotlib import pyplot as plt\n",
    "import seaborn as sns"
   ]
  },
  {
   "cell_type": "markdown",
   "metadata": {
    "colab_type": "text",
    "id": "GUnt4QNnGsIZ"
   },
   "source": [
    "## Constants"
   ]
  },
  {
   "cell_type": "code",
   "execution_count": 0,
   "metadata": {
    "colab": {},
    "colab_type": "code",
    "id": "_d2HfTpnGsIa"
   },
   "outputs": [],
   "source": [
    "IMG_SIZE=64\n",
    "N_CHANNELS=1"
   ]
  },
  {
   "cell_type": "markdown",
   "metadata": {
    "colab_type": "text",
    "id": "SCkTLkg9GsId"
   },
   "source": [
    "## Filenames"
   ]
  },
  {
   "cell_type": "code",
   "execution_count": 0,
   "metadata": {
    "colab": {},
    "colab_type": "code",
    "id": "9ZOJ6Gc9GsIe"
   },
   "outputs": [],
   "source": [
    "for dirname, _, filenames in os.walk('input'):\n",
    "    for filename in filenames:\n",
    "        print(os.path.join(dirname, filename))"
   ]
  },
  {
   "cell_type": "code",
   "execution_count": 0,
   "metadata": {
    "colab": {},
    "colab_type": "code",
    "id": "svX2wIPWGsIi"
   },
   "outputs": [],
   "source": [
    "train_df_filename = \"input/bengaliai-cv19/train.csv\"\n",
    "train_filename = \"output/train_image_data_preprocessed.parquet\"\n",
    "model_filename = \"output/best_model_conv_NoCLR.hdf5\""
   ]
  },
  {
   "cell_type": "code",
   "execution_count": null,
   "metadata": {},
   "outputs": [],
   "source": [
    "if not os.path.isdir('output'):\n",
    "    os.mkdir('output')"
   ]
  },
  {
   "cell_type": "markdown",
   "metadata": {
    "colab_type": "text",
    "id": "uk0BlBzGGsIm"
   },
   "source": [
    "## Load Dataframes"
   ]
  },
  {
   "cell_type": "code",
   "execution_count": 0,
   "metadata": {
    "colab": {},
    "colab_type": "code",
    "id": "7J-o7UM9GsIn"
   },
   "outputs": [],
   "source": [
    "train_df = pd.read_csv(train_df_filename)"
   ]
  },
  {
   "cell_type": "code",
   "execution_count": 0,
   "metadata": {
    "colab": {
     "base_uri": "https://localhost:8080/",
     "height": 35
    },
    "colab_type": "code",
    "executionInfo": {
     "elapsed": 68657,
     "status": "ok",
     "timestamp": 1584564408689,
     "user": {
      "displayName": "Max Driessen",
      "photoUrl": "",
      "userId": "00614379715334685697"
     },
     "user_tz": -60
    },
    "id": "r08ohIElGsIq",
    "outputId": "97d9e219-2c0a-4a47-ad61-5b4050f70ac3"
   },
   "outputs": [
    {
     "name": "stdout",
     "output_type": "stream",
     "text": [
      "Size of training data: (200840, 5)\n"
     ]
    }
   ],
   "source": [
    "print(f'Size of training data: {train_df.shape}')"
   ]
  },
  {
   "cell_type": "code",
   "execution_count": 0,
   "metadata": {
    "colab": {},
    "colab_type": "code",
    "id": "Kpeivb2BGsIs"
   },
   "outputs": [],
   "source": [
    "train_df = train_df.drop(['grapheme'], axis=1, inplace=False)\n",
    "train_df[['grapheme_root', 'vowel_diacritic', 'consonant_diacritic']] = train_df[['grapheme_root', 'vowel_diacritic', 'consonant_diacritic']].astype('uint8')"
   ]
  },
  {
   "cell_type": "code",
   "execution_count": 0,
   "metadata": {
    "colab": {},
    "colab_type": "code",
    "id": "2imHEYrEGsIv"
   },
   "outputs": [],
   "source": [
    "def get_dummies(df):\n",
    "    cols = []\n",
    "    for col in df:\n",
    "        cols.append(pd.get_dummies(df[col].astype(str)))\n",
    "    return pd.concat(cols, axis=1)"
   ]
  },
  {
   "cell_type": "markdown",
   "metadata": {
    "colab_type": "text",
    "id": "7yL8309OGsIz"
   },
   "source": [
    "## Building Convolutional Model"
   ]
  },
  {
   "cell_type": "code",
   "execution_count": 0,
   "metadata": {
    "colab": {},
    "colab_type": "code",
    "id": "nwmR28X4GsI0"
   },
   "outputs": [],
   "source": [
    "def build_convolutional():\n",
    "    inputs = Input(shape = (IMG_SIZE, IMG_SIZE, 1))\n",
    "\n",
    "    model = Conv2D(filters=32, kernel_size=(3, 3), padding='SAME', activation='relu', input_shape=(IMG_SIZE, IMG_SIZE, 1))(inputs)\n",
    "    model = Conv2D(filters=32, kernel_size=(3, 3), padding='SAME', activation='relu')(model)\n",
    "    model = Conv2D(filters=32, kernel_size=(3, 3), padding='SAME', activation='relu')(model)\n",
    "    model = Conv2D(filters=32, kernel_size=(3, 3), padding='SAME', activation='relu')(model)\n",
    "    model = BatchNormalization(momentum=0.15)(model)\n",
    "    model = MaxPool2D(pool_size=(2, 2))(model)\n",
    "    model = Conv2D(filters=32, kernel_size=(5, 5), padding='SAME', activation='relu')(model)\n",
    "    model = Dropout(rate=0.3)(model)\n",
    "\n",
    "    model = Conv2D(filters=64, kernel_size=(3, 3), padding='SAME', activation='relu')(model)\n",
    "    model = Conv2D(filters=64, kernel_size=(3, 3), padding='SAME', activation='relu')(model)\n",
    "    model = Conv2D(filters=64, kernel_size=(3, 3), padding='SAME', activation='relu')(model)\n",
    "    model = Conv2D(filters=64, kernel_size=(3, 3), padding='SAME', activation='relu')(model)\n",
    "    model = BatchNormalization(momentum=0.15)(model)\n",
    "    model = MaxPool2D(pool_size=(2, 2))(model)\n",
    "    model = Conv2D(filters=64, kernel_size=(5, 5), padding='SAME', activation='relu')(model)\n",
    "    model = BatchNormalization(momentum=0.15)(model)\n",
    "    model = Dropout(rate=0.3)(model)\n",
    "\n",
    "    model = Conv2D(filters=128, kernel_size=(3, 3), padding='SAME', activation='relu')(model)\n",
    "    model = Conv2D(filters=128, kernel_size=(3, 3), padding='SAME', activation='relu')(model)\n",
    "    model = Conv2D(filters=128, kernel_size=(3, 3), padding='SAME', activation='relu')(model)\n",
    "    model = Conv2D(filters=128, kernel_size=(3, 3), padding='SAME', activation='relu')(model)\n",
    "    model = BatchNormalization(momentum=0.15)(model)\n",
    "    model = MaxPool2D(pool_size=(2, 2))(model)\n",
    "    model = Conv2D(filters=128, kernel_size=(5, 5), padding='SAME', activation='relu')(model)\n",
    "    model = BatchNormalization(momentum=0.15)(model)\n",
    "    model = Dropout(rate=0.3)(model)\n",
    "\n",
    "    model = Conv2D(filters=256, kernel_size=(3, 3), padding='SAME', activation='relu')(model)\n",
    "    model = Conv2D(filters=256, kernel_size=(3, 3), padding='SAME', activation='relu')(model)\n",
    "    model = Conv2D(filters=256, kernel_size=(3, 3), padding='SAME', activation='relu')(model)\n",
    "    model = Conv2D(filters=256, kernel_size=(3, 3), padding='SAME', activation='relu')(model)\n",
    "    model = BatchNormalization(momentum=0.15)(model)\n",
    "    model = MaxPool2D(pool_size=(2, 2))(model)\n",
    "    model = Conv2D(filters=256, kernel_size=(5, 5), padding='SAME', activation='relu')(model)\n",
    "    model = BatchNormalization(momentum=0.15)(model)\n",
    "    model = Dropout(rate=0.3)(model)\n",
    "\n",
    "    model = Flatten()(model)\n",
    "    model = Dense(1024, activation = \"relu\")(model)\n",
    "    model = Dropout(rate=0.3)(model)\n",
    "    dense = Dense(512, activation = \"relu\")(model)\n",
    "\n",
    "    head_root = Dense(168, activation = 'softmax', name='dense_root')(dense)\n",
    "    head_vowel = Dense(11, activation = 'softmax', name='dense_vowel')(dense)\n",
    "    head_consonant = Dense(7, activation = 'softmax', name='dense_consonant')(dense)\n",
    "\n",
    "    model = Model(inputs=inputs, outputs=[head_root, head_vowel, head_consonant])\n",
    "    model.compile(optimizer='adam', loss='categorical_crossentropy', metrics=['accuracy'], loss_weights=[0.5, 0.25, 0.25])\n",
    "    model.summary()\n",
    "    \n",
    "    return model"
   ]
  },
  {
   "cell_type": "code",
   "execution_count": 0,
   "metadata": {
    "colab": {
     "base_uri": "https://localhost:8080/",
     "height": 1000
    },
    "colab_type": "code",
    "executionInfo": {
     "elapsed": 75965,
     "status": "ok",
     "timestamp": 1584564416028,
     "user": {
      "displayName": "Max Driessen",
      "photoUrl": "",
      "userId": "00614379715334685697"
     },
     "user_tz": -60
    },
    "id": "T3t5riKbGsI3",
    "outputId": "775237ea-53e2-4ff2-cbaa-0b26959cbf23"
   },
   "outputs": [
    {
     "name": "stdout",
     "output_type": "stream",
     "text": [
      "WARNING:tensorflow:From /usr/local/lib/python3.6/dist-packages/keras/backend/tensorflow_backend.py:66: The name tf.get_default_graph is deprecated. Please use tf.compat.v1.get_default_graph instead.\n",
      "\n",
      "WARNING:tensorflow:From /usr/local/lib/python3.6/dist-packages/keras/backend/tensorflow_backend.py:541: The name tf.placeholder is deprecated. Please use tf.compat.v1.placeholder instead.\n",
      "\n",
      "WARNING:tensorflow:From /usr/local/lib/python3.6/dist-packages/keras/backend/tensorflow_backend.py:4432: The name tf.random_uniform is deprecated. Please use tf.random.uniform instead.\n",
      "\n",
      "WARNING:tensorflow:From /usr/local/lib/python3.6/dist-packages/keras/backend/tensorflow_backend.py:190: The name tf.get_default_session is deprecated. Please use tf.compat.v1.get_default_session instead.\n",
      "\n",
      "WARNING:tensorflow:From /usr/local/lib/python3.6/dist-packages/keras/backend/tensorflow_backend.py:197: The name tf.ConfigProto is deprecated. Please use tf.compat.v1.ConfigProto instead.\n",
      "\n",
      "WARNING:tensorflow:From /usr/local/lib/python3.6/dist-packages/keras/backend/tensorflow_backend.py:203: The name tf.Session is deprecated. Please use tf.compat.v1.Session instead.\n",
      "\n",
      "WARNING:tensorflow:From /usr/local/lib/python3.6/dist-packages/keras/backend/tensorflow_backend.py:207: The name tf.global_variables is deprecated. Please use tf.compat.v1.global_variables instead.\n",
      "\n",
      "WARNING:tensorflow:From /usr/local/lib/python3.6/dist-packages/keras/backend/tensorflow_backend.py:216: The name tf.is_variable_initialized is deprecated. Please use tf.compat.v1.is_variable_initialized instead.\n",
      "\n",
      "WARNING:tensorflow:From /usr/local/lib/python3.6/dist-packages/keras/backend/tensorflow_backend.py:223: The name tf.variables_initializer is deprecated. Please use tf.compat.v1.variables_initializer instead.\n",
      "\n",
      "WARNING:tensorflow:From /usr/local/lib/python3.6/dist-packages/keras/backend/tensorflow_backend.py:2041: The name tf.nn.fused_batch_norm is deprecated. Please use tf.compat.v1.nn.fused_batch_norm instead.\n",
      "\n",
      "WARNING:tensorflow:From /usr/local/lib/python3.6/dist-packages/keras/backend/tensorflow_backend.py:148: The name tf.placeholder_with_default is deprecated. Please use tf.compat.v1.placeholder_with_default instead.\n",
      "\n",
      "WARNING:tensorflow:From /usr/local/lib/python3.6/dist-packages/keras/backend/tensorflow_backend.py:4267: The name tf.nn.max_pool is deprecated. Please use tf.nn.max_pool2d instead.\n",
      "\n",
      "WARNING:tensorflow:From /usr/local/lib/python3.6/dist-packages/keras/backend/tensorflow_backend.py:3733: calling dropout (from tensorflow.python.ops.nn_ops) with keep_prob is deprecated and will be removed in a future version.\n",
      "Instructions for updating:\n",
      "Please use `rate` instead of `keep_prob`. Rate should be set to `rate = 1 - keep_prob`.\n",
      "WARNING:tensorflow:From /usr/local/lib/python3.6/dist-packages/keras/optimizers.py:793: The name tf.train.Optimizer is deprecated. Please use tf.compat.v1.train.Optimizer instead.\n",
      "\n",
      "WARNING:tensorflow:From /usr/local/lib/python3.6/dist-packages/keras/backend/tensorflow_backend.py:3576: The name tf.log is deprecated. Please use tf.math.log instead.\n",
      "\n",
      "Model: \"model_1\"\n",
      "__________________________________________________________________________________________________\n",
      "Layer (type)                    Output Shape         Param #     Connected to                     \n",
      "==================================================================================================\n",
      "input_1 (InputLayer)            (None, 64, 64, 1)    0                                            \n",
      "__________________________________________________________________________________________________\n",
      "conv2d_1 (Conv2D)               (None, 64, 64, 32)   320         input_1[0][0]                    \n",
      "__________________________________________________________________________________________________\n",
      "conv2d_2 (Conv2D)               (None, 64, 64, 32)   9248        conv2d_1[0][0]                   \n",
      "__________________________________________________________________________________________________\n",
      "conv2d_3 (Conv2D)               (None, 64, 64, 32)   9248        conv2d_2[0][0]                   \n",
      "__________________________________________________________________________________________________\n",
      "conv2d_4 (Conv2D)               (None, 64, 64, 32)   9248        conv2d_3[0][0]                   \n",
      "__________________________________________________________________________________________________\n",
      "batch_normalization_1 (BatchNor (None, 64, 64, 32)   128         conv2d_4[0][0]                   \n",
      "__________________________________________________________________________________________________\n",
      "max_pooling2d_1 (MaxPooling2D)  (None, 32, 32, 32)   0           batch_normalization_1[0][0]      \n",
      "__________________________________________________________________________________________________\n",
      "conv2d_5 (Conv2D)               (None, 32, 32, 32)   25632       max_pooling2d_1[0][0]            \n",
      "__________________________________________________________________________________________________\n",
      "dropout_1 (Dropout)             (None, 32, 32, 32)   0           conv2d_5[0][0]                   \n",
      "__________________________________________________________________________________________________\n",
      "conv2d_6 (Conv2D)               (None, 32, 32, 64)   18496       dropout_1[0][0]                  \n",
      "__________________________________________________________________________________________________\n",
      "conv2d_7 (Conv2D)               (None, 32, 32, 64)   36928       conv2d_6[0][0]                   \n",
      "__________________________________________________________________________________________________\n",
      "conv2d_8 (Conv2D)               (None, 32, 32, 64)   36928       conv2d_7[0][0]                   \n",
      "__________________________________________________________________________________________________\n",
      "conv2d_9 (Conv2D)               (None, 32, 32, 64)   36928       conv2d_8[0][0]                   \n",
      "__________________________________________________________________________________________________\n",
      "batch_normalization_2 (BatchNor (None, 32, 32, 64)   256         conv2d_9[0][0]                   \n",
      "__________________________________________________________________________________________________\n",
      "max_pooling2d_2 (MaxPooling2D)  (None, 16, 16, 64)   0           batch_normalization_2[0][0]      \n",
      "__________________________________________________________________________________________________\n",
      "conv2d_10 (Conv2D)              (None, 16, 16, 64)   102464      max_pooling2d_2[0][0]            \n",
      "__________________________________________________________________________________________________\n",
      "batch_normalization_3 (BatchNor (None, 16, 16, 64)   256         conv2d_10[0][0]                  \n",
      "__________________________________________________________________________________________________\n",
      "dropout_2 (Dropout)             (None, 16, 16, 64)   0           batch_normalization_3[0][0]      \n",
      "__________________________________________________________________________________________________\n",
      "conv2d_11 (Conv2D)              (None, 16, 16, 128)  73856       dropout_2[0][0]                  \n",
      "__________________________________________________________________________________________________\n",
      "conv2d_12 (Conv2D)              (None, 16, 16, 128)  147584      conv2d_11[0][0]                  \n",
      "__________________________________________________________________________________________________\n",
      "conv2d_13 (Conv2D)              (None, 16, 16, 128)  147584      conv2d_12[0][0]                  \n",
      "__________________________________________________________________________________________________\n",
      "conv2d_14 (Conv2D)              (None, 16, 16, 128)  147584      conv2d_13[0][0]                  \n",
      "__________________________________________________________________________________________________\n",
      "batch_normalization_4 (BatchNor (None, 16, 16, 128)  512         conv2d_14[0][0]                  \n",
      "__________________________________________________________________________________________________\n",
      "max_pooling2d_3 (MaxPooling2D)  (None, 8, 8, 128)    0           batch_normalization_4[0][0]      \n",
      "__________________________________________________________________________________________________\n",
      "conv2d_15 (Conv2D)              (None, 8, 8, 128)    409728      max_pooling2d_3[0][0]            \n",
      "__________________________________________________________________________________________________\n",
      "batch_normalization_5 (BatchNor (None, 8, 8, 128)    512         conv2d_15[0][0]                  \n",
      "__________________________________________________________________________________________________\n",
      "dropout_3 (Dropout)             (None, 8, 8, 128)    0           batch_normalization_5[0][0]      \n",
      "__________________________________________________________________________________________________\n",
      "conv2d_16 (Conv2D)              (None, 8, 8, 256)    295168      dropout_3[0][0]                  \n",
      "__________________________________________________________________________________________________\n",
      "conv2d_17 (Conv2D)              (None, 8, 8, 256)    590080      conv2d_16[0][0]                  \n",
      "__________________________________________________________________________________________________\n",
      "conv2d_18 (Conv2D)              (None, 8, 8, 256)    590080      conv2d_17[0][0]                  \n",
      "__________________________________________________________________________________________________\n",
      "conv2d_19 (Conv2D)              (None, 8, 8, 256)    590080      conv2d_18[0][0]                  \n",
      "__________________________________________________________________________________________________\n",
      "batch_normalization_6 (BatchNor (None, 8, 8, 256)    1024        conv2d_19[0][0]                  \n",
      "__________________________________________________________________________________________________\n",
      "max_pooling2d_4 (MaxPooling2D)  (None, 4, 4, 256)    0           batch_normalization_6[0][0]      \n",
      "__________________________________________________________________________________________________\n",
      "conv2d_20 (Conv2D)              (None, 4, 4, 256)    1638656     max_pooling2d_4[0][0]            \n",
      "__________________________________________________________________________________________________\n",
      "batch_normalization_7 (BatchNor (None, 4, 4, 256)    1024        conv2d_20[0][0]                  \n",
      "__________________________________________________________________________________________________\n",
      "dropout_4 (Dropout)             (None, 4, 4, 256)    0           batch_normalization_7[0][0]      \n",
      "__________________________________________________________________________________________________\n",
      "flatten_1 (Flatten)             (None, 4096)         0           dropout_4[0][0]                  \n",
      "__________________________________________________________________________________________________\n",
      "dense_1 (Dense)                 (None, 1024)         4195328     flatten_1[0][0]                  \n",
      "__________________________________________________________________________________________________\n",
      "dropout_5 (Dropout)             (None, 1024)         0           dense_1[0][0]                    \n",
      "__________________________________________________________________________________________________\n",
      "dense_2 (Dense)                 (None, 512)          524800      dropout_5[0][0]                  \n",
      "__________________________________________________________________________________________________\n",
      "dense_root (Dense)              (None, 168)          86184       dense_2[0][0]                    \n",
      "__________________________________________________________________________________________________\n",
      "dense_vowel (Dense)             (None, 11)           5643        dense_2[0][0]                    \n",
      "__________________________________________________________________________________________________\n",
      "dense_consonant (Dense)         (None, 7)            3591        dense_2[0][0]                    \n",
      "==================================================================================================\n",
      "Total params: 9,735,098\n",
      "Trainable params: 9,733,242\n",
      "Non-trainable params: 1,856\n",
      "__________________________________________________________________________________________________\n"
     ]
    }
   ],
   "source": [
    "model = build_convolutional()"
   ]
  },
  {
   "cell_type": "markdown",
   "metadata": {
    "colab_type": "text",
    "id": "n5gYrbPLGsI6"
   },
   "source": [
    "## Class Weights"
   ]
  },
  {
   "cell_type": "code",
   "execution_count": 0,
   "metadata": {
    "colab": {},
    "colab_type": "code",
    "id": "2g00_okVGsI7"
   },
   "outputs": [],
   "source": [
    "train_grapheme = train_df[\"grapheme_root\"].to_numpy()\n",
    "train_vowel = train_df[\"vowel_diacritic\"].to_numpy()\n",
    "train_consonant = train_df[\"consonant_diacritic\"].to_numpy()"
   ]
  },
  {
   "cell_type": "code",
   "execution_count": 0,
   "metadata": {
    "colab": {},
    "colab_type": "code",
    "id": "uOaDoVXdGsI9"
   },
   "outputs": [],
   "source": [
    "class_weights_grapheme = class_weight.compute_class_weight('balanced', np.unique(train_grapheme), train_grapheme)\n",
    "class_weights_vowel = class_weight.compute_class_weight('balanced', np.unique(train_vowel), train_vowel)\n",
    "class_weights_consonant = class_weight.compute_class_weight('balanced', np.unique(train_consonant), train_consonant)\n",
    "class_weights = [class_weights_grapheme, class_weights_vowel, class_weights_consonant]"
   ]
  },
  {
   "cell_type": "code",
   "execution_count": 0,
   "metadata": {
    "colab": {
     "base_uri": "https://localhost:8080/",
     "height": 586
    },
    "colab_type": "code",
    "executionInfo": {
     "elapsed": 76149,
     "status": "ok",
     "timestamp": 1584564416237,
     "user": {
      "displayName": "Max Driessen",
      "photoUrl": "",
      "userId": "00614379715334685697"
     },
     "user_tz": -60
    },
    "id": "pYZnmgOtGsJC",
    "outputId": "1d669b7b-fbc6-4ca0-a7bf-3ed339db2885"
   },
   "outputs": [
    {
     "name": "stdout",
     "output_type": "stream",
     "text": [
      "[8.13249109 8.24466338 3.54740709 3.75935909 3.61171055 6.83129252\n",
      " 3.8814162  7.81356987 7.61449803 2.69251394 7.86497494 7.91706086\n",
      " 8.18819309 0.22056756 1.50185451 1.10385613 1.27178318 1.57092798\n",
      " 0.7320736  4.30027407 3.55796485 1.269083   0.40374069 0.23217638\n",
      " 3.55796485 1.06075971 6.99108883 3.91959407 1.57506744 0.43002741\n",
      " 2.73564346 1.55660962 1.06075971 8.79026611 4.33143547 2.5115046\n",
      " 1.16745722 4.1946533  0.35643297 1.93756271 1.57922879 3.91959407\n",
      " 0.61087184 0.32933228 1.13100869 8.30191799 2.06116585 2.64485883\n",
      " 0.86880537 3.72422489 1.61988644 3.66710488 1.27858416 0.32397729\n",
      " 2.01938546 0.71159297 0.44474561 1.88858798 0.93033167 0.51110568\n",
      " 2.80628214 2.07908903 1.37727672 8.02333014 0.21363048 0.87580673\n",
      " 1.52096207 2.51679198 1.89457399 1.57922879 1.24919142 0.40717854\n",
      " 0.20841635 9.1959707  0.78753372 1.06075971 0.61749803 1.24919142\n",
      " 4.08012352 0.34571318 2.62165831 0.34772431 4.09409654 0.84307207\n",
      " 2.59886128 0.87709185 0.57090554 7.11592971 1.57299499 0.51685093\n",
      " 1.90666059 0.77678765 1.07121522 1.92198744 1.22864973 1.64439641\n",
      " 0.24268701 2.48539749 1.90666059 2.61021002 2.66847364 1.10385613\n",
      " 8.47855454 0.34541352 7.47172619 7.91706086 1.59184579 0.22467134\n",
      " 7.566305   1.31660373 3.49554442 1.51902947 1.34929593 0.27200823\n",
      " 7.96984127 0.29775248 2.74191787 0.78084663 1.04958401 0.77779843\n",
      " 0.99045252 2.5876108  0.51685093 0.57668895 0.54637851 1.47045042\n",
      " 7.51871818 1.28961833 1.2557523  1.22236829 8.30191799 2.69859185\n",
      " 1.15060269 0.27331417 1.91890239 1.87672871 1.13746545 2.12718183\n",
      " 1.27995309 0.51707448 1.35388017 0.68469427 1.1204088  1.96301509\n",
      " 1.95339247 3.77121827 3.95853043 0.27219403 0.69383412 0.49770033\n",
      " 0.51729822 0.95791361 1.96948302 0.76978506 1.63316419 1.28822865\n",
      " 1.513261   3.68974133 8.35997336 0.36436336 2.4905754  3.84397489\n",
      " 2.57091654 7.24531025 7.28948897 1.04682679 3.89405925 0.75424365]\n",
      "[0.43987139 0.49498948 0.7031302  1.13039759 0.96870659 3.44689104\n",
      " 4.21083529 0.63566417 5.1752216  1.13885865 5.12438446]\n",
      "[ 0.22902208  3.86468596  1.22273295 46.35125779  1.34891531  1.34090894\n",
      " 20.68596148]\n"
     ]
    }
   ],
   "source": [
    "print(class_weights_grapheme)\n",
    "print(class_weights_vowel)\n",
    "print(class_weights_consonant)"
   ]
  },
  {
   "cell_type": "markdown",
   "metadata": {
    "colab_type": "text",
    "id": "9kFx69cqGsJG"
   },
   "source": [
    "## Training"
   ]
  },
  {
   "cell_type": "code",
   "execution_count": 0,
   "metadata": {
    "colab": {},
    "colab_type": "code",
    "id": "5npsrIk_GsJH"
   },
   "outputs": [],
   "source": [
    "batch_size = 256\n",
    "epochs = 50"
   ]
  },
  {
   "cell_type": "code",
   "execution_count": 0,
   "metadata": {
    "colab": {},
    "colab_type": "code",
    "id": "3iMPSYr2GsJK"
   },
   "outputs": [],
   "source": [
    "class MultiOutputDataGenerator(keras.preprocessing.image.ImageDataGenerator):\n",
    "\n",
    "    def flow(self, x, y=None, batch_size=32, shuffle=True, sample_weight=None,  \n",
    "             seed=None, save_to_dir=None, save_prefix='', save_format='png', subset=None):\n",
    "\n",
    "        targets = None\n",
    "        target_lengths = {}\n",
    "        ordered_outputs = []\n",
    "        for output, target in y.items():\n",
    "            if targets is None:\n",
    "                targets = target\n",
    "            else:\n",
    "                targets = np.concatenate((targets, target), axis=1)\n",
    "            target_lengths[output] = target.shape[1]\n",
    "            ordered_outputs.append(output)\n",
    "\n",
    "\n",
    "        for flowx, flowy in super().flow(x, targets, batch_size=batch_size, shuffle=shuffle):\n",
    "            target_dict = {}\n",
    "            i = 0\n",
    "            for output in ordered_outputs:\n",
    "                target_length = target_lengths[output]\n",
    "                target_dict[output] = flowy[:, i: i + target_length]\n",
    "                i += target_length\n",
    "\n",
    "            yield flowx, target_dict"
   ]
  },
  {
   "cell_type": "code",
   "execution_count": 0,
   "metadata": {
    "colab": {
     "base_uri": "https://localhost:8080/",
     "height": 1000
    },
    "colab_type": "code",
    "executionInfo": {
     "elapsed": 3816170,
     "status": "ok",
     "timestamp": 1584570237504,
     "user": {
      "displayName": "Max Driessen",
      "photoUrl": "",
      "userId": "00614379715334685697"
     },
     "user_tz": -60
    },
    "id": "vemUNUMvGsJM",
    "outputId": "5ce43496-5a3f-4338-99c1-1abe989c6722"
   },
   "outputs": [
    {
     "name": "stdout",
     "output_type": "stream",
     "text": [
      "Training images: (200840, 64, 64, 1)\n",
      "Training labels root: (200840, 168)\n",
      "Training labels vowel: (200840, 11)\n",
      "Training labels consonants: (200840, 7)\n",
      "WARNING:tensorflow:From /tensorflow-1.15.0/python3.6/tensorflow_core/python/ops/math_grad.py:1424: where (from tensorflow.python.ops.array_ops) is deprecated and will be removed in a future version.\n",
      "Instructions for updating:\n",
      "Use tf.where in 2.0, which has the same broadcast rule as np.where\n",
      "WARNING:tensorflow:From /usr/local/lib/python3.6/dist-packages/keras/backend/tensorflow_backend.py:1033: The name tf.assign_add is deprecated. Please use tf.compat.v1.assign_add instead.\n",
      "\n",
      "WARNING:tensorflow:From /usr/local/lib/python3.6/dist-packages/keras/backend/tensorflow_backend.py:1020: The name tf.assign is deprecated. Please use tf.compat.v1.assign instead.\n",
      "\n",
      "Epoch 1/50\n",
      "721/721 [==============================] - 126s 174ms/step - loss: 2.5492 - dense_root_loss: 4.0772 - dense_vowel_loss: 1.0511 - dense_consonant_loss: 0.9914 - dense_root_acc: 0.0810 - dense_vowel_acc: 0.6342 - dense_consonant_acc: 0.6651 - val_loss: 1.6140 - val_dense_root_loss: 2.7175 - val_dense_vowel_loss: 0.5117 - val_dense_consonant_loss: 0.5094 - val_dense_root_acc: 0.2562 - val_dense_vowel_acc: 0.8253 - val_dense_consonant_acc: 0.8190\n",
      "Epoch 2/50\n",
      "721/721 [==============================] - 115s 159ms/step - loss: 1.2010 - dense_root_loss: 1.9456 - dense_vowel_loss: 0.5023 - dense_consonant_loss: 0.4105 - dense_root_acc: 0.4450 - dense_vowel_acc: 0.8339 - dense_consonant_acc: 0.8609 - val_loss: 0.5758 - val_dense_root_loss: 0.9296 - val_dense_vowel_loss: 0.2493 - val_dense_consonant_loss: 0.1946 - val_dense_root_acc: 0.7205 - val_dense_vowel_acc: 0.9209 - val_dense_consonant_acc: 0.9393\n",
      "Epoch 3/50\n",
      "721/721 [==============================] - 114s 159ms/step - loss: 0.6273 - dense_root_loss: 0.9782 - dense_vowel_loss: 0.3060 - dense_consonant_loss: 0.2470 - dense_root_acc: 0.7166 - dense_vowel_acc: 0.9055 - dense_consonant_acc: 0.9218 - val_loss: 0.3489 - val_dense_root_loss: 0.5445 - val_dense_vowel_loss: 0.1587 - val_dense_consonant_loss: 0.1479 - val_dense_root_acc: 0.8405 - val_dense_vowel_acc: 0.9551 - val_dense_consonant_acc: 0.9542\n",
      "Epoch 4/50\n",
      "721/721 [==============================] - 114s 159ms/step - loss: 0.4415 - dense_root_loss: 0.6700 - dense_vowel_loss: 0.2335 - dense_consonant_loss: 0.1925 - dense_root_acc: 0.8104 - dense_vowel_acc: 0.9312 - dense_consonant_acc: 0.9404 - val_loss: 0.2636 - val_dense_root_loss: 0.4042 - val_dense_vowel_loss: 0.1331 - val_dense_consonant_loss: 0.1128 - val_dense_root_acc: 0.8842 - val_dense_vowel_acc: 0.9640 - val_dense_consonant_acc: 0.9657\n",
      "Epoch 5/50\n",
      "721/721 [==============================] - 115s 160ms/step - loss: 0.3607 - dense_root_loss: 0.5436 - dense_vowel_loss: 0.1926 - dense_consonant_loss: 0.1630 - dense_root_acc: 0.8476 - dense_vowel_acc: 0.9447 - dense_consonant_acc: 0.9503 - val_loss: 0.2306 - val_dense_root_loss: 0.3524 - val_dense_vowel_loss: 0.1129 - val_dense_consonant_loss: 0.1045 - val_dense_root_acc: 0.9023 - val_dense_vowel_acc: 0.9722 - val_dense_consonant_acc: 0.9693\n",
      "Epoch 6/50\n",
      "721/721 [==============================] - 115s 160ms/step - loss: 0.3161 - dense_root_loss: 0.4754 - dense_vowel_loss: 0.1699 - dense_consonant_loss: 0.1436 - dense_root_acc: 0.8674 - dense_vowel_acc: 0.9521 - dense_consonant_acc: 0.9565 - val_loss: 0.2167 - val_dense_root_loss: 0.3338 - val_dense_vowel_loss: 0.1119 - val_dense_consonant_loss: 0.0874 - val_dense_root_acc: 0.9052 - val_dense_vowel_acc: 0.9706 - val_dense_consonant_acc: 0.9732\n",
      "Epoch 7/50\n",
      "721/721 [==============================] - 115s 160ms/step - loss: 0.2841 - dense_root_loss: 0.4253 - dense_vowel_loss: 0.1555 - dense_consonant_loss: 0.1302 - dense_root_acc: 0.8813 - dense_vowel_acc: 0.9568 - dense_consonant_acc: 0.9614 - val_loss: 0.1829 - val_dense_root_loss: 0.2776 - val_dense_vowel_loss: 0.0959 - val_dense_consonant_loss: 0.0804 - val_dense_root_acc: 0.9228 - val_dense_vowel_acc: 0.9756 - val_dense_consonant_acc: 0.9774\n",
      "Epoch 8/50\n",
      "721/721 [==============================] - 115s 160ms/step - loss: 0.2589 - dense_root_loss: 0.3854 - dense_vowel_loss: 0.1442 - dense_consonant_loss: 0.1207 - dense_root_acc: 0.8916 - dense_vowel_acc: 0.9604 - dense_consonant_acc: 0.9641 - val_loss: 0.1720 - val_dense_root_loss: 0.2619 - val_dense_vowel_loss: 0.0852 - val_dense_consonant_loss: 0.0788 - val_dense_root_acc: 0.9287 - val_dense_vowel_acc: 0.9788 - val_dense_consonant_acc: 0.9769\n",
      "Epoch 9/50\n",
      "721/721 [==============================] - 115s 159ms/step - loss: 0.2419 - dense_root_loss: 0.3593 - dense_vowel_loss: 0.1359 - dense_consonant_loss: 0.1133 - dense_root_acc: 0.8990 - dense_vowel_acc: 0.9633 - dense_consonant_acc: 0.9661 - val_loss: 0.1742 - val_dense_root_loss: 0.2618 - val_dense_vowel_loss: 0.0954 - val_dense_consonant_loss: 0.0780 - val_dense_root_acc: 0.9267 - val_dense_vowel_acc: 0.9768 - val_dense_consonant_acc: 0.9764\n",
      "Epoch 10/50\n",
      "721/721 [==============================] - 115s 160ms/step - loss: 0.2248 - dense_root_loss: 0.3325 - dense_vowel_loss: 0.1257 - dense_consonant_loss: 0.1086 - dense_root_acc: 0.9071 - dense_vowel_acc: 0.9657 - dense_consonant_acc: 0.9686 - val_loss: 0.1570 - val_dense_root_loss: 0.2381 - val_dense_vowel_loss: 0.0800 - val_dense_consonant_loss: 0.0721 - val_dense_root_acc: 0.9342 - val_dense_vowel_acc: 0.9793 - val_dense_consonant_acc: 0.9787\n",
      "Epoch 11/50\n",
      "721/721 [==============================] - 115s 159ms/step - loss: 0.2134 - dense_root_loss: 0.3159 - dense_vowel_loss: 0.1200 - dense_consonant_loss: 0.1016 - dense_root_acc: 0.9114 - dense_vowel_acc: 0.9675 - dense_consonant_acc: 0.9701 - val_loss: 0.1631 - val_dense_root_loss: 0.2520 - val_dense_vowel_loss: 0.0803 - val_dense_consonant_loss: 0.0680 - val_dense_root_acc: 0.9307 - val_dense_vowel_acc: 0.9787 - val_dense_consonant_acc: 0.9802\n",
      "Epoch 12/50\n",
      "721/721 [==============================] - 115s 160ms/step - loss: 0.2010 - dense_root_loss: 0.2970 - dense_vowel_loss: 0.1137 - dense_consonant_loss: 0.0964 - dense_root_acc: 0.9153 - dense_vowel_acc: 0.9692 - dense_consonant_acc: 0.9717 - val_loss: 0.1474 - val_dense_root_loss: 0.2230 - val_dense_vowel_loss: 0.0781 - val_dense_consonant_loss: 0.0657 - val_dense_root_acc: 0.9382 - val_dense_vowel_acc: 0.9800 - val_dense_consonant_acc: 0.9808\n",
      "Epoch 13/50\n",
      "721/721 [==============================] - 115s 159ms/step - loss: 0.1914 - dense_root_loss: 0.2828 - dense_vowel_loss: 0.1088 - dense_consonant_loss: 0.0913 - dense_root_acc: 0.9204 - dense_vowel_acc: 0.9710 - dense_consonant_acc: 0.9728 - val_loss: 0.1439 - val_dense_root_loss: 0.2196 - val_dense_vowel_loss: 0.0729 - val_dense_consonant_loss: 0.0636 - val_dense_root_acc: 0.9408 - val_dense_vowel_acc: 0.9820 - val_dense_consonant_acc: 0.9815\n",
      "Epoch 14/50\n",
      "721/721 [==============================] - 115s 159ms/step - loss: 0.1823 - dense_root_loss: 0.2682 - dense_vowel_loss: 0.1037 - dense_consonant_loss: 0.0891 - dense_root_acc: 0.9240 - dense_vowel_acc: 0.9719 - dense_consonant_acc: 0.9741 - val_loss: 0.1390 - val_dense_root_loss: 0.2065 - val_dense_vowel_loss: 0.0787 - val_dense_consonant_loss: 0.0643 - val_dense_root_acc: 0.9423 - val_dense_vowel_acc: 0.9801 - val_dense_consonant_acc: 0.9799\n",
      "Epoch 15/50\n",
      "721/721 [==============================] - 115s 159ms/step - loss: 0.1766 - dense_root_loss: 0.2580 - dense_vowel_loss: 0.1035 - dense_consonant_loss: 0.0869 - dense_root_acc: 0.9268 - dense_vowel_acc: 0.9722 - dense_consonant_acc: 0.9745 - val_loss: 0.1378 - val_dense_root_loss: 0.2065 - val_dense_vowel_loss: 0.0735 - val_dense_consonant_loss: 0.0649 - val_dense_root_acc: 0.9439 - val_dense_vowel_acc: 0.9817 - val_dense_consonant_acc: 0.9815\n",
      "Epoch 16/50\n",
      "721/721 [==============================] - 115s 159ms/step - loss: 0.1676 - dense_root_loss: 0.2456 - dense_vowel_loss: 0.0970 - dense_consonant_loss: 0.0825 - dense_root_acc: 0.9302 - dense_vowel_acc: 0.9741 - dense_consonant_acc: 0.9760 - val_loss: 0.1328 - val_dense_root_loss: 0.2031 - val_dense_vowel_loss: 0.0687 - val_dense_consonant_loss: 0.0562 - val_dense_root_acc: 0.9436 - val_dense_vowel_acc: 0.9825 - val_dense_consonant_acc: 0.9829\n",
      "Epoch 17/50\n",
      "721/721 [==============================] - 115s 159ms/step - loss: 0.1621 - dense_root_loss: 0.2378 - dense_vowel_loss: 0.0934 - dense_consonant_loss: 0.0794 - dense_root_acc: 0.9324 - dense_vowel_acc: 0.9746 - dense_consonant_acc: 0.9769 - val_loss: 0.1407 - val_dense_root_loss: 0.2140 - val_dense_vowel_loss: 0.0770 - val_dense_consonant_loss: 0.0578 - val_dense_root_acc: 0.9415 - val_dense_vowel_acc: 0.9815 - val_dense_consonant_acc: 0.9838\n",
      "Epoch 18/50\n",
      "721/721 [==============================] - 115s 160ms/step - loss: 0.1562 - dense_root_loss: 0.2280 - dense_vowel_loss: 0.0921 - dense_consonant_loss: 0.0767 - dense_root_acc: 0.9348 - dense_vowel_acc: 0.9756 - dense_consonant_acc: 0.9780 - val_loss: 0.1315 - val_dense_root_loss: 0.2015 - val_dense_vowel_loss: 0.0673 - val_dense_consonant_loss: 0.0554 - val_dense_root_acc: 0.9454 - val_dense_vowel_acc: 0.9834 - val_dense_consonant_acc: 0.9841\n",
      "Epoch 19/50\n",
      "721/721 [==============================] - 116s 160ms/step - loss: 0.1530 - dense_root_loss: 0.2230 - dense_vowel_loss: 0.0905 - dense_consonant_loss: 0.0755 - dense_root_acc: 0.9354 - dense_vowel_acc: 0.9756 - dense_consonant_acc: 0.9780 - val_loss: 0.1369 - val_dense_root_loss: 0.2127 - val_dense_vowel_loss: 0.0639 - val_dense_consonant_loss: 0.0582 - val_dense_root_acc: 0.9408 - val_dense_vowel_acc: 0.9841 - val_dense_consonant_acc: 0.9831\n",
      "Epoch 20/50\n",
      "721/721 [==============================] - 116s 161ms/step - loss: 0.1465 - dense_root_loss: 0.2143 - dense_vowel_loss: 0.0854 - dense_consonant_loss: 0.0721 - dense_root_acc: 0.9385 - dense_vowel_acc: 0.9768 - dense_consonant_acc: 0.9789 - val_loss: 0.1253 - val_dense_root_loss: 0.1901 - val_dense_vowel_loss: 0.0644 - val_dense_consonant_loss: 0.0564 - val_dense_root_acc: 0.9501 - val_dense_vowel_acc: 0.9842 - val_dense_consonant_acc: 0.9831\n",
      "Epoch 21/50\n",
      "721/721 [==============================] - 116s 161ms/step - loss: 0.1424 - dense_root_loss: 0.2073 - dense_vowel_loss: 0.0834 - dense_consonant_loss: 0.0717 - dense_root_acc: 0.9401 - dense_vowel_acc: 0.9778 - dense_consonant_acc: 0.9791 - val_loss: 0.1240 - val_dense_root_loss: 0.1926 - val_dense_vowel_loss: 0.0579 - val_dense_consonant_loss: 0.0530 - val_dense_root_acc: 0.9474 - val_dense_vowel_acc: 0.9856 - val_dense_consonant_acc: 0.9851\n",
      "Epoch 22/50\n",
      "721/721 [==============================] - 116s 161ms/step - loss: 0.1381 - dense_root_loss: 0.2000 - dense_vowel_loss: 0.0816 - dense_consonant_loss: 0.0709 - dense_root_acc: 0.9419 - dense_vowel_acc: 0.9779 - dense_consonant_acc: 0.9794 - val_loss: 0.1242 - val_dense_root_loss: 0.1902 - val_dense_vowel_loss: 0.0653 - val_dense_consonant_loss: 0.0511 - val_dense_root_acc: 0.9515 - val_dense_vowel_acc: 0.9846 - val_dense_consonant_acc: 0.9856\n",
      "Epoch 23/50\n",
      "721/721 [==============================] - 116s 160ms/step - loss: 0.1364 - dense_root_loss: 0.1979 - dense_vowel_loss: 0.0808 - dense_consonant_loss: 0.0689 - dense_root_acc: 0.9430 - dense_vowel_acc: 0.9783 - dense_consonant_acc: 0.9801 - val_loss: 0.1224 - val_dense_root_loss: 0.1878 - val_dense_vowel_loss: 0.0647 - val_dense_consonant_loss: 0.0495 - val_dense_root_acc: 0.9500 - val_dense_vowel_acc: 0.9851 - val_dense_consonant_acc: 0.9859\n",
      "Epoch 24/50\n",
      "721/721 [==============================] - 115s 160ms/step - loss: 0.1336 - dense_root_loss: 0.1947 - dense_vowel_loss: 0.0776 - dense_consonant_loss: 0.0672 - dense_root_acc: 0.9434 - dense_vowel_acc: 0.9793 - dense_consonant_acc: 0.9804 - val_loss: 0.1313 - val_dense_root_loss: 0.2008 - val_dense_vowel_loss: 0.0700 - val_dense_consonant_loss: 0.0535 - val_dense_root_acc: 0.9460 - val_dense_vowel_acc: 0.9833 - val_dense_consonant_acc: 0.9841\n",
      "Epoch 25/50\n",
      "721/721 [==============================] - 115s 159ms/step - loss: 0.1299 - dense_root_loss: 0.1884 - dense_vowel_loss: 0.0768 - dense_consonant_loss: 0.0662 - dense_root_acc: 0.9455 - dense_vowel_acc: 0.9795 - dense_consonant_acc: 0.9806 - val_loss: 0.1279 - val_dense_root_loss: 0.1964 - val_dense_vowel_loss: 0.0641 - val_dense_consonant_loss: 0.0546 - val_dense_root_acc: 0.9473 - val_dense_vowel_acc: 0.9847 - val_dense_consonant_acc: 0.9853\n",
      "Epoch 26/50\n",
      "721/721 [==============================] - 115s 159ms/step - loss: 0.1276 - dense_root_loss: 0.1852 - dense_vowel_loss: 0.0758 - dense_consonant_loss: 0.0639 - dense_root_acc: 0.9466 - dense_vowel_acc: 0.9799 - dense_consonant_acc: 0.9812 - val_loss: 0.1224 - val_dense_root_loss: 0.1874 - val_dense_vowel_loss: 0.0607 - val_dense_consonant_loss: 0.0540 - val_dense_root_acc: 0.9512 - val_dense_vowel_acc: 0.9861 - val_dense_consonant_acc: 0.9855\n",
      "Epoch 27/50\n",
      "721/721 [==============================] - 115s 159ms/step - loss: 0.1231 - dense_root_loss: 0.1775 - dense_vowel_loss: 0.0744 - dense_consonant_loss: 0.0633 - dense_root_acc: 0.9480 - dense_vowel_acc: 0.9803 - dense_consonant_acc: 0.9817 - val_loss: 0.1189 - val_dense_root_loss: 0.1814 - val_dense_vowel_loss: 0.0616 - val_dense_consonant_loss: 0.0512 - val_dense_root_acc: 0.9499 - val_dense_vowel_acc: 0.9848 - val_dense_consonant_acc: 0.9857\n",
      "Epoch 28/50\n",
      "721/721 [==============================] - 114s 159ms/step - loss: 0.1210 - dense_root_loss: 0.1751 - dense_vowel_loss: 0.0717 - dense_consonant_loss: 0.0620 - dense_root_acc: 0.9484 - dense_vowel_acc: 0.9808 - dense_consonant_acc: 0.9822 - val_loss: 0.1180 - val_dense_root_loss: 0.1789 - val_dense_vowel_loss: 0.0609 - val_dense_consonant_loss: 0.0533 - val_dense_root_acc: 0.9520 - val_dense_vowel_acc: 0.9856 - val_dense_consonant_acc: 0.9846\n",
      "Epoch 29/50\n",
      "721/721 [==============================] - 115s 159ms/step - loss: 0.1188 - dense_root_loss: 0.1706 - dense_vowel_loss: 0.0724 - dense_consonant_loss: 0.0615 - dense_root_acc: 0.9501 - dense_vowel_acc: 0.9803 - dense_consonant_acc: 0.9824 - val_loss: 0.1218 - val_dense_root_loss: 0.1865 - val_dense_vowel_loss: 0.0635 - val_dense_consonant_loss: 0.0509 - val_dense_root_acc: 0.9514 - val_dense_vowel_acc: 0.9863 - val_dense_consonant_acc: 0.9855\n",
      "Epoch 30/50\n",
      "721/721 [==============================] - 114s 159ms/step - loss: 0.1153 - dense_root_loss: 0.1667 - dense_vowel_loss: 0.0690 - dense_consonant_loss: 0.0586 - dense_root_acc: 0.9508 - dense_vowel_acc: 0.9818 - dense_consonant_acc: 0.9829 - val_loss: 0.1222 - val_dense_root_loss: 0.1869 - val_dense_vowel_loss: 0.0652 - val_dense_consonant_loss: 0.0498 - val_dense_root_acc: 0.9506 - val_dense_vowel_acc: 0.9854 - val_dense_consonant_acc: 0.9867\n",
      "Epoch 31/50\n",
      "721/721 [==============================] - 114s 159ms/step - loss: 0.1150 - dense_root_loss: 0.1665 - dense_vowel_loss: 0.0686 - dense_consonant_loss: 0.0586 - dense_root_acc: 0.9513 - dense_vowel_acc: 0.9817 - dense_consonant_acc: 0.9835 - val_loss: 0.1163 - val_dense_root_loss: 0.1808 - val_dense_vowel_loss: 0.0562 - val_dense_consonant_loss: 0.0476 - val_dense_root_acc: 0.9536 - val_dense_vowel_acc: 0.9862 - val_dense_consonant_acc: 0.9870\n",
      "Epoch 32/50\n",
      "721/721 [==============================] - 114s 158ms/step - loss: 0.1122 - dense_root_loss: 0.1605 - dense_vowel_loss: 0.0697 - dense_consonant_loss: 0.0580 - dense_root_acc: 0.9528 - dense_vowel_acc: 0.9813 - dense_consonant_acc: 0.9830 - val_loss: 0.1176 - val_dense_root_loss: 0.1819 - val_dense_vowel_loss: 0.0558 - val_dense_consonant_loss: 0.0508 - val_dense_root_acc: 0.9514 - val_dense_vowel_acc: 0.9857 - val_dense_consonant_acc: 0.9858\n",
      "Epoch 33/50\n",
      "721/721 [==============================] - 114s 158ms/step - loss: 0.1101 - dense_root_loss: 0.1581 - dense_vowel_loss: 0.0670 - dense_consonant_loss: 0.0571 - dense_root_acc: 0.9531 - dense_vowel_acc: 0.9824 - dense_consonant_acc: 0.9834 - val_loss: 0.1173 - val_dense_root_loss: 0.1804 - val_dense_vowel_loss: 0.0613 - val_dense_consonant_loss: 0.0473 - val_dense_root_acc: 0.9518 - val_dense_vowel_acc: 0.9857 - val_dense_consonant_acc: 0.9863\n",
      "Epoch 34/50\n",
      "721/721 [==============================] - 114s 158ms/step - loss: 0.1083 - dense_root_loss: 0.1553 - dense_vowel_loss: 0.0654 - dense_consonant_loss: 0.0572 - dense_root_acc: 0.9539 - dense_vowel_acc: 0.9824 - dense_consonant_acc: 0.9832 - val_loss: 0.1157 - val_dense_root_loss: 0.1779 - val_dense_vowel_loss: 0.0594 - val_dense_consonant_loss: 0.0477 - val_dense_root_acc: 0.9511 - val_dense_vowel_acc: 0.9860 - val_dense_consonant_acc: 0.9863\n",
      "Epoch 35/50\n",
      "721/721 [==============================] - 114s 158ms/step - loss: 0.1063 - dense_root_loss: 0.1514 - dense_vowel_loss: 0.0665 - dense_consonant_loss: 0.0561 - dense_root_acc: 0.9553 - dense_vowel_acc: 0.9823 - dense_consonant_acc: 0.9835 - val_loss: 0.1153 - val_dense_root_loss: 0.1799 - val_dense_vowel_loss: 0.0551 - val_dense_consonant_loss: 0.0461 - val_dense_root_acc: 0.9534 - val_dense_vowel_acc: 0.9861 - val_dense_consonant_acc: 0.9872\n",
      "Epoch 36/50\n",
      "721/721 [==============================] - 115s 159ms/step - loss: 0.1045 - dense_root_loss: 0.1493 - dense_vowel_loss: 0.0649 - dense_consonant_loss: 0.0545 - dense_root_acc: 0.9556 - dense_vowel_acc: 0.9824 - dense_consonant_acc: 0.9840 - val_loss: 0.1195 - val_dense_root_loss: 0.1839 - val_dense_vowel_loss: 0.0592 - val_dense_consonant_loss: 0.0507 - val_dense_root_acc: 0.9508 - val_dense_vowel_acc: 0.9857 - val_dense_consonant_acc: 0.9858\n",
      "Epoch 37/50\n",
      "721/721 [==============================] - 115s 159ms/step - loss: 0.1036 - dense_root_loss: 0.1479 - dense_vowel_loss: 0.0641 - dense_consonant_loss: 0.0546 - dense_root_acc: 0.9558 - dense_vowel_acc: 0.9830 - dense_consonant_acc: 0.9840 - val_loss: 0.1134 - val_dense_root_loss: 0.1737 - val_dense_vowel_loss: 0.0584 - val_dense_consonant_loss: 0.0479 - val_dense_root_acc: 0.9551 - val_dense_vowel_acc: 0.9872 - val_dense_consonant_acc: 0.9865\n",
      "Epoch 38/50\n",
      "721/721 [==============================] - 115s 159ms/step - loss: 0.1027 - dense_root_loss: 0.1466 - dense_vowel_loss: 0.0637 - dense_consonant_loss: 0.0540 - dense_root_acc: 0.9566 - dense_vowel_acc: 0.9831 - dense_consonant_acc: 0.9843 - val_loss: 0.1192 - val_dense_root_loss: 0.1833 - val_dense_vowel_loss: 0.0611 - val_dense_consonant_loss: 0.0491 - val_dense_root_acc: 0.9529 - val_dense_vowel_acc: 0.9857 - val_dense_consonant_acc: 0.9865\n",
      "Epoch 39/50\n",
      "721/721 [==============================] - 115s 159ms/step - loss: 0.1001 - dense_root_loss: 0.1421 - dense_vowel_loss: 0.0625 - dense_consonant_loss: 0.0536 - dense_root_acc: 0.9577 - dense_vowel_acc: 0.9831 - dense_consonant_acc: 0.9845 - val_loss: 0.1246 - val_dense_root_loss: 0.1929 - val_dense_vowel_loss: 0.0590 - val_dense_consonant_loss: 0.0535 - val_dense_root_acc: 0.9508 - val_dense_vowel_acc: 0.9854 - val_dense_consonant_acc: 0.9856\n",
      "Epoch 40/50\n",
      "721/721 [==============================] - 115s 159ms/step - loss: 0.0982 - dense_root_loss: 0.1401 - dense_vowel_loss: 0.0604 - dense_consonant_loss: 0.0522 - dense_root_acc: 0.9581 - dense_vowel_acc: 0.9837 - dense_consonant_acc: 0.9850 - val_loss: 0.1198 - val_dense_root_loss: 0.1871 - val_dense_vowel_loss: 0.0592 - val_dense_consonant_loss: 0.0458 - val_dense_root_acc: 0.9498 - val_dense_vowel_acc: 0.9869 - val_dense_consonant_acc: 0.9871\n",
      "Epoch 41/50\n",
      "721/721 [==============================] - 114s 159ms/step - loss: 0.0980 - dense_root_loss: 0.1396 - dense_vowel_loss: 0.0598 - dense_consonant_loss: 0.0528 - dense_root_acc: 0.9584 - dense_vowel_acc: 0.9839 - dense_consonant_acc: 0.9849 - val_loss: 0.1159 - val_dense_root_loss: 0.1772 - val_dense_vowel_loss: 0.0586 - val_dense_consonant_loss: 0.0508 - val_dense_root_acc: 0.9538 - val_dense_vowel_acc: 0.9861 - val_dense_consonant_acc: 0.9863\n",
      "Epoch 42/50\n",
      "721/721 [==============================] - 114s 159ms/step - loss: 0.0959 - dense_root_loss: 0.1366 - dense_vowel_loss: 0.0594 - dense_consonant_loss: 0.0510 - dense_root_acc: 0.9593 - dense_vowel_acc: 0.9841 - dense_consonant_acc: 0.9853 - val_loss: 0.1192 - val_dense_root_loss: 0.1852 - val_dense_vowel_loss: 0.0572 - val_dense_consonant_loss: 0.0493 - val_dense_root_acc: 0.9526 - val_dense_vowel_acc: 0.9866 - val_dense_consonant_acc: 0.9869\n",
      "Epoch 43/50\n",
      "721/721 [==============================] - 114s 158ms/step - loss: 0.0950 - dense_root_loss: 0.1346 - dense_vowel_loss: 0.0594 - dense_consonant_loss: 0.0512 - dense_root_acc: 0.9594 - dense_vowel_acc: 0.9845 - dense_consonant_acc: 0.9855 - val_loss: 0.1252 - val_dense_root_loss: 0.1898 - val_dense_vowel_loss: 0.0698 - val_dense_consonant_loss: 0.0515 - val_dense_root_acc: 0.9515 - val_dense_vowel_acc: 0.9831 - val_dense_consonant_acc: 0.9861\n",
      "Epoch 44/50\n",
      "721/721 [==============================] - 114s 158ms/step - loss: 0.0930 - dense_root_loss: 0.1318 - dense_vowel_loss: 0.0587 - dense_consonant_loss: 0.0497 - dense_root_acc: 0.9606 - dense_vowel_acc: 0.9842 - dense_consonant_acc: 0.9856 - val_loss: 0.1118 - val_dense_root_loss: 0.1705 - val_dense_vowel_loss: 0.0600 - val_dense_consonant_loss: 0.0463 - val_dense_root_acc: 0.9571 - val_dense_vowel_acc: 0.9866 - val_dense_consonant_acc: 0.9876\n",
      "Epoch 45/50\n",
      "721/721 [==============================] - 114s 158ms/step - loss: 0.0923 - dense_root_loss: 0.1303 - dense_vowel_loss: 0.0586 - dense_consonant_loss: 0.0502 - dense_root_acc: 0.9612 - dense_vowel_acc: 0.9846 - dense_consonant_acc: 0.9856 - val_loss: 0.1154 - val_dense_root_loss: 0.1755 - val_dense_vowel_loss: 0.0579 - val_dense_consonant_loss: 0.0528 - val_dense_root_acc: 0.9566 - val_dense_vowel_acc: 0.9867 - val_dense_consonant_acc: 0.9859\n",
      "Epoch 46/50\n",
      "721/721 [==============================] - 114s 158ms/step - loss: 0.0925 - dense_root_loss: 0.1321 - dense_vowel_loss: 0.0572 - dense_consonant_loss: 0.0485 - dense_root_acc: 0.9604 - dense_vowel_acc: 0.9848 - dense_consonant_acc: 0.9860 - val_loss: 0.1234 - val_dense_root_loss: 0.1912 - val_dense_vowel_loss: 0.0598 - val_dense_consonant_loss: 0.0515 - val_dense_root_acc: 0.9525 - val_dense_vowel_acc: 0.9861 - val_dense_consonant_acc: 0.9862\n",
      "Epoch 47/50\n",
      "721/721 [==============================] - 114s 158ms/step - loss: 0.0911 - dense_root_loss: 0.1287 - dense_vowel_loss: 0.0581 - dense_consonant_loss: 0.0490 - dense_root_acc: 0.9615 - dense_vowel_acc: 0.9846 - dense_consonant_acc: 0.9858 - val_loss: 0.1155 - val_dense_root_loss: 0.1783 - val_dense_vowel_loss: 0.0587 - val_dense_consonant_loss: 0.0469 - val_dense_root_acc: 0.9567 - val_dense_vowel_acc: 0.9860 - val_dense_consonant_acc: 0.9869\n",
      "Epoch 48/50\n",
      "721/721 [==============================] - 114s 158ms/step - loss: 0.0887 - dense_root_loss: 0.1251 - dense_vowel_loss: 0.0572 - dense_consonant_loss: 0.0474 - dense_root_acc: 0.9624 - dense_vowel_acc: 0.9848 - dense_consonant_acc: 0.9866 - val_loss: 0.1109 - val_dense_root_loss: 0.1719 - val_dense_vowel_loss: 0.0549 - val_dense_consonant_loss: 0.0451 - val_dense_root_acc: 0.9570 - val_dense_vowel_acc: 0.9875 - val_dense_consonant_acc: 0.9877\n",
      "Epoch 49/50\n",
      "721/721 [==============================] - 114s 159ms/step - loss: 0.0888 - dense_root_loss: 0.1253 - dense_vowel_loss: 0.0567 - dense_consonant_loss: 0.0476 - dense_root_acc: 0.9619 - dense_vowel_acc: 0.9845 - dense_consonant_acc: 0.9862 - val_loss: 0.1225 - val_dense_root_loss: 0.1908 - val_dense_vowel_loss: 0.0586 - val_dense_consonant_loss: 0.0501 - val_dense_root_acc: 0.9533 - val_dense_vowel_acc: 0.9869 - val_dense_consonant_acc: 0.9859\n",
      "Epoch 50/50\n",
      "721/721 [==============================] - 114s 158ms/step - loss: 0.0864 - dense_root_loss: 0.1216 - dense_vowel_loss: 0.0549 - dense_consonant_loss: 0.0477 - dense_root_acc: 0.9635 - dense_vowel_acc: 0.9854 - dense_consonant_acc: 0.9863 - val_loss: 0.1134 - val_dense_root_loss: 0.1781 - val_dense_vowel_loss: 0.0519 - val_dense_consonant_loss: 0.0456 - val_dense_root_acc: 0.9575 - val_dense_vowel_acc: 0.9884 - val_dense_consonant_acc: 0.9875\n"
     ]
    },
    {
     "data": {
      "text/plain": [
       "62"
      ]
     },
     "execution_count": 17,
     "metadata": {
      "tags": []
     },
     "output_type": "execute_result"
    }
   ],
   "source": [
    "train_df_full = pd.merge(pd.read_parquet(train_filename), train_df, on='image_id').drop(['image_id'], axis=1)\n",
    "\n",
    "X_train = train_df_full.drop(['grapheme_root', 'vowel_diacritic', 'consonant_diacritic'], axis=1)\n",
    "    \n",
    "# CNN takes images in shape `(batch_size, h, w, channels)`, so reshape the images\n",
    "X_train = X_train.values.reshape(-1, IMG_SIZE, IMG_SIZE, N_CHANNELS)\n",
    "    \n",
    "Y_train_root = pd.get_dummies(train_df_full['grapheme_root']).values\n",
    "Y_train_vowel = pd.get_dummies(train_df_full['vowel_diacritic']).values\n",
    "Y_train_consonant = pd.get_dummies(train_df_full['consonant_diacritic']).values\n",
    "\n",
    "print(f'Training images: {X_train.shape}')\n",
    "print(f'Training labels root: {Y_train_root.shape}')\n",
    "print(f'Training labels vowel: {Y_train_vowel.shape}')\n",
    "print(f'Training labels consonants: {Y_train_consonant.shape}')\n",
    "\n",
    "# Divide the data into training and validation set\n",
    "x_train, x_test, y_train_root, y_test_root, y_train_vowel, y_test_vowel, y_train_consonant, y_test_consonant = train_test_split(X_train, Y_train_root, Y_train_vowel, Y_train_consonant, test_size=0.08, random_state=666)\n",
    "del train_df_full\n",
    "del X_train\n",
    "del Y_train_root, Y_train_vowel, Y_train_consonant\n",
    "\n",
    "# Data augmentation for creating more training data\n",
    "datagen = MultiOutputDataGenerator(\n",
    "    featurewise_center=False,  # set input mean to 0 over the dataset\n",
    "    samplewise_center=False,  # set each sample mean to 0\n",
    "    featurewise_std_normalization=False,  # divide inputs by std of the dataset\n",
    "    samplewise_std_normalization=False,  # divide each input by its std\n",
    "    zca_whitening=False,  # apply ZCA whitening\n",
    "    rotation_range=8,  # randomly rotate images in the range (degrees, 0 to 180)\n",
    "    zoom_range = 0.15, # Randomly zoom image \n",
    "    width_shift_range=0.15,  # randomly shift images horizontally (fraction of total width)\n",
    "    height_shift_range=0.15,  # randomly shift images vertically (fraction of total height)\n",
    "    horizontal_flip=False,  # randomly flip images\n",
    "    vertical_flip=False)  # randomly flip images\n",
    "\n",
    "# This will just calculate parameters required to augment the given data. This won't perform any augmentations\n",
    "datagen.fit(x_train)\n",
    "    \n",
    "# Add saving only the best model\n",
    "mcp_save = ModelCheckpoint(model_filename, save_best_only=True, monitor='val_loss', mode='min')\n",
    "\n",
    "# Fit the model\n",
    "history = model.fit_generator(datagen.flow(x_train, \n",
    "                                           {'dense_root': y_train_root, 'dense_vowel': y_train_vowel, 'dense_consonant': y_train_consonant}, \n",
    "                                           batch_size=batch_size), \n",
    "                              epochs=epochs, \n",
    "                              validation_data=(x_test, [y_test_root, y_test_vowel, y_test_consonant]), \n",
    "                              steps_per_epoch=x_train.shape[0] // batch_size, \n",
    "                              callbacks=[mcp_save], class_weight=class_weights)\n",
    "\n",
    "# Delete to reduce memory usage\n",
    "del x_train\n",
    "del x_test\n",
    "del y_train_root\n",
    "del y_test_root\n",
    "del y_train_vowel\n",
    "del y_test_vowel\n",
    "del y_train_consonant\n",
    "del y_test_consonant\n",
    "gc.collect()"
   ]
  },
  {
   "cell_type": "markdown",
   "metadata": {
    "colab_type": "text",
    "id": "B2lypgXNGsJP"
   },
   "source": [
    "## Plotting Losses and Accuracies"
   ]
  },
  {
   "cell_type": "code",
   "execution_count": 0,
   "metadata": {
    "colab": {},
    "colab_type": "code",
    "id": "3_s8nxDTGsJP"
   },
   "outputs": [],
   "source": [
    "%matplotlib inline\n",
    "def plot_loss(his, epoch, title):\n",
    "    plt.style.use('ggplot')\n",
    "    plt.figure()\n",
    "    plt.plot(np.arange(0, epoch), his.history['loss'], label='train_loss')\n",
    "    plt.plot(np.arange(0, epoch), his.history['dense_root_loss'], label='train_root_loss')\n",
    "    plt.plot(np.arange(0, epoch), his.history['dense_vowel_loss'], label='train_vowel_loss')\n",
    "    plt.plot(np.arange(0, epoch), his.history['dense_consonant_loss'], label='train_consonant_loss')\n",
    "    \n",
    "    plt.plot(np.arange(0, epoch), his.history['val_dense_root_loss'], label='val_train_root_loss')\n",
    "    plt.plot(np.arange(0, epoch), his.history['val_dense_vowel_loss'], label='val_train_vowel_loss')\n",
    "    plt.plot(np.arange(0, epoch), his.history['val_dense_consonant_loss'], label='val_train_consonant_loss')\n",
    "    \n",
    "    plt.title(title)\n",
    "    plt.xlabel('Epoch #')\n",
    "    plt.ylabel('Loss')\n",
    "    plt.legend(loc='upper right')\n",
    "    plt.show()\n",
    "\n",
    "def plot_acc(his, epoch, title):\n",
    "    plt.style.use('ggplot')\n",
    "    plt.figure()\n",
    "    plt.plot(np.arange(0, epoch), his.history['dense_root_acc'], label='train_root_acc')\n",
    "    plt.plot(np.arange(0, epoch), his.history['dense_vowel_acc'], label='train_vowel_accuracy')\n",
    "    plt.plot(np.arange(0, epoch), his.history['dense_consonant_acc'], label='train_consonant_accuracy')\n",
    "    \n",
    "    plt.plot(np.arange(0, epoch), his.history['val_dense_root_acc'], label='val_root_acc')\n",
    "    plt.plot(np.arange(0, epoch), his.history['val_dense_vowel_acc'], label='val_vowel_accuracy')\n",
    "    plt.plot(np.arange(0, epoch), his.history['val_dense_consonant_acc'], label='val_consonant_accuracy')\n",
    "    plt.title(title)\n",
    "    plt.xlabel('Epoch #')\n",
    "    plt.ylabel('Accuracy')\n",
    "    plt.legend(loc='upper right')\n",
    "    plt.show()"
   ]
  },
  {
   "cell_type": "code",
   "execution_count": 0,
   "metadata": {
    "colab": {
     "base_uri": "https://localhost:8080/",
     "height": 581
    },
    "colab_type": "code",
    "executionInfo": {
     "elapsed": 1010,
     "status": "ok",
     "timestamp": 1584570871051,
     "user": {
      "displayName": "Max Driessen",
      "photoUrl": "",
      "userId": "00614379715334685697"
     },
     "user_tz": -60
    },
    "id": "mFz7sr9VGsJU",
    "outputId": "c1210d88-7cec-4150-eb39-4ae9f8e25acc"
   },
   "outputs": [
    {
     "data": {
      "image/png": "[encoded data removed]",
      "text/plain": [
       "<Figure size 432x288 with 1 Axes>"
      ]
     },
     "metadata": {
      "tags": []
     },
     "output_type": "display_data"
    },
    {
     "data": {
      "image/png": "[encoded data removed]",
      "text/plain": [
       "<Figure size 432x288 with 1 Axes>"
      ]
     },
     "metadata": {
      "tags": []
     },
     "output_type": "display_data"
    }
   ],
   "source": [
    "plot_loss(history, epochs, 'Losses')\n",
    "plot_acc(history, epochs, 'Accuracies')"
   ]
  },
  {
   "cell_type": "code",
   "execution_count": 0,
   "metadata": {
    "colab": {},
    "colab_type": "code",
    "id": "-tHKkSpSSALL"
   },
   "outputs": [],
   "source": [
    "with open(\"output/hist_noclr.pkl\", \"wb\") as f:\n",
    "  pickle.dump(history, f)"
   ]
  }
 ],
 "metadata": {
  "accelerator": "GPU",
  "colab": {
   "collapsed_sections": [],
   "machine_shape": "hm",
   "name": "Training_NoCLR_MuchLearningSuchWow.ipynb",
   "provenance": []
  },
  "kernelspec": {
   "display_name": "Python 3",
   "language": "python",
   "name": "python3"
  },
  "language_info": {
   "codemirror_mode": {
    "name": "ipython",
    "version": 3
   },
   "file_extension": ".py",
   "mimetype": "text/x-python",
   "name": "python",
   "nbconvert_exporter": "python",
   "pygments_lexer": "ipython3",
   "version": "3.7.4"
  }
 },
 "nbformat": 4,
 "nbformat_minor": 1
}
