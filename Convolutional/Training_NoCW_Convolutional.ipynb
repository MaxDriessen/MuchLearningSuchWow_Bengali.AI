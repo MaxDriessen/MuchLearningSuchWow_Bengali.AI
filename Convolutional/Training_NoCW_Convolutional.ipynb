{
 "cells": [
  {
   "cell_type": "markdown",
   "metadata": {
    "colab_type": "text",
    "id": "KHY9GpYYHWub"
   },
   "source": [
    "# Bengali.AI Competition - Model Training (Convolutional)\n",
    "\n",
    "### Team MuchLearningSuchWow\n",
    "\n",
    "This notebook contains the code that we used to train the convolutional network with cyclical learning rate but without class weights. The core of this code (network, training procedure, etc.) is based on [this kernel](https://www.kaggle.com/kaushal2896/bengali-graphemes-starter-eda-multi-output-cnn). This notebook uses the preprocessed data as produced by our preprocessing notebook. Note that this code is not intended to run on kaggle; to run this code on kaggle, add \"/kaggle/\" in front of all filenames."
   ]
  },
  {
   "cell_type": "markdown",
   "metadata": {
    "colab_type": "text",
    "id": "mZDMR2D7HWui"
   },
   "source": [
    "## Imports"
   ]
  },
  {
   "cell_type": "code",
   "execution_count": 0,
   "metadata": {
    "colab": {
     "base_uri": "https://localhost:8080/",
     "height": 99
    },
    "colab_type": "code",
    "executionInfo": {
     "elapsed": 26320,
     "status": "ok",
     "timestamp": 1584571271453,
     "user": {
      "displayName": "Max Driessen",
      "photoUrl": "",
      "userId": "00614379715334685697"
     },
     "user_tz": -60
    },
    "id": "LVaajf3jHWuj",
    "outputId": "bcbd7f30-4e8f-4afe-c7a6-874d3888ef33"
   },
   "outputs": [
    {
     "data": {
      "text/html": [
       "<p style=\"color: red;\">\n",
       "The default version of TensorFlow in Colab will soon switch to TensorFlow 2.x.<br>\n",
       "We recommend you <a href=\"https://www.tensorflow.org/guide/migrate\" target=\"_blank\">upgrade</a> now \n",
       "or ensure your notebook will continue to use TensorFlow 1.x via the <code>%tensorflow_version 1.x</code> magic:\n",
       "<a href=\"https://colab.research.google.com/notebooks/tensorflow_version.ipynb\" target=\"_blank\">more info</a>.</p>\n"
      ],
      "text/plain": [
       "<IPython.core.display.HTML object>"
      ]
     },
     "metadata": {
      "tags": []
     },
     "output_type": "display_data"
    },
    {
     "name": "stderr",
     "output_type": "stream",
     "text": [
      "Using TensorFlow backend.\n"
     ]
    }
   ],
   "source": [
    "import numpy as np\n",
    "import pandas as pd\n",
    "from tqdm.auto import tqdm\n",
    "from glob import glob\n",
    "import time, gc\n",
    "import cv2\n",
    "import os\n",
    "import pickle\n",
    "\n",
    "from tensorflow import keras\n",
    "import matplotlib.image as mpimg\n",
    "from keras.preprocessing.image import ImageDataGenerator\n",
    "from keras.models import Model\n",
    "from keras.models import clone_model\n",
    "from keras.layers import Dense,Conv2D,Flatten,MaxPool2D,Dropout,BatchNormalization,Input\n",
    "from keras.optimizers import Adam\n",
    "from keras.callbacks import ReduceLROnPlateau, Callback, ModelCheckpoint\n",
    "from keras import backend as K\n",
    "from sklearn.model_selection import train_test_split, StratifiedKFold\n",
    "from sklearn.metrics import confusion_matrix\n",
    "import PIL.Image as Image, PIL.ImageDraw as ImageDraw, PIL.ImageFont as ImageFont\n",
    "from matplotlib import pyplot as plt\n",
    "import seaborn as sns"
   ]
  },
  {
   "cell_type": "markdown",
   "metadata": {
    "colab_type": "text",
    "id": "WlS8KyOwHWun"
   },
   "source": [
    "## Constants"
   ]
  },
  {
   "cell_type": "code",
   "execution_count": 0,
   "metadata": {
    "colab": {},
    "colab_type": "code",
    "id": "7IYVdemvHWuo"
   },
   "outputs": [],
   "source": [
    "IMG_SIZE=64\n",
    "N_CHANNELS=1"
   ]
  },
  {
   "cell_type": "markdown",
   "metadata": {
    "colab_type": "text",
    "id": "-0UMr3gRHWus"
   },
   "source": [
    "## Filenames"
   ]
  },
  {
   "cell_type": "code",
   "execution_count": 0,
   "metadata": {
    "colab": {},
    "colab_type": "code",
    "id": "zxcbCF4PHWut"
   },
   "outputs": [],
   "source": [
    "for dirname, _, filenames in os.walk('input'):\n",
    "    for filename in filenames:\n",
    "        print(os.path.join(dirname, filename))"
   ]
  },
  {
   "cell_type": "code",
   "execution_count": 0,
   "metadata": {
    "colab": {},
    "colab_type": "code",
    "id": "e4LfsKtHHWuw"
   },
   "outputs": [],
   "source": [
    "train_df_filename = \"input/bengaliai-cv19/train.csv\"\n",
    "train_filename = \"output/train_image_data_preprocessed.parquet\"\n",
    "model_filename = \"output/best_model_conv_NoCW.hdf5\""
   ]
  },
  {
   "cell_type": "code",
   "execution_count": null,
   "metadata": {},
   "outputs": [],
   "source": [
    "if not os.path.isdir('output'):\n",
    "    os.mkdir('output')"
   ]
  },
  {
   "cell_type": "markdown",
   "metadata": {
    "colab_type": "text",
    "id": "FWKbBHZjHWu0"
   },
   "source": [
    "## Load Dataframes"
   ]
  },
  {
   "cell_type": "code",
   "execution_count": 0,
   "metadata": {
    "colab": {},
    "colab_type": "code",
    "id": "EyU6p0MtHWu1"
   },
   "outputs": [],
   "source": [
    "train_df = pd.read_csv(train_df_filename)"
   ]
  },
  {
   "cell_type": "code",
   "execution_count": 0,
   "metadata": {
    "colab": {
     "base_uri": "https://localhost:8080/",
     "height": 35
    },
    "colab_type": "code",
    "executionInfo": {
     "elapsed": 27490,
     "status": "ok",
     "timestamp": 1584571272653,
     "user": {
      "displayName": "Max Driessen",
      "photoUrl": "",
      "userId": "00614379715334685697"
     },
     "user_tz": -60
    },
    "id": "KOZWosOTHWu3",
    "outputId": "c44a826a-5aaf-4ee8-93b2-4d4cb93ef98a"
   },
   "outputs": [
    {
     "name": "stdout",
     "output_type": "stream",
     "text": [
      "Size of training data: (200840, 5)\n"
     ]
    }
   ],
   "source": [
    "print(f'Size of training data: {train_df.shape}')"
   ]
  },
  {
   "cell_type": "code",
   "execution_count": 0,
   "metadata": {
    "colab": {},
    "colab_type": "code",
    "id": "J2w2n7kIHWu6"
   },
   "outputs": [],
   "source": [
    "train_df = train_df.drop(['grapheme'], axis=1, inplace=False)\n",
    "train_df[['grapheme_root', 'vowel_diacritic', 'consonant_diacritic']] = train_df[['grapheme_root', 'vowel_diacritic', 'consonant_diacritic']].astype('uint8')"
   ]
  },
  {
   "cell_type": "code",
   "execution_count": 0,
   "metadata": {
    "colab": {},
    "colab_type": "code",
    "id": "oJ7h9NF7HWu-"
   },
   "outputs": [],
   "source": [
    "def get_dummies(df):\n",
    "    cols = []\n",
    "    for col in df:\n",
    "        cols.append(pd.get_dummies(df[col].astype(str)))\n",
    "    return pd.concat(cols, axis=1)"
   ]
  },
  {
   "cell_type": "markdown",
   "metadata": {
    "colab_type": "text",
    "id": "MXygcSQ5HWvA"
   },
   "source": [
    "## Building Convolutional Model"
   ]
  },
  {
   "cell_type": "code",
   "execution_count": 0,
   "metadata": {
    "colab": {},
    "colab_type": "code",
    "id": "_rRtXYr-HWvB"
   },
   "outputs": [],
   "source": [
    "def build_convolutional():\n",
    "    inputs = Input(shape = (IMG_SIZE, IMG_SIZE, 1))\n",
    "\n",
    "    model = Conv2D(filters=32, kernel_size=(3, 3), padding='SAME', activation='relu', input_shape=(IMG_SIZE, IMG_SIZE, 1))(inputs)\n",
    "    model = Conv2D(filters=32, kernel_size=(3, 3), padding='SAME', activation='relu')(model)\n",
    "    model = Conv2D(filters=32, kernel_size=(3, 3), padding='SAME', activation='relu')(model)\n",
    "    model = Conv2D(filters=32, kernel_size=(3, 3), padding='SAME', activation='relu')(model)\n",
    "    model = BatchNormalization(momentum=0.15)(model)\n",
    "    model = MaxPool2D(pool_size=(2, 2))(model)\n",
    "    model = Conv2D(filters=32, kernel_size=(5, 5), padding='SAME', activation='relu')(model)\n",
    "    model = Dropout(rate=0.3)(model)\n",
    "\n",
    "    model = Conv2D(filters=64, kernel_size=(3, 3), padding='SAME', activation='relu')(model)\n",
    "    model = Conv2D(filters=64, kernel_size=(3, 3), padding='SAME', activation='relu')(model)\n",
    "    model = Conv2D(filters=64, kernel_size=(3, 3), padding='SAME', activation='relu')(model)\n",
    "    model = Conv2D(filters=64, kernel_size=(3, 3), padding='SAME', activation='relu')(model)\n",
    "    model = BatchNormalization(momentum=0.15)(model)\n",
    "    model = MaxPool2D(pool_size=(2, 2))(model)\n",
    "    model = Conv2D(filters=64, kernel_size=(5, 5), padding='SAME', activation='relu')(model)\n",
    "    model = BatchNormalization(momentum=0.15)(model)\n",
    "    model = Dropout(rate=0.3)(model)\n",
    "\n",
    "    model = Conv2D(filters=128, kernel_size=(3, 3), padding='SAME', activation='relu')(model)\n",
    "    model = Conv2D(filters=128, kernel_size=(3, 3), padding='SAME', activation='relu')(model)\n",
    "    model = Conv2D(filters=128, kernel_size=(3, 3), padding='SAME', activation='relu')(model)\n",
    "    model = Conv2D(filters=128, kernel_size=(3, 3), padding='SAME', activation='relu')(model)\n",
    "    model = BatchNormalization(momentum=0.15)(model)\n",
    "    model = MaxPool2D(pool_size=(2, 2))(model)\n",
    "    model = Conv2D(filters=128, kernel_size=(5, 5), padding='SAME', activation='relu')(model)\n",
    "    model = BatchNormalization(momentum=0.15)(model)\n",
    "    model = Dropout(rate=0.3)(model)\n",
    "\n",
    "    model = Conv2D(filters=256, kernel_size=(3, 3), padding='SAME', activation='relu')(model)\n",
    "    model = Conv2D(filters=256, kernel_size=(3, 3), padding='SAME', activation='relu')(model)\n",
    "    model = Conv2D(filters=256, kernel_size=(3, 3), padding='SAME', activation='relu')(model)\n",
    "    model = Conv2D(filters=256, kernel_size=(3, 3), padding='SAME', activation='relu')(model)\n",
    "    model = BatchNormalization(momentum=0.15)(model)\n",
    "    model = MaxPool2D(pool_size=(2, 2))(model)\n",
    "    model = Conv2D(filters=256, kernel_size=(5, 5), padding='SAME', activation='relu')(model)\n",
    "    model = BatchNormalization(momentum=0.15)(model)\n",
    "    model = Dropout(rate=0.3)(model)\n",
    "\n",
    "    model = Flatten()(model)\n",
    "    model = Dense(1024, activation = \"relu\")(model)\n",
    "    model = Dropout(rate=0.3)(model)\n",
    "    dense = Dense(512, activation = \"relu\")(model)\n",
    "\n",
    "    head_root = Dense(168, activation = 'softmax', name='dense_root')(dense)\n",
    "    head_vowel = Dense(11, activation = 'softmax', name='dense_vowel')(dense)\n",
    "    head_consonant = Dense(7, activation = 'softmax', name='dense_consonant')(dense)\n",
    "\n",
    "    model = Model(inputs=inputs, outputs=[head_root, head_vowel, head_consonant])\n",
    "    model.compile(optimizer='adam', loss='categorical_crossentropy', metrics=['accuracy'], loss_weights=[0.5, 0.25, 0.25])\n",
    "    model.summary()\n",
    "    \n",
    "    return model"
   ]
  },
  {
   "cell_type": "code",
   "execution_count": 0,
   "metadata": {
    "colab": {
     "base_uri": "https://localhost:8080/",
     "height": 1000
    },
    "colab_type": "code",
    "executionInfo": {
     "elapsed": 35065,
     "status": "ok",
     "timestamp": 1584571280261,
     "user": {
      "displayName": "Max Driessen",
      "photoUrl": "",
      "userId": "00614379715334685697"
     },
     "user_tz": -60
    },
    "id": "4jGDUJZQHWvE",
    "outputId": "9bae0947-bd39-41ab-c524-0273cdd3e6f2"
   },
   "outputs": [
    {
     "name": "stdout",
     "output_type": "stream",
     "text": [
      "WARNING:tensorflow:From /usr/local/lib/python3.6/dist-packages/keras/backend/tensorflow_backend.py:66: The name tf.get_default_graph is deprecated. Please use tf.compat.v1.get_default_graph instead.\n",
      "\n",
      "WARNING:tensorflow:From /usr/local/lib/python3.6/dist-packages/keras/backend/tensorflow_backend.py:541: The name tf.placeholder is deprecated. Please use tf.compat.v1.placeholder instead.\n",
      "\n",
      "WARNING:tensorflow:From /usr/local/lib/python3.6/dist-packages/keras/backend/tensorflow_backend.py:4432: The name tf.random_uniform is deprecated. Please use tf.random.uniform instead.\n",
      "\n",
      "WARNING:tensorflow:From /usr/local/lib/python3.6/dist-packages/keras/backend/tensorflow_backend.py:190: The name tf.get_default_session is deprecated. Please use tf.compat.v1.get_default_session instead.\n",
      "\n",
      "WARNING:tensorflow:From /usr/local/lib/python3.6/dist-packages/keras/backend/tensorflow_backend.py:197: The name tf.ConfigProto is deprecated. Please use tf.compat.v1.ConfigProto instead.\n",
      "\n",
      "WARNING:tensorflow:From /usr/local/lib/python3.6/dist-packages/keras/backend/tensorflow_backend.py:203: The name tf.Session is deprecated. Please use tf.compat.v1.Session instead.\n",
      "\n",
      "WARNING:tensorflow:From /usr/local/lib/python3.6/dist-packages/keras/backend/tensorflow_backend.py:207: The name tf.global_variables is deprecated. Please use tf.compat.v1.global_variables instead.\n",
      "\n",
      "WARNING:tensorflow:From /usr/local/lib/python3.6/dist-packages/keras/backend/tensorflow_backend.py:216: The name tf.is_variable_initialized is deprecated. Please use tf.compat.v1.is_variable_initialized instead.\n",
      "\n",
      "WARNING:tensorflow:From /usr/local/lib/python3.6/dist-packages/keras/backend/tensorflow_backend.py:223: The name tf.variables_initializer is deprecated. Please use tf.compat.v1.variables_initializer instead.\n",
      "\n",
      "WARNING:tensorflow:From /usr/local/lib/python3.6/dist-packages/keras/backend/tensorflow_backend.py:2041: The name tf.nn.fused_batch_norm is deprecated. Please use tf.compat.v1.nn.fused_batch_norm instead.\n",
      "\n",
      "WARNING:tensorflow:From /usr/local/lib/python3.6/dist-packages/keras/backend/tensorflow_backend.py:148: The name tf.placeholder_with_default is deprecated. Please use tf.compat.v1.placeholder_with_default instead.\n",
      "\n",
      "WARNING:tensorflow:From /usr/local/lib/python3.6/dist-packages/keras/backend/tensorflow_backend.py:4267: The name tf.nn.max_pool is deprecated. Please use tf.nn.max_pool2d instead.\n",
      "\n",
      "WARNING:tensorflow:From /usr/local/lib/python3.6/dist-packages/keras/backend/tensorflow_backend.py:3733: calling dropout (from tensorflow.python.ops.nn_ops) with keep_prob is deprecated and will be removed in a future version.\n",
      "Instructions for updating:\n",
      "Please use `rate` instead of `keep_prob`. Rate should be set to `rate = 1 - keep_prob`.\n",
      "WARNING:tensorflow:From /usr/local/lib/python3.6/dist-packages/keras/optimizers.py:793: The name tf.train.Optimizer is deprecated. Please use tf.compat.v1.train.Optimizer instead.\n",
      "\n",
      "WARNING:tensorflow:From /usr/local/lib/python3.6/dist-packages/keras/backend/tensorflow_backend.py:3576: The name tf.log is deprecated. Please use tf.math.log instead.\n",
      "\n",
      "Model: \"model_1\"\n",
      "__________________________________________________________________________________________________\n",
      "Layer (type)                    Output Shape         Param #     Connected to                     \n",
      "==================================================================================================\n",
      "input_1 (InputLayer)            (None, 64, 64, 1)    0                                            \n",
      "__________________________________________________________________________________________________\n",
      "conv2d_1 (Conv2D)               (None, 64, 64, 32)   320         input_1[0][0]                    \n",
      "__________________________________________________________________________________________________\n",
      "conv2d_2 (Conv2D)               (None, 64, 64, 32)   9248        conv2d_1[0][0]                   \n",
      "__________________________________________________________________________________________________\n",
      "conv2d_3 (Conv2D)               (None, 64, 64, 32)   9248        conv2d_2[0][0]                   \n",
      "__________________________________________________________________________________________________\n",
      "conv2d_4 (Conv2D)               (None, 64, 64, 32)   9248        conv2d_3[0][0]                   \n",
      "__________________________________________________________________________________________________\n",
      "batch_normalization_1 (BatchNor (None, 64, 64, 32)   128         conv2d_4[0][0]                   \n",
      "__________________________________________________________________________________________________\n",
      "max_pooling2d_1 (MaxPooling2D)  (None, 32, 32, 32)   0           batch_normalization_1[0][0]      \n",
      "__________________________________________________________________________________________________\n",
      "conv2d_5 (Conv2D)               (None, 32, 32, 32)   25632       max_pooling2d_1[0][0]            \n",
      "__________________________________________________________________________________________________\n",
      "dropout_1 (Dropout)             (None, 32, 32, 32)   0           conv2d_5[0][0]                   \n",
      "__________________________________________________________________________________________________\n",
      "conv2d_6 (Conv2D)               (None, 32, 32, 64)   18496       dropout_1[0][0]                  \n",
      "__________________________________________________________________________________________________\n",
      "conv2d_7 (Conv2D)               (None, 32, 32, 64)   36928       conv2d_6[0][0]                   \n",
      "__________________________________________________________________________________________________\n",
      "conv2d_8 (Conv2D)               (None, 32, 32, 64)   36928       conv2d_7[0][0]                   \n",
      "__________________________________________________________________________________________________\n",
      "conv2d_9 (Conv2D)               (None, 32, 32, 64)   36928       conv2d_8[0][0]                   \n",
      "__________________________________________________________________________________________________\n",
      "batch_normalization_2 (BatchNor (None, 32, 32, 64)   256         conv2d_9[0][0]                   \n",
      "__________________________________________________________________________________________________\n",
      "max_pooling2d_2 (MaxPooling2D)  (None, 16, 16, 64)   0           batch_normalization_2[0][0]      \n",
      "__________________________________________________________________________________________________\n",
      "conv2d_10 (Conv2D)              (None, 16, 16, 64)   102464      max_pooling2d_2[0][0]            \n",
      "__________________________________________________________________________________________________\n",
      "batch_normalization_3 (BatchNor (None, 16, 16, 64)   256         conv2d_10[0][0]                  \n",
      "__________________________________________________________________________________________________\n",
      "dropout_2 (Dropout)             (None, 16, 16, 64)   0           batch_normalization_3[0][0]      \n",
      "__________________________________________________________________________________________________\n",
      "conv2d_11 (Conv2D)              (None, 16, 16, 128)  73856       dropout_2[0][0]                  \n",
      "__________________________________________________________________________________________________\n",
      "conv2d_12 (Conv2D)              (None, 16, 16, 128)  147584      conv2d_11[0][0]                  \n",
      "__________________________________________________________________________________________________\n",
      "conv2d_13 (Conv2D)              (None, 16, 16, 128)  147584      conv2d_12[0][0]                  \n",
      "__________________________________________________________________________________________________\n",
      "conv2d_14 (Conv2D)              (None, 16, 16, 128)  147584      conv2d_13[0][0]                  \n",
      "__________________________________________________________________________________________________\n",
      "batch_normalization_4 (BatchNor (None, 16, 16, 128)  512         conv2d_14[0][0]                  \n",
      "__________________________________________________________________________________________________\n",
      "max_pooling2d_3 (MaxPooling2D)  (None, 8, 8, 128)    0           batch_normalization_4[0][0]      \n",
      "__________________________________________________________________________________________________\n",
      "conv2d_15 (Conv2D)              (None, 8, 8, 128)    409728      max_pooling2d_3[0][0]            \n",
      "__________________________________________________________________________________________________\n",
      "batch_normalization_5 (BatchNor (None, 8, 8, 128)    512         conv2d_15[0][0]                  \n",
      "__________________________________________________________________________________________________\n",
      "dropout_3 (Dropout)             (None, 8, 8, 128)    0           batch_normalization_5[0][0]      \n",
      "__________________________________________________________________________________________________\n",
      "conv2d_16 (Conv2D)              (None, 8, 8, 256)    295168      dropout_3[0][0]                  \n",
      "__________________________________________________________________________________________________\n",
      "conv2d_17 (Conv2D)              (None, 8, 8, 256)    590080      conv2d_16[0][0]                  \n",
      "__________________________________________________________________________________________________\n",
      "conv2d_18 (Conv2D)              (None, 8, 8, 256)    590080      conv2d_17[0][0]                  \n",
      "__________________________________________________________________________________________________\n",
      "conv2d_19 (Conv2D)              (None, 8, 8, 256)    590080      conv2d_18[0][0]                  \n",
      "__________________________________________________________________________________________________\n",
      "batch_normalization_6 (BatchNor (None, 8, 8, 256)    1024        conv2d_19[0][0]                  \n",
      "__________________________________________________________________________________________________\n",
      "max_pooling2d_4 (MaxPooling2D)  (None, 4, 4, 256)    0           batch_normalization_6[0][0]      \n",
      "__________________________________________________________________________________________________\n",
      "conv2d_20 (Conv2D)              (None, 4, 4, 256)    1638656     max_pooling2d_4[0][0]            \n",
      "__________________________________________________________________________________________________\n",
      "batch_normalization_7 (BatchNor (None, 4, 4, 256)    1024        conv2d_20[0][0]                  \n",
      "__________________________________________________________________________________________________\n",
      "dropout_4 (Dropout)             (None, 4, 4, 256)    0           batch_normalization_7[0][0]      \n",
      "__________________________________________________________________________________________________\n",
      "flatten_1 (Flatten)             (None, 4096)         0           dropout_4[0][0]                  \n",
      "__________________________________________________________________________________________________\n",
      "dense_1 (Dense)                 (None, 1024)         4195328     flatten_1[0][0]                  \n",
      "__________________________________________________________________________________________________\n",
      "dropout_5 (Dropout)             (None, 1024)         0           dense_1[0][0]                    \n",
      "__________________________________________________________________________________________________\n",
      "dense_2 (Dense)                 (None, 512)          524800      dropout_5[0][0]                  \n",
      "__________________________________________________________________________________________________\n",
      "dense_root (Dense)              (None, 168)          86184       dense_2[0][0]                    \n",
      "__________________________________________________________________________________________________\n",
      "dense_vowel (Dense)             (None, 11)           5643        dense_2[0][0]                    \n",
      "__________________________________________________________________________________________________\n",
      "dense_consonant (Dense)         (None, 7)            3591        dense_2[0][0]                    \n",
      "==================================================================================================\n",
      "Total params: 9,735,098\n",
      "Trainable params: 9,733,242\n",
      "Non-trainable params: 1,856\n",
      "__________________________________________________________________________________________________\n"
     ]
    }
   ],
   "source": [
    "model = build_convolutional()"
   ]
  },
  {
   "cell_type": "markdown",
   "metadata": {
    "colab_type": "text",
    "id": "M-9dQcuBHWvG"
   },
   "source": [
    "## Cyclical Learning Rate"
   ]
  },
  {
   "cell_type": "code",
   "execution_count": 0,
   "metadata": {
    "colab": {},
    "colab_type": "code",
    "id": "2pZubnzbHWvH"
   },
   "outputs": [],
   "source": [
    "# Source: https://github.com/keras-team/keras-contrib/blob/master/keras_contrib/callbacks/cyclical_learning_rate.py\n",
    "\n",
    "class CyclicLR(Callback):\n",
    "\n",
    "    def __init__( self, base_lr=0.001, max_lr=0.006, step_size=2000.,\n",
    "                  mode='triangular', gamma=1., scale_fn=None, scale_mode='cycle'):\n",
    "        \n",
    "        super(CyclicLR, self).__init__()\n",
    "\n",
    "        if mode not in ['triangular', 'triangular2', 'exp_range']:\n",
    "            raise KeyError(\"mode must be one of 'triangular', 'triangular2', or 'exp_range'\")\n",
    "        self.base_lr = base_lr\n",
    "        self.max_lr = max_lr\n",
    "        self.step_size = step_size\n",
    "        self.mode = mode\n",
    "        self.gamma = gamma\n",
    "        if scale_fn is None:\n",
    "            if self.mode == 'triangular':\n",
    "                self.scale_fn = lambda x: 1.\n",
    "                self.scale_mode = 'cycle'\n",
    "            elif self.mode == 'triangular2':\n",
    "                self.scale_fn = lambda x: 1 / (2.**(x - 1))\n",
    "                self.scale_mode = 'cycle'\n",
    "            elif self.mode == 'exp_range':\n",
    "                self.scale_fn = lambda x: gamma ** x\n",
    "                self.scale_mode = 'iterations'\n",
    "        else:\n",
    "            self.scale_fn = scale_fn\n",
    "            self.scale_mode = scale_mode\n",
    "        self.clr_iterations = 0.\n",
    "        self.trn_iterations = 0.\n",
    "        self.history = {}\n",
    "\n",
    "        self._reset()\n",
    "\n",
    "    def _reset(self, new_base_lr=None, new_max_lr=None,\n",
    "               new_step_size=None):\n",
    "        \"\"\"Resets cycle iterations.\n",
    "        Optional boundary/step size adjustment.\n",
    "        \"\"\"\n",
    "        if new_base_lr is not None:\n",
    "            self.base_lr = new_base_lr\n",
    "        if new_max_lr is not None:\n",
    "            self.max_lr = new_max_lr\n",
    "        if new_step_size is not None:\n",
    "            self.step_size = new_step_size\n",
    "        self.clr_iterations = 0.\n",
    "\n",
    "    def clr(self):\n",
    "        cycle = np.floor(1 + self.clr_iterations / (2 * self.step_size))\n",
    "        x = np.abs(self.clr_iterations / self.step_size - 2 * cycle + 1)\n",
    "        if self.scale_mode == 'cycle':\n",
    "            return self.base_lr + (self.max_lr - self.base_lr) * \\\n",
    "                np.maximum(0, (1 - x)) * self.scale_fn(cycle)\n",
    "        else:\n",
    "            return self.base_lr + (self.max_lr - self.base_lr) * \\\n",
    "                np.maximum(0, (1 - x)) * self.scale_fn(self.clr_iterations)\n",
    "\n",
    "    def on_train_begin(self, logs={}):\n",
    "        logs = logs or {}\n",
    "\n",
    "        if self.clr_iterations == 0:\n",
    "            K.set_value(self.model.optimizer.lr, self.base_lr)\n",
    "        else:\n",
    "            K.set_value(self.model.optimizer.lr, self.clr())\n",
    "\n",
    "    def on_batch_end(self, epoch, logs=None):\n",
    "        logs = logs or {}\n",
    "        self.trn_iterations += 1\n",
    "        self.clr_iterations += 1\n",
    "        K.set_value(self.model.optimizer.lr, self.clr())\n",
    "\n",
    "        self.history.setdefault(\n",
    "            'lr', []).append(\n",
    "            K.get_value(\n",
    "                self.model.optimizer.lr))\n",
    "        self.history.setdefault('iterations', []).append(self.trn_iterations)\n",
    "\n",
    "        for k, v in logs.items():\n",
    "            self.history.setdefault(k, []).append(v)\n",
    "\n",
    "    def on_epoch_end(self, epoch, logs=None):\n",
    "        logs = logs or {}\n",
    "        logs['lr'] = K.get_value(self.model.optimizer.lr)"
   ]
  },
  {
   "cell_type": "markdown",
   "metadata": {
    "colab_type": "text",
    "id": "Nh227VT2HWvK"
   },
   "source": [
    "## Training"
   ]
  },
  {
   "cell_type": "code",
   "execution_count": 0,
   "metadata": {
    "colab": {},
    "colab_type": "code",
    "id": "KTRW-Y7KHWvL"
   },
   "outputs": [],
   "source": [
    "batch_size = 256\n",
    "epochs = 50"
   ]
  },
  {
   "cell_type": "code",
   "execution_count": 0,
   "metadata": {
    "colab": {},
    "colab_type": "code",
    "id": "ZhY9evF_HWvP"
   },
   "outputs": [],
   "source": [
    "class MultiOutputDataGenerator(keras.preprocessing.image.ImageDataGenerator):\n",
    "\n",
    "    def flow(self, x, y=None, batch_size=32, shuffle=True, sample_weight=None,  \n",
    "             seed=None, save_to_dir=None, save_prefix='', save_format='png', subset=None):\n",
    "\n",
    "        targets = None\n",
    "        target_lengths = {}\n",
    "        ordered_outputs = []\n",
    "        for output, target in y.items():\n",
    "            if targets is None:\n",
    "                targets = target\n",
    "            else:\n",
    "                targets = np.concatenate((targets, target), axis=1)\n",
    "            target_lengths[output] = target.shape[1]\n",
    "            ordered_outputs.append(output)\n",
    "\n",
    "\n",
    "        for flowx, flowy in super().flow(x, targets, batch_size=batch_size, shuffle=shuffle):\n",
    "            target_dict = {}\n",
    "            i = 0\n",
    "            for output in ordered_outputs:\n",
    "                target_length = target_lengths[output]\n",
    "                target_dict[output] = flowy[:, i: i + target_length]\n",
    "                i += target_length\n",
    "\n",
    "            yield flowx, target_dict"
   ]
  },
  {
   "cell_type": "code",
   "execution_count": 0,
   "metadata": {
    "colab": {
     "base_uri": "https://localhost:8080/",
     "height": 1000
    },
    "colab_type": "code",
    "executionInfo": {
     "elapsed": 4001643,
     "status": "ok",
     "timestamp": 1584577092581,
     "user": {
      "displayName": "Max Driessen",
      "photoUrl": "",
      "userId": "00614379715334685697"
     },
     "user_tz": -60
    },
    "id": "HD0JzK6YHWvS",
    "outputId": "a84319bd-8ea9-44a9-c0a5-bbdcc35906c0"
   },
   "outputs": [
    {
     "name": "stdout",
     "output_type": "stream",
     "text": [
      "Training images: (200840, 64, 64, 1)\n",
      "Training labels root: (200840, 168)\n",
      "Training labels vowel: (200840, 11)\n",
      "Training labels consonants: (200840, 7)\n",
      "WARNING:tensorflow:From /tensorflow-1.15.0/python3.6/tensorflow_core/python/ops/math_grad.py:1424: where (from tensorflow.python.ops.array_ops) is deprecated and will be removed in a future version.\n",
      "Instructions for updating:\n",
      "Use tf.where in 2.0, which has the same broadcast rule as np.where\n",
      "WARNING:tensorflow:From /usr/local/lib/python3.6/dist-packages/keras/backend/tensorflow_backend.py:1033: The name tf.assign_add is deprecated. Please use tf.compat.v1.assign_add instead.\n",
      "\n",
      "WARNING:tensorflow:From /usr/local/lib/python3.6/dist-packages/keras/backend/tensorflow_backend.py:1020: The name tf.assign is deprecated. Please use tf.compat.v1.assign instead.\n",
      "\n",
      "Epoch 1/50\n",
      "721/721 [==============================] - 125s 174ms/step - loss: 3.0171 - dense_root_loss: 4.6283 - dense_vowel_loss: 1.7207 - dense_consonant_loss: 1.0911 - dense_root_acc: 0.0414 - dense_vowel_acc: 0.3814 - dense_consonant_acc: 0.6434 - val_loss: 2.5659 - val_dense_root_loss: 4.2117 - val_dense_vowel_loss: 1.0539 - val_dense_consonant_loss: 0.7863 - val_dense_root_acc: 0.0843 - val_dense_vowel_acc: 0.6365 - val_dense_consonant_acc: 0.7216\n",
      "Epoch 2/50\n",
      "721/721 [==============================] - 116s 161ms/step - loss: 1.7522 - dense_root_loss: 2.8581 - dense_vowel_loss: 0.7139 - dense_consonant_loss: 0.5788 - dense_root_acc: 0.2658 - dense_vowel_acc: 0.7491 - dense_consonant_acc: 0.7939 - val_loss: 0.8836 - val_dense_root_loss: 1.4462 - val_dense_vowel_loss: 0.3577 - val_dense_consonant_loss: 0.2843 - val_dense_root_acc: 0.5764 - val_dense_vowel_acc: 0.8839 - val_dense_consonant_acc: 0.9019\n",
      "Epoch 3/50\n",
      "721/721 [==============================] - 116s 161ms/step - loss: 0.8084 - dense_root_loss: 1.2771 - dense_vowel_loss: 0.3804 - dense_consonant_loss: 0.2990 - dense_root_acc: 0.6316 - dense_vowel_acc: 0.8775 - dense_consonant_acc: 0.9022 - val_loss: 0.4219 - val_dense_root_loss: 0.6503 - val_dense_vowel_loss: 0.2059 - val_dense_consonant_loss: 0.1812 - val_dense_root_acc: 0.8134 - val_dense_vowel_acc: 0.9373 - val_dense_consonant_acc: 0.9419\n",
      "Epoch 4/50\n",
      "721/721 [==============================] - 116s 161ms/step - loss: 0.5177 - dense_root_loss: 0.7939 - dense_vowel_loss: 0.2674 - dense_consonant_loss: 0.2153 - dense_root_acc: 0.7740 - dense_vowel_acc: 0.9185 - dense_consonant_acc: 0.9320 - val_loss: 0.3255 - val_dense_root_loss: 0.4898 - val_dense_vowel_loss: 0.1709 - val_dense_consonant_loss: 0.1516 - val_dense_root_acc: 0.8597 - val_dense_vowel_acc: 0.9518 - val_dense_consonant_acc: 0.9523\n",
      "Epoch 5/50\n",
      "721/721 [==============================] - 116s 160ms/step - loss: 0.3765 - dense_root_loss: 0.5707 - dense_vowel_loss: 0.1998 - dense_consonant_loss: 0.1647 - dense_root_acc: 0.8393 - dense_vowel_acc: 0.9420 - dense_consonant_acc: 0.9490 - val_loss: 0.2207 - val_dense_root_loss: 0.3382 - val_dense_vowel_loss: 0.1129 - val_dense_consonant_loss: 0.0934 - val_dense_root_acc: 0.9043 - val_dense_vowel_acc: 0.9706 - val_dense_consonant_acc: 0.9716\n",
      "Epoch 6/50\n",
      "721/721 [==============================] - 115s 159ms/step - loss: 0.2792 - dense_root_loss: 0.4187 - dense_vowel_loss: 0.1524 - dense_consonant_loss: 0.1271 - dense_root_acc: 0.8818 - dense_vowel_acc: 0.9568 - dense_consonant_acc: 0.9616 - val_loss: 0.1817 - val_dense_root_loss: 0.2784 - val_dense_vowel_loss: 0.0902 - val_dense_consonant_loss: 0.0798 - val_dense_root_acc: 0.9221 - val_dense_vowel_acc: 0.9762 - val_dense_consonant_acc: 0.9769\n",
      "Epoch 7/50\n",
      "721/721 [==============================] - 115s 159ms/step - loss: 0.2181 - dense_root_loss: 0.3237 - dense_vowel_loss: 0.1210 - dense_consonant_loss: 0.1040 - dense_root_acc: 0.9069 - dense_vowel_acc: 0.9666 - dense_consonant_acc: 0.9690 - val_loss: 0.1510 - val_dense_root_loss: 0.2290 - val_dense_vowel_loss: 0.0752 - val_dense_consonant_loss: 0.0710 - val_dense_root_acc: 0.9348 - val_dense_vowel_acc: 0.9806 - val_dense_consonant_acc: 0.9795\n",
      "Epoch 8/50\n",
      "721/721 [==============================] - 115s 159ms/step - loss: 0.1678 - dense_root_loss: 0.2455 - dense_vowel_loss: 0.0964 - dense_consonant_loss: 0.0838 - dense_root_acc: 0.9280 - dense_vowel_acc: 0.9731 - dense_consonant_acc: 0.9750 - val_loss: 0.1245 - val_dense_root_loss: 0.1895 - val_dense_vowel_loss: 0.0632 - val_dense_consonant_loss: 0.0556 - val_dense_root_acc: 0.9459 - val_dense_vowel_acc: 0.9839 - val_dense_consonant_acc: 0.9829\n",
      "Epoch 9/50\n",
      "721/721 [==============================] - 115s 159ms/step - loss: 0.1495 - dense_root_loss: 0.2186 - dense_vowel_loss: 0.0852 - dense_consonant_loss: 0.0756 - dense_root_acc: 0.9353 - dense_vowel_acc: 0.9767 - dense_consonant_acc: 0.9769 - val_loss: 0.1310 - val_dense_root_loss: 0.1986 - val_dense_vowel_loss: 0.0686 - val_dense_consonant_loss: 0.0581 - val_dense_root_acc: 0.9459 - val_dense_vowel_acc: 0.9828 - val_dense_consonant_acc: 0.9833\n",
      "Epoch 10/50\n",
      "721/721 [==============================] - 115s 159ms/step - loss: 0.1687 - dense_root_loss: 0.2480 - dense_vowel_loss: 0.0958 - dense_consonant_loss: 0.0830 - dense_root_acc: 0.9278 - dense_vowel_acc: 0.9736 - dense_consonant_acc: 0.9751 - val_loss: 0.1433 - val_dense_root_loss: 0.2184 - val_dense_vowel_loss: 0.0707 - val_dense_consonant_loss: 0.0658 - val_dense_root_acc: 0.9386 - val_dense_vowel_acc: 0.9813 - val_dense_consonant_acc: 0.9806\n",
      "Epoch 11/50\n",
      "721/721 [==============================] - 115s 159ms/step - loss: 0.1949 - dense_root_loss: 0.2875 - dense_vowel_loss: 0.1103 - dense_consonant_loss: 0.0942 - dense_root_acc: 0.9158 - dense_vowel_acc: 0.9687 - dense_consonant_acc: 0.9720 - val_loss: 0.1561 - val_dense_root_loss: 0.2356 - val_dense_vowel_loss: 0.0800 - val_dense_consonant_loss: 0.0734 - val_dense_root_acc: 0.9342 - val_dense_vowel_acc: 0.9785 - val_dense_consonant_acc: 0.9780\n",
      "Epoch 12/50\n",
      "721/721 [==============================] - 115s 159ms/step - loss: 0.2143 - dense_root_loss: 0.3167 - dense_vowel_loss: 0.1214 - dense_consonant_loss: 0.1024 - dense_root_acc: 0.9095 - dense_vowel_acc: 0.9665 - dense_consonant_acc: 0.9692 - val_loss: 0.1657 - val_dense_root_loss: 0.2522 - val_dense_vowel_loss: 0.0897 - val_dense_consonant_loss: 0.0686 - val_dense_root_acc: 0.9295 - val_dense_vowel_acc: 0.9759 - val_dense_consonant_acc: 0.9787\n",
      "Epoch 13/50\n",
      "721/721 [==============================] - 115s 159ms/step - loss: 0.2001 - dense_root_loss: 0.2951 - dense_vowel_loss: 0.1140 - dense_consonant_loss: 0.0963 - dense_root_acc: 0.9153 - dense_vowel_acc: 0.9686 - dense_consonant_acc: 0.9716 - val_loss: 0.1446 - val_dense_root_loss: 0.2196 - val_dense_vowel_loss: 0.0751 - val_dense_consonant_loss: 0.0642 - val_dense_root_acc: 0.9400 - val_dense_vowel_acc: 0.9815 - val_dense_consonant_acc: 0.9810\n",
      "Epoch 14/50\n",
      "721/721 [==============================] - 115s 159ms/step - loss: 0.1603 - dense_root_loss: 0.2332 - dense_vowel_loss: 0.0947 - dense_consonant_loss: 0.0801 - dense_root_acc: 0.9319 - dense_vowel_acc: 0.9739 - dense_consonant_acc: 0.9763 - val_loss: 0.1280 - val_dense_root_loss: 0.1968 - val_dense_vowel_loss: 0.0656 - val_dense_consonant_loss: 0.0527 - val_dense_root_acc: 0.9459 - val_dense_vowel_acc: 0.9832 - val_dense_consonant_acc: 0.9839\n",
      "Epoch 15/50\n",
      "721/721 [==============================] - 115s 159ms/step - loss: 0.1317 - dense_root_loss: 0.1909 - dense_vowel_loss: 0.0776 - dense_consonant_loss: 0.0671 - dense_root_acc: 0.9433 - dense_vowel_acc: 0.9787 - dense_consonant_acc: 0.9800 - val_loss: 0.1148 - val_dense_root_loss: 0.1742 - val_dense_vowel_loss: 0.0604 - val_dense_consonant_loss: 0.0503 - val_dense_root_acc: 0.9525 - val_dense_vowel_acc: 0.9851 - val_dense_consonant_acc: 0.9854\n",
      "Epoch 16/50\n",
      "721/721 [==============================] - 115s 160ms/step - loss: 0.1094 - dense_root_loss: 0.1561 - dense_vowel_loss: 0.0680 - dense_consonant_loss: 0.0573 - dense_root_acc: 0.9532 - dense_vowel_acc: 0.9815 - dense_consonant_acc: 0.9832 - val_loss: 0.1071 - val_dense_root_loss: 0.1638 - val_dense_vowel_loss: 0.0543 - val_dense_consonant_loss: 0.0465 - val_dense_root_acc: 0.9553 - val_dense_vowel_acc: 0.9865 - val_dense_consonant_acc: 0.9868\n",
      "Epoch 17/50\n",
      "721/721 [==============================] - 116s 161ms/step - loss: 0.1001 - dense_root_loss: 0.1415 - dense_vowel_loss: 0.0632 - dense_consonant_loss: 0.0542 - dense_root_acc: 0.9572 - dense_vowel_acc: 0.9827 - dense_consonant_acc: 0.9838 - val_loss: 0.1087 - val_dense_root_loss: 0.1670 - val_dense_vowel_loss: 0.0548 - val_dense_consonant_loss: 0.0460 - val_dense_root_acc: 0.9549 - val_dense_vowel_acc: 0.9867 - val_dense_consonant_acc: 0.9870\n",
      "Epoch 18/50\n",
      "721/721 [==============================] - 116s 160ms/step - loss: 0.1054 - dense_root_loss: 0.1504 - dense_vowel_loss: 0.0638 - dense_consonant_loss: 0.0571 - dense_root_acc: 0.9544 - dense_vowel_acc: 0.9829 - dense_consonant_acc: 0.9829 - val_loss: 0.1139 - val_dense_root_loss: 0.1744 - val_dense_vowel_loss: 0.0578 - val_dense_consonant_loss: 0.0490 - val_dense_root_acc: 0.9525 - val_dense_vowel_acc: 0.9854 - val_dense_consonant_acc: 0.9850\n",
      "Epoch 19/50\n",
      "721/721 [==============================] - 116s 161ms/step - loss: 0.1141 - dense_root_loss: 0.1638 - dense_vowel_loss: 0.0697 - dense_consonant_loss: 0.0590 - dense_root_acc: 0.9502 - dense_vowel_acc: 0.9805 - dense_consonant_acc: 0.9825 - val_loss: 0.1186 - val_dense_root_loss: 0.1785 - val_dense_vowel_loss: 0.0637 - val_dense_consonant_loss: 0.0538 - val_dense_root_acc: 0.9531 - val_dense_vowel_acc: 0.9846 - val_dense_consonant_acc: 0.9845\n",
      "Epoch 20/50\n",
      "721/721 [==============================] - 116s 160ms/step - loss: 0.1247 - dense_root_loss: 0.1807 - dense_vowel_loss: 0.0740 - dense_consonant_loss: 0.0636 - dense_root_acc: 0.9459 - dense_vowel_acc: 0.9797 - dense_consonant_acc: 0.9808 - val_loss: 0.1233 - val_dense_root_loss: 0.1896 - val_dense_vowel_loss: 0.0608 - val_dense_consonant_loss: 0.0534 - val_dense_root_acc: 0.9489 - val_dense_vowel_acc: 0.9851 - val_dense_consonant_acc: 0.9854\n",
      "Epoch 21/50\n",
      "721/721 [==============================] - 115s 160ms/step - loss: 0.1222 - dense_root_loss: 0.1762 - dense_vowel_loss: 0.0731 - dense_consonant_loss: 0.0633 - dense_root_acc: 0.9463 - dense_vowel_acc: 0.9800 - dense_consonant_acc: 0.9812 - val_loss: 0.1161 - val_dense_root_loss: 0.1781 - val_dense_vowel_loss: 0.0568 - val_dense_consonant_loss: 0.0513 - val_dense_root_acc: 0.9522 - val_dense_vowel_acc: 0.9867 - val_dense_consonant_acc: 0.9856\n",
      "Epoch 22/50\n",
      "721/721 [==============================] - 115s 159ms/step - loss: 0.1055 - dense_root_loss: 0.1503 - dense_vowel_loss: 0.0645 - dense_consonant_loss: 0.0570 - dense_root_acc: 0.9545 - dense_vowel_acc: 0.9823 - dense_consonant_acc: 0.9832 - val_loss: 0.1120 - val_dense_root_loss: 0.1716 - val_dense_vowel_loss: 0.0580 - val_dense_consonant_loss: 0.0468 - val_dense_root_acc: 0.9547 - val_dense_vowel_acc: 0.9866 - val_dense_consonant_acc: 0.9866\n",
      "Epoch 23/50\n",
      "721/721 [==============================] - 115s 159ms/step - loss: 0.0921 - dense_root_loss: 0.1299 - dense_vowel_loss: 0.0583 - dense_consonant_loss: 0.0505 - dense_root_acc: 0.9596 - dense_vowel_acc: 0.9840 - dense_consonant_acc: 0.9850 - val_loss: 0.1034 - val_dense_root_loss: 0.1562 - val_dense_vowel_loss: 0.0556 - val_dense_consonant_loss: 0.0457 - val_dense_root_acc: 0.9581 - val_dense_vowel_acc: 0.9867 - val_dense_consonant_acc: 0.9866\n",
      "Epoch 24/50\n",
      "721/721 [==============================] - 114s 159ms/step - loss: 0.0823 - dense_root_loss: 0.1153 - dense_vowel_loss: 0.0530 - dense_consonant_loss: 0.0457 - dense_root_acc: 0.9641 - dense_vowel_acc: 0.9855 - dense_consonant_acc: 0.9864 - val_loss: 0.1019 - val_dense_root_loss: 0.1547 - val_dense_vowel_loss: 0.0540 - val_dense_consonant_loss: 0.0443 - val_dense_root_acc: 0.9592 - val_dense_vowel_acc: 0.9872 - val_dense_consonant_acc: 0.9866\n",
      "Epoch 25/50\n",
      "721/721 [==============================] - 115s 159ms/step - loss: 0.0760 - dense_root_loss: 0.1052 - dense_vowel_loss: 0.0494 - dense_consonant_loss: 0.0440 - dense_root_acc: 0.9670 - dense_vowel_acc: 0.9862 - dense_consonant_acc: 0.9869 - val_loss: 0.1039 - val_dense_root_loss: 0.1572 - val_dense_vowel_loss: 0.0552 - val_dense_consonant_loss: 0.0459 - val_dense_root_acc: 0.9582 - val_dense_vowel_acc: 0.9874 - val_dense_consonant_acc: 0.9872\n",
      "Epoch 26/50\n",
      "721/721 [==============================] - 115s 159ms/step - loss: 0.0780 - dense_root_loss: 0.1084 - dense_vowel_loss: 0.0515 - dense_consonant_loss: 0.0437 - dense_root_acc: 0.9654 - dense_vowel_acc: 0.9856 - dense_consonant_acc: 0.9872 - val_loss: 0.1070 - val_dense_root_loss: 0.1622 - val_dense_vowel_loss: 0.0571 - val_dense_consonant_loss: 0.0466 - val_dense_root_acc: 0.9572 - val_dense_vowel_acc: 0.9866 - val_dense_consonant_acc: 0.9863\n",
      "Epoch 27/50\n",
      "721/721 [==============================] - 115s 159ms/step - loss: 0.0813 - dense_root_loss: 0.1137 - dense_vowel_loss: 0.0520 - dense_consonant_loss: 0.0458 - dense_root_acc: 0.9644 - dense_vowel_acc: 0.9854 - dense_consonant_acc: 0.9863 - val_loss: 0.1107 - val_dense_root_loss: 0.1686 - val_dense_vowel_loss: 0.0579 - val_dense_consonant_loss: 0.0477 - val_dense_root_acc: 0.9578 - val_dense_vowel_acc: 0.9865 - val_dense_consonant_acc: 0.9867\n",
      "Epoch 28/50\n",
      "721/721 [==============================] - 115s 159ms/step - loss: 0.0846 - dense_root_loss: 0.1178 - dense_vowel_loss: 0.0553 - dense_consonant_loss: 0.0473 - dense_root_acc: 0.9632 - dense_vowel_acc: 0.9844 - dense_consonant_acc: 0.9859 - val_loss: 0.1143 - val_dense_root_loss: 0.1739 - val_dense_vowel_loss: 0.0605 - val_dense_consonant_loss: 0.0488 - val_dense_root_acc: 0.9538 - val_dense_vowel_acc: 0.9857 - val_dense_consonant_acc: 0.9858\n",
      "Epoch 29/50\n",
      "721/721 [==============================] - 115s 159ms/step - loss: 0.0855 - dense_root_loss: 0.1204 - dense_vowel_loss: 0.0549 - dense_consonant_loss: 0.0464 - dense_root_acc: 0.9623 - dense_vowel_acc: 0.9846 - dense_consonant_acc: 0.9860 - val_loss: 0.1086 - val_dense_root_loss: 0.1655 - val_dense_vowel_loss: 0.0576 - val_dense_consonant_loss: 0.0458 - val_dense_root_acc: 0.9562 - val_dense_vowel_acc: 0.9862 - val_dense_consonant_acc: 0.9866\n",
      "Epoch 30/50\n",
      "721/721 [==============================] - 115s 159ms/step - loss: 0.0781 - dense_root_loss: 0.1083 - dense_vowel_loss: 0.0508 - dense_consonant_loss: 0.0451 - dense_root_acc: 0.9659 - dense_vowel_acc: 0.9859 - dense_consonant_acc: 0.9866 - val_loss: 0.1061 - val_dense_root_loss: 0.1612 - val_dense_vowel_loss: 0.0533 - val_dense_consonant_loss: 0.0485 - val_dense_root_acc: 0.9575 - val_dense_vowel_acc: 0.9874 - val_dense_consonant_acc: 0.9859\n",
      "Epoch 31/50\n",
      "721/721 [==============================] - 115s 159ms/step - loss: 0.0713 - dense_root_loss: 0.0986 - dense_vowel_loss: 0.0471 - dense_consonant_loss: 0.0410 - dense_root_acc: 0.9688 - dense_vowel_acc: 0.9867 - dense_consonant_acc: 0.9878 - val_loss: 0.1065 - val_dense_root_loss: 0.1623 - val_dense_vowel_loss: 0.0553 - val_dense_consonant_loss: 0.0462 - val_dense_root_acc: 0.9584 - val_dense_vowel_acc: 0.9874 - val_dense_consonant_acc: 0.9871\n",
      "Epoch 32/50\n",
      "721/721 [==============================] - 116s 160ms/step - loss: 0.0662 - dense_root_loss: 0.0899 - dense_vowel_loss: 0.0459 - dense_consonant_loss: 0.0391 - dense_root_acc: 0.9712 - dense_vowel_acc: 0.9873 - dense_consonant_acc: 0.9883 - val_loss: 0.1037 - val_dense_root_loss: 0.1568 - val_dense_vowel_loss: 0.0558 - val_dense_consonant_loss: 0.0453 - val_dense_root_acc: 0.9592 - val_dense_vowel_acc: 0.9870 - val_dense_consonant_acc: 0.9872\n",
      "Epoch 33/50\n",
      "721/721 [==============================] - 115s 160ms/step - loss: 0.0644 - dense_root_loss: 0.0882 - dense_vowel_loss: 0.0427 - dense_consonant_loss: 0.0384 - dense_root_acc: 0.9717 - dense_vowel_acc: 0.9881 - dense_consonant_acc: 0.9887 - val_loss: 0.1054 - val_dense_root_loss: 0.1605 - val_dense_vowel_loss: 0.0558 - val_dense_consonant_loss: 0.0448 - val_dense_root_acc: 0.9584 - val_dense_vowel_acc: 0.9879 - val_dense_consonant_acc: 0.9869\n",
      "Epoch 34/50\n",
      "721/721 [==============================] - 115s 160ms/step - loss: 0.0644 - dense_root_loss: 0.0874 - dense_vowel_loss: 0.0440 - dense_consonant_loss: 0.0387 - dense_root_acc: 0.9720 - dense_vowel_acc: 0.9877 - dense_consonant_acc: 0.9885 - val_loss: 0.1058 - val_dense_root_loss: 0.1611 - val_dense_vowel_loss: 0.0565 - val_dense_consonant_loss: 0.0446 - val_dense_root_acc: 0.9592 - val_dense_vowel_acc: 0.9867 - val_dense_consonant_acc: 0.9871\n",
      "Epoch 35/50\n",
      "721/721 [==============================] - 116s 160ms/step - loss: 0.0661 - dense_root_loss: 0.0902 - dense_vowel_loss: 0.0451 - dense_consonant_loss: 0.0389 - dense_root_acc: 0.9716 - dense_vowel_acc: 0.9872 - dense_consonant_acc: 0.9884 - val_loss: 0.1075 - val_dense_root_loss: 0.1629 - val_dense_vowel_loss: 0.0570 - val_dense_consonant_loss: 0.0473 - val_dense_root_acc: 0.9582 - val_dense_vowel_acc: 0.9863 - val_dense_consonant_acc: 0.9865\n",
      "Epoch 36/50\n",
      "721/721 [==============================] - 115s 159ms/step - loss: 0.0666 - dense_root_loss: 0.0905 - dense_vowel_loss: 0.0457 - dense_consonant_loss: 0.0398 - dense_root_acc: 0.9712 - dense_vowel_acc: 0.9871 - dense_consonant_acc: 0.9881 - val_loss: 0.1101 - val_dense_root_loss: 0.1677 - val_dense_vowel_loss: 0.0561 - val_dense_consonant_loss: 0.0487 - val_dense_root_acc: 0.9589 - val_dense_vowel_acc: 0.9871 - val_dense_consonant_acc: 0.9863\n",
      "Epoch 37/50\n",
      "721/721 [==============================] - 114s 159ms/step - loss: 0.0668 - dense_root_loss: 0.0917 - dense_vowel_loss: 0.0453 - dense_consonant_loss: 0.0386 - dense_root_acc: 0.9709 - dense_vowel_acc: 0.9871 - dense_consonant_acc: 0.9885 - val_loss: 0.1053 - val_dense_root_loss: 0.1601 - val_dense_vowel_loss: 0.0555 - val_dense_consonant_loss: 0.0457 - val_dense_root_acc: 0.9580 - val_dense_vowel_acc: 0.9872 - val_dense_consonant_acc: 0.9867\n",
      "Epoch 38/50\n",
      "721/721 [==============================] - 114s 159ms/step - loss: 0.0629 - dense_root_loss: 0.0859 - dense_vowel_loss: 0.0423 - dense_consonant_loss: 0.0376 - dense_root_acc: 0.9722 - dense_vowel_acc: 0.9880 - dense_consonant_acc: 0.9886 - val_loss: 0.1051 - val_dense_root_loss: 0.1613 - val_dense_vowel_loss: 0.0535 - val_dense_consonant_loss: 0.0442 - val_dense_root_acc: 0.9596 - val_dense_vowel_acc: 0.9874 - val_dense_consonant_acc: 0.9874\n",
      "Epoch 39/50\n",
      "721/721 [==============================] - 114s 158ms/step - loss: 0.0600 - dense_root_loss: 0.0817 - dense_vowel_loss: 0.0414 - dense_consonant_loss: 0.0353 - dense_root_acc: 0.9735 - dense_vowel_acc: 0.9883 - dense_consonant_acc: 0.9894 - val_loss: 0.1047 - val_dense_root_loss: 0.1596 - val_dense_vowel_loss: 0.0546 - val_dense_consonant_loss: 0.0452 - val_dense_root_acc: 0.9600 - val_dense_vowel_acc: 0.9879 - val_dense_consonant_acc: 0.9872\n",
      "Epoch 40/50\n",
      "721/721 [==============================] - 114s 159ms/step - loss: 0.0584 - dense_root_loss: 0.0789 - dense_vowel_loss: 0.0410 - dense_consonant_loss: 0.0349 - dense_root_acc: 0.9745 - dense_vowel_acc: 0.9886 - dense_consonant_acc: 0.9894 - val_loss: 0.1069 - val_dense_root_loss: 0.1639 - val_dense_vowel_loss: 0.0545 - val_dense_consonant_loss: 0.0452 - val_dense_root_acc: 0.9590 - val_dense_vowel_acc: 0.9872 - val_dense_consonant_acc: 0.9875\n",
      "Epoch 41/50\n",
      "721/721 [==============================] - 114s 159ms/step - loss: 0.0572 - dense_root_loss: 0.0764 - dense_vowel_loss: 0.0411 - dense_consonant_loss: 0.0348 - dense_root_acc: 0.9751 - dense_vowel_acc: 0.9885 - dense_consonant_acc: 0.9898 - val_loss: 0.1061 - val_dense_root_loss: 0.1621 - val_dense_vowel_loss: 0.0540 - val_dense_consonant_loss: 0.0463 - val_dense_root_acc: 0.9605 - val_dense_vowel_acc: 0.9875 - val_dense_consonant_acc: 0.9875\n",
      "Epoch 42/50\n",
      "721/721 [==============================] - 114s 159ms/step - loss: 0.0571 - dense_root_loss: 0.0774 - dense_vowel_loss: 0.0400 - dense_consonant_loss: 0.0339 - dense_root_acc: 0.9748 - dense_vowel_acc: 0.9886 - dense_consonant_acc: 0.9898 - val_loss: 0.1063 - val_dense_root_loss: 0.1619 - val_dense_vowel_loss: 0.0563 - val_dense_consonant_loss: 0.0451 - val_dense_root_acc: 0.9600 - val_dense_vowel_acc: 0.9874 - val_dense_consonant_acc: 0.9873\n",
      "Epoch 43/50\n",
      "721/721 [==============================] - 114s 159ms/step - loss: 0.0566 - dense_root_loss: 0.0760 - dense_vowel_loss: 0.0402 - dense_consonant_loss: 0.0341 - dense_root_acc: 0.9753 - dense_vowel_acc: 0.9888 - dense_consonant_acc: 0.9897 - val_loss: 0.1062 - val_dense_root_loss: 0.1628 - val_dense_vowel_loss: 0.0545 - val_dense_consonant_loss: 0.0449 - val_dense_root_acc: 0.9596 - val_dense_vowel_acc: 0.9874 - val_dense_consonant_acc: 0.9881\n",
      "Epoch 44/50\n",
      "721/721 [==============================] - 114s 159ms/step - loss: 0.0567 - dense_root_loss: 0.0760 - dense_vowel_loss: 0.0401 - dense_consonant_loss: 0.0349 - dense_root_acc: 0.9753 - dense_vowel_acc: 0.9887 - dense_consonant_acc: 0.9896 - val_loss: 0.1083 - val_dense_root_loss: 0.1660 - val_dense_vowel_loss: 0.0551 - val_dense_consonant_loss: 0.0460 - val_dense_root_acc: 0.9602 - val_dense_vowel_acc: 0.9875 - val_dense_consonant_acc: 0.9876\n",
      "Epoch 45/50\n",
      "721/721 [==============================] - 114s 159ms/step - loss: 0.0569 - dense_root_loss: 0.0762 - dense_vowel_loss: 0.0405 - dense_consonant_loss: 0.0347 - dense_root_acc: 0.9753 - dense_vowel_acc: 0.9883 - dense_consonant_acc: 0.9897 - val_loss: 0.1088 - val_dense_root_loss: 0.1671 - val_dense_vowel_loss: 0.0551 - val_dense_consonant_loss: 0.0460 - val_dense_root_acc: 0.9592 - val_dense_vowel_acc: 0.9876 - val_dense_consonant_acc: 0.9874\n",
      "Epoch 46/50\n",
      "721/721 [==============================] - 114s 159ms/step - loss: 0.0557 - dense_root_loss: 0.0747 - dense_vowel_loss: 0.0396 - dense_consonant_loss: 0.0337 - dense_root_acc: 0.9759 - dense_vowel_acc: 0.9890 - dense_consonant_acc: 0.9900 - val_loss: 0.1073 - val_dense_root_loss: 0.1642 - val_dense_vowel_loss: 0.0551 - val_dense_consonant_loss: 0.0459 - val_dense_root_acc: 0.9597 - val_dense_vowel_acc: 0.9874 - val_dense_consonant_acc: 0.9869\n",
      "Epoch 47/50\n",
      "721/721 [==============================] - 114s 158ms/step - loss: 0.0543 - dense_root_loss: 0.0722 - dense_vowel_loss: 0.0384 - dense_consonant_loss: 0.0343 - dense_root_acc: 0.9760 - dense_vowel_acc: 0.9892 - dense_consonant_acc: 0.9897 - val_loss: 0.1071 - val_dense_root_loss: 0.1650 - val_dense_vowel_loss: 0.0534 - val_dense_consonant_loss: 0.0452 - val_dense_root_acc: 0.9590 - val_dense_vowel_acc: 0.9882 - val_dense_consonant_acc: 0.9876\n",
      "Epoch 48/50\n",
      "721/721 [==============================] - 114s 159ms/step - loss: 0.0526 - dense_root_loss: 0.0702 - dense_vowel_loss: 0.0380 - dense_consonant_loss: 0.0321 - dense_root_acc: 0.9770 - dense_vowel_acc: 0.9891 - dense_consonant_acc: 0.9903 - val_loss: 0.1065 - val_dense_root_loss: 0.1633 - val_dense_vowel_loss: 0.0552 - val_dense_consonant_loss: 0.0441 - val_dense_root_acc: 0.9605 - val_dense_vowel_acc: 0.9876 - val_dense_consonant_acc: 0.9876\n",
      "Epoch 49/50\n",
      "721/721 [==============================] - 115s 159ms/step - loss: 0.0518 - dense_root_loss: 0.0691 - dense_vowel_loss: 0.0372 - dense_consonant_loss: 0.0315 - dense_root_acc: 0.9773 - dense_vowel_acc: 0.9894 - dense_consonant_acc: 0.9904 - val_loss: 0.1055 - val_dense_root_loss: 0.1618 - val_dense_vowel_loss: 0.0544 - val_dense_consonant_loss: 0.0442 - val_dense_root_acc: 0.9605 - val_dense_vowel_acc: 0.9878 - val_dense_consonant_acc: 0.9881\n",
      "Epoch 50/50\n",
      "721/721 [==============================] - 115s 159ms/step - loss: 0.0528 - dense_root_loss: 0.0701 - dense_vowel_loss: 0.0382 - dense_consonant_loss: 0.0329 - dense_root_acc: 0.9768 - dense_vowel_acc: 0.9891 - dense_consonant_acc: 0.9900 - val_loss: 0.1058 - val_dense_root_loss: 0.1626 - val_dense_vowel_loss: 0.0529 - val_dense_consonant_loss: 0.0452 - val_dense_root_acc: 0.9603 - val_dense_vowel_acc: 0.9883 - val_dense_consonant_acc: 0.9872\n"
     ]
    },
    {
     "data": {
      "text/plain": [
       "62"
      ]
     },
     "execution_count": 15,
     "metadata": {
      "tags": []
     },
     "output_type": "execute_result"
    }
   ],
   "source": [
    "train_df_full = pd.merge(pd.read_parquet(train_filename), train_df, on='image_id').drop(['image_id'], axis=1)\n",
    "\n",
    "X_train = train_df_full.drop(['grapheme_root', 'vowel_diacritic', 'consonant_diacritic'], axis=1)\n",
    "    \n",
    "# CNN takes images in shape `(batch_size, h, w, channels)`, so reshape the images\n",
    "X_train = X_train.values.reshape(-1, IMG_SIZE, IMG_SIZE, N_CHANNELS)\n",
    "    \n",
    "Y_train_root = pd.get_dummies(train_df_full['grapheme_root']).values\n",
    "Y_train_vowel = pd.get_dummies(train_df_full['vowel_diacritic']).values\n",
    "Y_train_consonant = pd.get_dummies(train_df_full['consonant_diacritic']).values\n",
    "\n",
    "print(f'Training images: {X_train.shape}')\n",
    "print(f'Training labels root: {Y_train_root.shape}')\n",
    "print(f'Training labels vowel: {Y_train_vowel.shape}')\n",
    "print(f'Training labels consonants: {Y_train_consonant.shape}')\n",
    "\n",
    "# Divide the data into training and validation set\n",
    "x_train, x_test, y_train_root, y_test_root, y_train_vowel, y_test_vowel, y_train_consonant, y_test_consonant = train_test_split(X_train, Y_train_root, Y_train_vowel, Y_train_consonant, test_size=0.08, random_state=666)\n",
    "del train_df_full\n",
    "del X_train\n",
    "del Y_train_root, Y_train_vowel, Y_train_consonant\n",
    "\n",
    "# Data augmentation for creating more training data\n",
    "datagen = MultiOutputDataGenerator(\n",
    "    featurewise_center=False,  # set input mean to 0 over the dataset\n",
    "    samplewise_center=False,  # set each sample mean to 0\n",
    "    featurewise_std_normalization=False,  # divide inputs by std of the dataset\n",
    "    samplewise_std_normalization=False,  # divide each input by its std\n",
    "    zca_whitening=False,  # apply ZCA whitening\n",
    "    rotation_range=8,  # randomly rotate images in the range (degrees, 0 to 180)\n",
    "    zoom_range = 0.15, # Randomly zoom image \n",
    "    width_shift_range=0.15,  # randomly shift images horizontally (fraction of total width)\n",
    "    height_shift_range=0.15,  # randomly shift images vertically (fraction of total height)\n",
    "    horizontal_flip=False,  # randomly flip images\n",
    "    vertical_flip=False)  # randomly flip images\n",
    "\n",
    "# This will just calculate parameters required to augment the given data. This won't perform any augmentations\n",
    "datagen.fit(x_train)\n",
    "    \n",
    "# Cyclic Learning Rate\n",
    "clr = CyclicLR(mode='triangular2',\n",
    "               base_lr=0.00001,\n",
    "               max_lr=0.001,\n",
    "               step_size=4 * (x_train.shape[0] // batch_size))\n",
    "    \n",
    "# Add saving only the best model\n",
    "mcp_save = ModelCheckpoint(model_filename, save_best_only=True, monitor='val_loss', mode='min')\n",
    "\n",
    "# Fit the model\n",
    "history = model.fit_generator(datagen.flow(x_train, \n",
    "                                           {'dense_root': y_train_root, 'dense_vowel': y_train_vowel, 'dense_consonant': y_train_consonant}, \n",
    "                                           batch_size=batch_size), \n",
    "                              epochs=epochs, \n",
    "                              validation_data=(x_test, [y_test_root, y_test_vowel, y_test_consonant]), \n",
    "                              steps_per_epoch=x_train.shape[0] // batch_size, \n",
    "                              callbacks=[clr, mcp_save])\n",
    "\n",
    "# Delete to reduce memory usage\n",
    "del x_train\n",
    "del x_test\n",
    "del y_train_root\n",
    "del y_test_root\n",
    "del y_train_vowel\n",
    "del y_test_vowel\n",
    "del y_train_consonant\n",
    "del y_test_consonant\n",
    "gc.collect()"
   ]
  },
  {
   "cell_type": "markdown",
   "metadata": {
    "colab_type": "text",
    "id": "ToA3K9jUHWvU"
   },
   "source": [
    "## Plotting Losses and Accuracies"
   ]
  },
  {
   "cell_type": "code",
   "execution_count": 0,
   "metadata": {
    "colab": {},
    "colab_type": "code",
    "id": "uqkJPR69HWvV"
   },
   "outputs": [],
   "source": [
    "%matplotlib inline\n",
    "def plot_loss(his, epoch, title):\n",
    "    plt.style.use('ggplot')\n",
    "    plt.figure()\n",
    "    plt.plot(np.arange(0, epoch), his.history['loss'], label='train_loss')\n",
    "    plt.plot(np.arange(0, epoch), his.history['dense_root_loss'], label='train_root_loss')\n",
    "    plt.plot(np.arange(0, epoch), his.history['dense_vowel_loss'], label='train_vowel_loss')\n",
    "    plt.plot(np.arange(0, epoch), his.history['dense_consonant_loss'], label='train_consonant_loss')\n",
    "    \n",
    "    plt.plot(np.arange(0, epoch), his.history['val_dense_root_loss'], label='val_train_root_loss')\n",
    "    plt.plot(np.arange(0, epoch), his.history['val_dense_vowel_loss'], label='val_train_vowel_loss')\n",
    "    plt.plot(np.arange(0, epoch), his.history['val_dense_consonant_loss'], label='val_train_consonant_loss')\n",
    "    \n",
    "    plt.title(title)\n",
    "    plt.xlabel('Epoch #')\n",
    "    plt.ylabel('Loss')\n",
    "    plt.legend(loc='upper right')\n",
    "    plt.show()\n",
    "\n",
    "def plot_acc(his, epoch, title):\n",
    "    plt.style.use('ggplot')\n",
    "    plt.figure()\n",
    "    plt.plot(np.arange(0, epoch), his.history['dense_root_acc'], label='train_root_acc')\n",
    "    plt.plot(np.arange(0, epoch), his.history['dense_vowel_acc'], label='train_vowel_accuracy')\n",
    "    plt.plot(np.arange(0, epoch), his.history['dense_consonant_acc'], label='train_consonant_accuracy')\n",
    "    \n",
    "    plt.plot(np.arange(0, epoch), his.history['val_dense_root_acc'], label='val_root_acc')\n",
    "    plt.plot(np.arange(0, epoch), his.history['val_dense_vowel_acc'], label='val_vowel_accuracy')\n",
    "    plt.plot(np.arange(0, epoch), his.history['val_dense_consonant_acc'], label='val_consonant_accuracy')\n",
    "    plt.title(title)\n",
    "    plt.xlabel('Epoch #')\n",
    "    plt.ylabel('Accuracy')\n",
    "    plt.legend(loc='upper right')\n",
    "    plt.show()"
   ]
  },
  {
   "cell_type": "code",
   "execution_count": 0,
   "metadata": {
    "colab": {
     "base_uri": "https://localhost:8080/",
     "height": 581
    },
    "colab_type": "code",
    "executionInfo": {
     "elapsed": 773,
     "status": "ok",
     "timestamp": 1584577093349,
     "user": {
      "displayName": "Max Driessen",
      "photoUrl": "",
      "userId": "00614379715334685697"
     },
     "user_tz": -60
    },
    "id": "xOkA8vBdHWvY",
    "outputId": "c4b13f62-8596-4188-dc96-32cb0a3e77c3"
   },
   "outputs": [
    {
     "data": {
      "image/png": "[encoded data removed]",
      "text/plain": [
       "<Figure size 432x288 with 1 Axes>"
      ]
     },
     "metadata": {
      "tags": []
     },
     "output_type": "display_data"
    },
    {
     "data": {
      "image/png": "[encoded data removed]",
      "text/plain": [
       "<Figure size 432x288 with 1 Axes>"
      ]
     },
     "metadata": {
      "tags": []
     },
     "output_type": "display_data"
    }
   ],
   "source": [
    "plot_loss(history, epochs, 'Losses')\n",
    "plot_acc(history, epochs, 'Accuracies')"
   ]
  },
  {
   "cell_type": "code",
   "execution_count": 0,
   "metadata": {
    "colab": {},
    "colab_type": "code",
    "id": "6BVflssfypqR"
   },
   "outputs": [],
   "source": [
    "with open(\"output/hist_nocw.pkl\", \"wb\") as f:\n",
    "  pickle.dump(history, f)"
   ]
  }
 ],
 "metadata": {
  "accelerator": "GPU",
  "colab": {
   "collapsed_sections": [],
   "machine_shape": "hm",
   "name": "Training_NoCW_MuchLearningSuchWow.ipynb",
   "provenance": []
  },
  "kernelspec": {
   "display_name": "Python 3",
   "language": "python",
   "name": "python3"
  },
  "language_info": {
   "codemirror_mode": {
    "name": "ipython",
    "version": 3
   },
   "file_extension": ".py",
   "mimetype": "text/x-python",
   "name": "python",
   "nbconvert_exporter": "python",
   "pygments_lexer": "ipython3",
   "version": "3.7.4"
  }
 },
 "nbformat": 4,
 "nbformat_minor": 1
}
